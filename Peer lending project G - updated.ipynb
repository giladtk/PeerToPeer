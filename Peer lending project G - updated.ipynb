{
 "cells": [
  {
   "cell_type": "code",
   "execution_count": 7,
   "id": "02153048",
   "metadata": {},
   "outputs": [],
   "source": [
    "import numpy as np\n",
    "import pandas as pd \n",
    "import seaborn as sns\n",
    "from datetime import datetime\n",
    "import os\n",
    "\n",
    "import matplotlib.pyplot as plt"
   ]
  },
  {
   "cell_type": "code",
   "execution_count": 109,
   "id": "2d7564dd",
   "metadata": {},
   "outputs": [],
   "source": [
    "# Ignore warnings\n",
    "import warnings\n",
    "warnings.filterwarnings('ignore')"
   ]
  },
  {
   "cell_type": "code",
   "execution_count": 110,
   "id": "9ace19fc",
   "metadata": {},
   "outputs": [
    {
     "data": {
      "text/plain": [
       "500"
      ]
     },
     "execution_count": 110,
     "metadata": {},
     "output_type": "execute_result"
    }
   ],
   "source": [
    "# Better display the output\n",
    "pd.set_option('display.max_columns', None)\n",
    "pd.set_option('display.max_rows', 500)\n",
    "pd.options.display.max_rows"
   ]
  },
  {
   "cell_type": "markdown",
   "id": "7a9a3bb7",
   "metadata": {},
   "source": [
    "## ETL"
   ]
  },
  {
   "cell_type": "code",
   "execution_count": 147,
   "id": "d8a08f85",
   "metadata": {},
   "outputs": [],
   "source": [
    "# Function to convert the date format\n",
    "def convert_date(date_str):\n",
    "    # Parse the date string into a datetime object\n",
    "    date = datetime.strptime(date_str, '%b-%y')\n",
    "    # Format the datetime object into the desired format\n",
    "    formatted_date = date.strftime('%d/%m/%Y')\n",
    "    return formatted_date"
   ]
  },
  {
   "cell_type": "markdown",
   "id": "4f03ddb1",
   "metadata": {},
   "source": [
    "#### Uploading the data"
   ]
  },
  {
   "cell_type": "code",
   "execution_count": 148,
   "id": "feb37c81",
   "metadata": {},
   "outputs": [],
   "source": [
    "# DOWNLOAD DATA\n",
    "os.chdir(r\"G:\\My Drive\\שנה ב\\שנה ב סמסטר ב\\פרויקט דאטא\\Analytics-Based Project_\\y2019\")\n",
    "Q1_18 = pd.read_csv(\"Q1_2018.csv\",low_memory=False)\n",
    "Q2_18 = pd.read_csv(\"Q2_2018.csv\",low_memory=False)\n",
    "Q3_18 = pd.read_csv(\"Q3_2018.csv\",low_memory=False)\n",
    "Q4_18 = pd.read_csv(\"Q4_2018.csv\",low_memory=False)"
   ]
  },
  {
   "cell_type": "code",
   "execution_count": 149,
   "id": "1d9143cb",
   "metadata": {},
   "outputs": [],
   "source": [
    "# DOWNLOAD DATA\n",
    "os.chdir(r'G:\\My Drive\\שנה ב\\שנה ב סמסטר ב\\פרויקט דאטא\\Analytics-Based Project_\\y2019')\n",
    "Q1_19 = pd.read_csv(\"Q1_2019.csv\",low_memory=False)\n",
    "Q2_19 = pd.read_csv(\"Q2_2019.csv\",low_memory=False)\n",
    "Q3_19 = pd.read_csv(\"Q3_2019.csv\",low_memory=False)\n",
    "Q4_19 = pd.read_csv(\"Q4_2019.csv\",low_memory=False)"
   ]
  },
  {
   "cell_type": "markdown",
   "id": "7db6d3ba",
   "metadata": {},
   "source": [
    "### Adding a column of quarter - to preserve that information"
   ]
  },
  {
   "cell_type": "code",
   "execution_count": 150,
   "id": "3dd734bd",
   "metadata": {},
   "outputs": [],
   "source": [
    "Q1_18[\"Qrtr\"] = 1\n",
    "Q2_18[\"Qrtr\"] = 2\n",
    "Q3_18[\"Qrtr\"] = 3\n",
    "Q4_18[\"Qrtr\"] = 4\n",
    "Q1_19[\"Qrtr\"] = 1\n",
    "Q2_19[\"Qrtr\"] = 2\n",
    "Q3_19[\"Qrtr\"] = 3\n",
    "Q4_19[\"Qrtr\"] = 4"
   ]
  },
  {
   "cell_type": "markdown",
   "id": "364cda8e",
   "metadata": {},
   "source": [
    "#### Data Concatenation"
   ]
  },
  {
   "cell_type": "code",
   "execution_count": 151,
   "id": "3088a868",
   "metadata": {},
   "outputs": [],
   "source": [
    "# making 2 big Date Frames\n",
    "all_year_19 = pd.concat([Q1_19,Q2_19,Q3_19,Q4_19])\n",
    "all_year_18 = pd.concat([Q1_18,Q2_18,Q3_18,Q4_18])"
   ]
  },
  {
   "cell_type": "code",
   "execution_count": 152,
   "id": "f63a27c0",
   "metadata": {},
   "outputs": [
    {
     "data": {
      "text/html": [
       "<div>\n",
       "<style scoped>\n",
       "    .dataframe tbody tr th:only-of-type {\n",
       "        vertical-align: middle;\n",
       "    }\n",
       "\n",
       "    .dataframe tbody tr th {\n",
       "        vertical-align: top;\n",
       "    }\n",
       "\n",
       "    .dataframe thead th {\n",
       "        text-align: right;\n",
       "    }\n",
       "</style>\n",
       "<table border=\"1\" class=\"dataframe\">\n",
       "  <thead>\n",
       "    <tr style=\"text-align: right;\">\n",
       "      <th></th>\n",
       "      <th>id</th>\n",
       "      <th>member_id</th>\n",
       "      <th>loan_amnt</th>\n",
       "      <th>funded_amnt</th>\n",
       "      <th>funded_amnt_inv</th>\n",
       "      <th>term</th>\n",
       "      <th>int_rate</th>\n",
       "      <th>installment</th>\n",
       "      <th>grade</th>\n",
       "      <th>sub_grade</th>\n",
       "      <th>emp_title</th>\n",
       "      <th>emp_length</th>\n",
       "      <th>home_ownership</th>\n",
       "      <th>annual_inc</th>\n",
       "      <th>verification_status</th>\n",
       "      <th>issue_d</th>\n",
       "      <th>loan_status</th>\n",
       "      <th>pymnt_plan</th>\n",
       "      <th>url</th>\n",
       "      <th>desc</th>\n",
       "      <th>purpose</th>\n",
       "      <th>title</th>\n",
       "      <th>zip_code</th>\n",
       "      <th>addr_state</th>\n",
       "      <th>dti</th>\n",
       "      <th>delinq_2yrs</th>\n",
       "      <th>earliest_cr_line</th>\n",
       "      <th>fico_range_low</th>\n",
       "      <th>fico_range_high</th>\n",
       "      <th>inq_last_6mths</th>\n",
       "      <th>mths_since_last_delinq</th>\n",
       "      <th>mths_since_last_record</th>\n",
       "      <th>open_acc</th>\n",
       "      <th>pub_rec</th>\n",
       "      <th>revol_bal</th>\n",
       "      <th>revol_util</th>\n",
       "      <th>total_acc</th>\n",
       "      <th>initial_list_status</th>\n",
       "      <th>out_prncp</th>\n",
       "      <th>out_prncp_inv</th>\n",
       "      <th>total_pymnt</th>\n",
       "      <th>total_pymnt_inv</th>\n",
       "      <th>total_rec_prncp</th>\n",
       "      <th>total_rec_int</th>\n",
       "      <th>total_rec_late_fee</th>\n",
       "      <th>recoveries</th>\n",
       "      <th>collection_recovery_fee</th>\n",
       "      <th>last_pymnt_d</th>\n",
       "      <th>last_pymnt_amnt</th>\n",
       "      <th>next_pymnt_d</th>\n",
       "      <th>last_credit_pull_d</th>\n",
       "      <th>last_fico_range_high</th>\n",
       "      <th>last_fico_range_low</th>\n",
       "      <th>collections_12_mths_ex_med</th>\n",
       "      <th>mths_since_last_major_derog</th>\n",
       "      <th>policy_code</th>\n",
       "      <th>application_type</th>\n",
       "      <th>annual_inc_joint</th>\n",
       "      <th>dti_joint</th>\n",
       "      <th>verification_status_joint</th>\n",
       "      <th>acc_now_delinq</th>\n",
       "      <th>tot_coll_amt</th>\n",
       "      <th>tot_cur_bal</th>\n",
       "      <th>open_acc_6m</th>\n",
       "      <th>open_act_il</th>\n",
       "      <th>open_il_12m</th>\n",
       "      <th>open_il_24m</th>\n",
       "      <th>mths_since_rcnt_il</th>\n",
       "      <th>total_bal_il</th>\n",
       "      <th>il_util</th>\n",
       "      <th>open_rv_12m</th>\n",
       "      <th>open_rv_24m</th>\n",
       "      <th>max_bal_bc</th>\n",
       "      <th>all_util</th>\n",
       "      <th>total_rev_hi_lim</th>\n",
       "      <th>inq_fi</th>\n",
       "      <th>total_cu_tl</th>\n",
       "      <th>inq_last_12m</th>\n",
       "      <th>acc_open_past_24mths</th>\n",
       "      <th>avg_cur_bal</th>\n",
       "      <th>bc_open_to_buy</th>\n",
       "      <th>bc_util</th>\n",
       "      <th>chargeoff_within_12_mths</th>\n",
       "      <th>delinq_amnt</th>\n",
       "      <th>mo_sin_old_il_acct</th>\n",
       "      <th>mo_sin_old_rev_tl_op</th>\n",
       "      <th>mo_sin_rcnt_rev_tl_op</th>\n",
       "      <th>mo_sin_rcnt_tl</th>\n",
       "      <th>mort_acc</th>\n",
       "      <th>mths_since_recent_bc</th>\n",
       "      <th>mths_since_recent_bc_dlq</th>\n",
       "      <th>mths_since_recent_inq</th>\n",
       "      <th>mths_since_recent_revol_delinq</th>\n",
       "      <th>num_accts_ever_120_pd</th>\n",
       "      <th>num_actv_bc_tl</th>\n",
       "      <th>num_actv_rev_tl</th>\n",
       "      <th>num_bc_sats</th>\n",
       "      <th>num_bc_tl</th>\n",
       "      <th>num_il_tl</th>\n",
       "      <th>num_op_rev_tl</th>\n",
       "      <th>num_rev_accts</th>\n",
       "      <th>num_rev_tl_bal_gt_0</th>\n",
       "      <th>num_sats</th>\n",
       "      <th>num_tl_120dpd_2m</th>\n",
       "      <th>num_tl_30dpd</th>\n",
       "      <th>num_tl_90g_dpd_24m</th>\n",
       "      <th>num_tl_op_past_12m</th>\n",
       "      <th>pct_tl_nvr_dlq</th>\n",
       "      <th>percent_bc_gt_75</th>\n",
       "      <th>pub_rec_bankruptcies</th>\n",
       "      <th>tax_liens</th>\n",
       "      <th>tot_hi_cred_lim</th>\n",
       "      <th>total_bal_ex_mort</th>\n",
       "      <th>total_bc_limit</th>\n",
       "      <th>total_il_high_credit_limit</th>\n",
       "      <th>revol_bal_joint</th>\n",
       "      <th>sec_app_fico_range_low</th>\n",
       "      <th>sec_app_fico_range_high</th>\n",
       "      <th>sec_app_earliest_cr_line</th>\n",
       "      <th>sec_app_inq_last_6mths</th>\n",
       "      <th>sec_app_mort_acc</th>\n",
       "      <th>sec_app_open_acc</th>\n",
       "      <th>sec_app_revol_util</th>\n",
       "      <th>sec_app_open_act_il</th>\n",
       "      <th>sec_app_num_rev_accts</th>\n",
       "      <th>sec_app_chargeoff_within_12_mths</th>\n",
       "      <th>sec_app_collections_12_mths_ex_med</th>\n",
       "      <th>sec_app_mths_since_last_major_derog</th>\n",
       "      <th>hardship_flag</th>\n",
       "      <th>hardship_type</th>\n",
       "      <th>hardship_reason</th>\n",
       "      <th>hardship_status</th>\n",
       "      <th>deferral_term</th>\n",
       "      <th>hardship_amount</th>\n",
       "      <th>hardship_start_date</th>\n",
       "      <th>hardship_end_date</th>\n",
       "      <th>payment_plan_start_date</th>\n",
       "      <th>hardship_length</th>\n",
       "      <th>hardship_dpd</th>\n",
       "      <th>hardship_loan_status</th>\n",
       "      <th>orig_projected_additional_accrued_interest</th>\n",
       "      <th>hardship_payoff_balance_amount</th>\n",
       "      <th>hardship_last_payment_amount</th>\n",
       "      <th>debt_settlement_flag</th>\n",
       "      <th>debt_settlement_flag_date</th>\n",
       "      <th>settlement_status</th>\n",
       "      <th>settlement_date</th>\n",
       "      <th>settlement_amount</th>\n",
       "      <th>settlement_percentage</th>\n",
       "      <th>settlement_term</th>\n",
       "      <th>Qrtr</th>\n",
       "    </tr>\n",
       "  </thead>\n",
       "  <tbody>\n",
       "    <tr>\n",
       "      <th>0</th>\n",
       "      <td>76143686</td>\n",
       "      <td>NaN</td>\n",
       "      <td>9000.0</td>\n",
       "      <td>9000.0</td>\n",
       "      <td>9000.0</td>\n",
       "      <td>36 months</td>\n",
       "      <td>15.31%</td>\n",
       "      <td>313.36</td>\n",
       "      <td>C</td>\n",
       "      <td>C5</td>\n",
       "      <td>Senior Case Assistant</td>\n",
       "      <td>9 years</td>\n",
       "      <td>RENT</td>\n",
       "      <td>52000.0</td>\n",
       "      <td>Source Verified</td>\n",
       "      <td>Mar-16</td>\n",
       "      <td>Fully Paid</td>\n",
       "      <td>n</td>\n",
       "      <td>https://lendingclub.com/browse/loanDetail.acti...</td>\n",
       "      <td>NaN</td>\n",
       "      <td>debt_consolidation</td>\n",
       "      <td>Debt consolidation</td>\n",
       "      <td>945xx</td>\n",
       "      <td>CA</td>\n",
       "      <td>18.86</td>\n",
       "      <td>0.0</td>\n",
       "      <td>Nov-99</td>\n",
       "      <td>665.0</td>\n",
       "      <td>669.0</td>\n",
       "      <td>0.0</td>\n",
       "      <td>24.0</td>\n",
       "      <td>NaN</td>\n",
       "      <td>6.0</td>\n",
       "      <td>0.0</td>\n",
       "      <td>11713.0</td>\n",
       "      <td>73.70%</td>\n",
       "      <td>13.0</td>\n",
       "      <td>w</td>\n",
       "      <td>0.00</td>\n",
       "      <td>0.00</td>\n",
       "      <td>10193.651740</td>\n",
       "      <td>10193.65</td>\n",
       "      <td>9000.00</td>\n",
       "      <td>1193.65</td>\n",
       "      <td>0.0</td>\n",
       "      <td>0.00</td>\n",
       "      <td>0.0000</td>\n",
       "      <td>Mar-17</td>\n",
       "      <td>7064.14</td>\n",
       "      <td>NaN</td>\n",
       "      <td>Oct-18</td>\n",
       "      <td>699.0</td>\n",
       "      <td>695.0</td>\n",
       "      <td>0.0</td>\n",
       "      <td>NaN</td>\n",
       "      <td>1.0</td>\n",
       "      <td>Individual</td>\n",
       "      <td>NaN</td>\n",
       "      <td>NaN</td>\n",
       "      <td>NaN</td>\n",
       "      <td>0.0</td>\n",
       "      <td>0.0</td>\n",
       "      <td>52953.0</td>\n",
       "      <td>2.0</td>\n",
       "      <td>1.0</td>\n",
       "      <td>1.0</td>\n",
       "      <td>1.0</td>\n",
       "      <td>4.0</td>\n",
       "      <td>41240.0</td>\n",
       "      <td>NaN</td>\n",
       "      <td>3.0</td>\n",
       "      <td>3.0</td>\n",
       "      <td>3789.0</td>\n",
       "      <td>74.0</td>\n",
       "      <td>15900.0</td>\n",
       "      <td>0.0</td>\n",
       "      <td>1.0</td>\n",
       "      <td>2.0</td>\n",
       "      <td>4.0</td>\n",
       "      <td>8826.0</td>\n",
       "      <td>4187.0</td>\n",
       "      <td>73.7</td>\n",
       "      <td>0.0</td>\n",
       "      <td>0.0</td>\n",
       "      <td>125.0</td>\n",
       "      <td>196.0</td>\n",
       "      <td>1.0</td>\n",
       "      <td>1.0</td>\n",
       "      <td>0.0</td>\n",
       "      <td>1.0</td>\n",
       "      <td>NaN</td>\n",
       "      <td>4.0</td>\n",
       "      <td>NaN</td>\n",
       "      <td>0.0</td>\n",
       "      <td>5.0</td>\n",
       "      <td>5.0</td>\n",
       "      <td>5.0</td>\n",
       "      <td>9.0</td>\n",
       "      <td>3.0</td>\n",
       "      <td>5.0</td>\n",
       "      <td>10.0</td>\n",
       "      <td>5.0</td>\n",
       "      <td>6.0</td>\n",
       "      <td>0.0</td>\n",
       "      <td>0.0</td>\n",
       "      <td>0.0</td>\n",
       "      <td>4.0</td>\n",
       "      <td>92.3</td>\n",
       "      <td>80.0</td>\n",
       "      <td>0.0</td>\n",
       "      <td>0.0</td>\n",
       "      <td>58425.0</td>\n",
       "      <td>52953.0</td>\n",
       "      <td>15900.0</td>\n",
       "      <td>42525.0</td>\n",
       "      <td>NaN</td>\n",
       "      <td>NaN</td>\n",
       "      <td>NaN</td>\n",
       "      <td>NaN</td>\n",
       "      <td>NaN</td>\n",
       "      <td>NaN</td>\n",
       "      <td>NaN</td>\n",
       "      <td>NaN</td>\n",
       "      <td>NaN</td>\n",
       "      <td>NaN</td>\n",
       "      <td>NaN</td>\n",
       "      <td>NaN</td>\n",
       "      <td>NaN</td>\n",
       "      <td>N</td>\n",
       "      <td>NaN</td>\n",
       "      <td>NaN</td>\n",
       "      <td>NaN</td>\n",
       "      <td>NaN</td>\n",
       "      <td>NaN</td>\n",
       "      <td>NaN</td>\n",
       "      <td>NaN</td>\n",
       "      <td>NaN</td>\n",
       "      <td>NaN</td>\n",
       "      <td>NaN</td>\n",
       "      <td>NaN</td>\n",
       "      <td>NaN</td>\n",
       "      <td>NaN</td>\n",
       "      <td>NaN</td>\n",
       "      <td>N</td>\n",
       "      <td>NaN</td>\n",
       "      <td>NaN</td>\n",
       "      <td>NaN</td>\n",
       "      <td>NaN</td>\n",
       "      <td>NaN</td>\n",
       "      <td>NaN</td>\n",
       "      <td>1</td>\n",
       "    </tr>\n",
       "    <tr>\n",
       "      <th>1</th>\n",
       "      <td>76132182</td>\n",
       "      <td>NaN</td>\n",
       "      <td>24000.0</td>\n",
       "      <td>24000.0</td>\n",
       "      <td>24000.0</td>\n",
       "      <td>60 months</td>\n",
       "      <td>6.49%</td>\n",
       "      <td>469.48</td>\n",
       "      <td>A</td>\n",
       "      <td>A2</td>\n",
       "      <td>Production Manager</td>\n",
       "      <td>10+ years</td>\n",
       "      <td>MORTGAGE</td>\n",
       "      <td>92000.0</td>\n",
       "      <td>Not Verified</td>\n",
       "      <td>Mar-16</td>\n",
       "      <td>Current</td>\n",
       "      <td>n</td>\n",
       "      <td>https://lendingclub.com/browse/loanDetail.acti...</td>\n",
       "      <td>NaN</td>\n",
       "      <td>credit_card</td>\n",
       "      <td>Credit card refinancing</td>\n",
       "      <td>370xx</td>\n",
       "      <td>TN</td>\n",
       "      <td>11.77</td>\n",
       "      <td>0.0</td>\n",
       "      <td>Mar-02</td>\n",
       "      <td>765.0</td>\n",
       "      <td>769.0</td>\n",
       "      <td>0.0</td>\n",
       "      <td>NaN</td>\n",
       "      <td>NaN</td>\n",
       "      <td>18.0</td>\n",
       "      <td>0.0</td>\n",
       "      <td>22950.0</td>\n",
       "      <td>21.60%</td>\n",
       "      <td>27.0</td>\n",
       "      <td>w</td>\n",
       "      <td>9712.74</td>\n",
       "      <td>9712.74</td>\n",
       "      <td>17822.930000</td>\n",
       "      <td>17822.93</td>\n",
       "      <td>14287.26</td>\n",
       "      <td>3535.67</td>\n",
       "      <td>0.0</td>\n",
       "      <td>0.00</td>\n",
       "      <td>0.0000</td>\n",
       "      <td>May-19</td>\n",
       "      <td>469.48</td>\n",
       "      <td>Jul-19</td>\n",
       "      <td>Jun-19</td>\n",
       "      <td>814.0</td>\n",
       "      <td>810.0</td>\n",
       "      <td>0.0</td>\n",
       "      <td>NaN</td>\n",
       "      <td>1.0</td>\n",
       "      <td>Individual</td>\n",
       "      <td>NaN</td>\n",
       "      <td>NaN</td>\n",
       "      <td>NaN</td>\n",
       "      <td>0.0</td>\n",
       "      <td>0.0</td>\n",
       "      <td>131135.0</td>\n",
       "      <td>0.0</td>\n",
       "      <td>1.0</td>\n",
       "      <td>1.0</td>\n",
       "      <td>1.0</td>\n",
       "      <td>10.0</td>\n",
       "      <td>6038.0</td>\n",
       "      <td>79.0</td>\n",
       "      <td>1.0</td>\n",
       "      <td>4.0</td>\n",
       "      <td>9467.0</td>\n",
       "      <td>25.0</td>\n",
       "      <td>106400.0</td>\n",
       "      <td>0.0</td>\n",
       "      <td>0.0</td>\n",
       "      <td>2.0</td>\n",
       "      <td>5.0</td>\n",
       "      <td>7285.0</td>\n",
       "      <td>52435.0</td>\n",
       "      <td>21.2</td>\n",
       "      <td>0.0</td>\n",
       "      <td>0.0</td>\n",
       "      <td>122.0</td>\n",
       "      <td>168.0</td>\n",
       "      <td>11.0</td>\n",
       "      <td>10.0</td>\n",
       "      <td>2.0</td>\n",
       "      <td>20.0</td>\n",
       "      <td>NaN</td>\n",
       "      <td>9.0</td>\n",
       "      <td>NaN</td>\n",
       "      <td>0.0</td>\n",
       "      <td>3.0</td>\n",
       "      <td>9.0</td>\n",
       "      <td>8.0</td>\n",
       "      <td>12.0</td>\n",
       "      <td>4.0</td>\n",
       "      <td>16.0</td>\n",
       "      <td>21.0</td>\n",
       "      <td>9.0</td>\n",
       "      <td>18.0</td>\n",
       "      <td>0.0</td>\n",
       "      <td>0.0</td>\n",
       "      <td>0.0</td>\n",
       "      <td>2.0</td>\n",
       "      <td>100.0</td>\n",
       "      <td>0.0</td>\n",
       "      <td>0.0</td>\n",
       "      <td>0.0</td>\n",
       "      <td>232603.0</td>\n",
       "      <td>28988.0</td>\n",
       "      <td>66500.0</td>\n",
       "      <td>7665.0</td>\n",
       "      <td>NaN</td>\n",
       "      <td>NaN</td>\n",
       "      <td>NaN</td>\n",
       "      <td>NaN</td>\n",
       "      <td>NaN</td>\n",
       "      <td>NaN</td>\n",
       "      <td>NaN</td>\n",
       "      <td>NaN</td>\n",
       "      <td>NaN</td>\n",
       "      <td>NaN</td>\n",
       "      <td>NaN</td>\n",
       "      <td>NaN</td>\n",
       "      <td>NaN</td>\n",
       "      <td>N</td>\n",
       "      <td>NaN</td>\n",
       "      <td>NaN</td>\n",
       "      <td>NaN</td>\n",
       "      <td>NaN</td>\n",
       "      <td>NaN</td>\n",
       "      <td>NaN</td>\n",
       "      <td>NaN</td>\n",
       "      <td>NaN</td>\n",
       "      <td>NaN</td>\n",
       "      <td>NaN</td>\n",
       "      <td>NaN</td>\n",
       "      <td>NaN</td>\n",
       "      <td>NaN</td>\n",
       "      <td>NaN</td>\n",
       "      <td>N</td>\n",
       "      <td>NaN</td>\n",
       "      <td>NaN</td>\n",
       "      <td>NaN</td>\n",
       "      <td>NaN</td>\n",
       "      <td>NaN</td>\n",
       "      <td>NaN</td>\n",
       "      <td>1</td>\n",
       "    </tr>\n",
       "    <tr>\n",
       "      <th>2</th>\n",
       "      <td>76143234</td>\n",
       "      <td>NaN</td>\n",
       "      <td>8000.0</td>\n",
       "      <td>8000.0</td>\n",
       "      <td>8000.0</td>\n",
       "      <td>36 months</td>\n",
       "      <td>10.75%</td>\n",
       "      <td>260.97</td>\n",
       "      <td>B</td>\n",
       "      <td>B4</td>\n",
       "      <td>Vp</td>\n",
       "      <td>5 years</td>\n",
       "      <td>RENT</td>\n",
       "      <td>73000.0</td>\n",
       "      <td>Source Verified</td>\n",
       "      <td>Mar-16</td>\n",
       "      <td>Fully Paid</td>\n",
       "      <td>n</td>\n",
       "      <td>https://lendingclub.com/browse/loanDetail.acti...</td>\n",
       "      <td>NaN</td>\n",
       "      <td>debt_consolidation</td>\n",
       "      <td>Debt consolidation</td>\n",
       "      <td>917xx</td>\n",
       "      <td>CA</td>\n",
       "      <td>10.85</td>\n",
       "      <td>0.0</td>\n",
       "      <td>Jan-05</td>\n",
       "      <td>735.0</td>\n",
       "      <td>739.0</td>\n",
       "      <td>2.0</td>\n",
       "      <td>NaN</td>\n",
       "      <td>NaN</td>\n",
       "      <td>5.0</td>\n",
       "      <td>0.0</td>\n",
       "      <td>1824.0</td>\n",
       "      <td>8%</td>\n",
       "      <td>8.0</td>\n",
       "      <td>w</td>\n",
       "      <td>0.00</td>\n",
       "      <td>0.00</td>\n",
       "      <td>9421.150893</td>\n",
       "      <td>9421.15</td>\n",
       "      <td>8000.00</td>\n",
       "      <td>1421.15</td>\n",
       "      <td>0.0</td>\n",
       "      <td>0.00</td>\n",
       "      <td>0.0000</td>\n",
       "      <td>Mar-19</td>\n",
       "      <td>521.90</td>\n",
       "      <td>NaN</td>\n",
       "      <td>May-19</td>\n",
       "      <td>694.0</td>\n",
       "      <td>690.0</td>\n",
       "      <td>0.0</td>\n",
       "      <td>NaN</td>\n",
       "      <td>1.0</td>\n",
       "      <td>Individual</td>\n",
       "      <td>NaN</td>\n",
       "      <td>NaN</td>\n",
       "      <td>NaN</td>\n",
       "      <td>0.0</td>\n",
       "      <td>0.0</td>\n",
       "      <td>62125.0</td>\n",
       "      <td>1.0</td>\n",
       "      <td>2.0</td>\n",
       "      <td>0.0</td>\n",
       "      <td>1.0</td>\n",
       "      <td>13.0</td>\n",
       "      <td>60301.0</td>\n",
       "      <td>85.0</td>\n",
       "      <td>2.0</td>\n",
       "      <td>3.0</td>\n",
       "      <td>854.0</td>\n",
       "      <td>47.0</td>\n",
       "      <td>22800.0</td>\n",
       "      <td>0.0</td>\n",
       "      <td>1.0</td>\n",
       "      <td>2.0</td>\n",
       "      <td>4.0</td>\n",
       "      <td>12425.0</td>\n",
       "      <td>20571.0</td>\n",
       "      <td>6.5</td>\n",
       "      <td>0.0</td>\n",
       "      <td>0.0</td>\n",
       "      <td>134.0</td>\n",
       "      <td>84.0</td>\n",
       "      <td>2.0</td>\n",
       "      <td>2.0</td>\n",
       "      <td>0.0</td>\n",
       "      <td>2.0</td>\n",
       "      <td>NaN</td>\n",
       "      <td>0.0</td>\n",
       "      <td>NaN</td>\n",
       "      <td>0.0</td>\n",
       "      <td>2.0</td>\n",
       "      <td>3.0</td>\n",
       "      <td>2.0</td>\n",
       "      <td>3.0</td>\n",
       "      <td>4.0</td>\n",
       "      <td>3.0</td>\n",
       "      <td>4.0</td>\n",
       "      <td>3.0</td>\n",
       "      <td>5.0</td>\n",
       "      <td>0.0</td>\n",
       "      <td>0.0</td>\n",
       "      <td>0.0</td>\n",
       "      <td>2.0</td>\n",
       "      <td>100.0</td>\n",
       "      <td>50.0</td>\n",
       "      <td>0.0</td>\n",
       "      <td>0.0</td>\n",
       "      <td>78840.0</td>\n",
       "      <td>62125.0</td>\n",
       "      <td>22000.0</td>\n",
       "      <td>56040.0</td>\n",
       "      <td>NaN</td>\n",
       "      <td>NaN</td>\n",
       "      <td>NaN</td>\n",
       "      <td>NaN</td>\n",
       "      <td>NaN</td>\n",
       "      <td>NaN</td>\n",
       "      <td>NaN</td>\n",
       "      <td>NaN</td>\n",
       "      <td>NaN</td>\n",
       "      <td>NaN</td>\n",
       "      <td>NaN</td>\n",
       "      <td>NaN</td>\n",
       "      <td>NaN</td>\n",
       "      <td>N</td>\n",
       "      <td>NaN</td>\n",
       "      <td>NaN</td>\n",
       "      <td>NaN</td>\n",
       "      <td>NaN</td>\n",
       "      <td>NaN</td>\n",
       "      <td>NaN</td>\n",
       "      <td>NaN</td>\n",
       "      <td>NaN</td>\n",
       "      <td>NaN</td>\n",
       "      <td>NaN</td>\n",
       "      <td>NaN</td>\n",
       "      <td>NaN</td>\n",
       "      <td>NaN</td>\n",
       "      <td>NaN</td>\n",
       "      <td>N</td>\n",
       "      <td>NaN</td>\n",
       "      <td>NaN</td>\n",
       "      <td>NaN</td>\n",
       "      <td>NaN</td>\n",
       "      <td>NaN</td>\n",
       "      <td>NaN</td>\n",
       "      <td>1</td>\n",
       "    </tr>\n",
       "    <tr>\n",
       "      <th>3</th>\n",
       "      <td>75710736</td>\n",
       "      <td>NaN</td>\n",
       "      <td>12800.0</td>\n",
       "      <td>12800.0</td>\n",
       "      <td>12800.0</td>\n",
       "      <td>36 months</td>\n",
       "      <td>11.99%</td>\n",
       "      <td>425.09</td>\n",
       "      <td>C</td>\n",
       "      <td>C1</td>\n",
       "      <td>LOGISTICS COORDINATOR</td>\n",
       "      <td>6 years</td>\n",
       "      <td>MORTGAGE</td>\n",
       "      <td>53000.0</td>\n",
       "      <td>Verified</td>\n",
       "      <td>Mar-16</td>\n",
       "      <td>Fully Paid</td>\n",
       "      <td>n</td>\n",
       "      <td>https://lendingclub.com/browse/loanDetail.acti...</td>\n",
       "      <td>NaN</td>\n",
       "      <td>credit_card</td>\n",
       "      <td>Credit card refinancing</td>\n",
       "      <td>330xx</td>\n",
       "      <td>FL</td>\n",
       "      <td>20.99</td>\n",
       "      <td>0.0</td>\n",
       "      <td>Mar-02</td>\n",
       "      <td>665.0</td>\n",
       "      <td>669.0</td>\n",
       "      <td>0.0</td>\n",
       "      <td>NaN</td>\n",
       "      <td>59.0</td>\n",
       "      <td>7.0</td>\n",
       "      <td>1.0</td>\n",
       "      <td>8777.0</td>\n",
       "      <td>79.10%</td>\n",
       "      <td>16.0</td>\n",
       "      <td>w</td>\n",
       "      <td>0.00</td>\n",
       "      <td>0.00</td>\n",
       "      <td>15289.811230</td>\n",
       "      <td>15289.81</td>\n",
       "      <td>12800.00</td>\n",
       "      <td>2489.81</td>\n",
       "      <td>0.0</td>\n",
       "      <td>0.00</td>\n",
       "      <td>0.0000</td>\n",
       "      <td>Apr-19</td>\n",
       "      <td>424.75</td>\n",
       "      <td>NaN</td>\n",
       "      <td>Mar-19</td>\n",
       "      <td>734.0</td>\n",
       "      <td>730.0</td>\n",
       "      <td>0.0</td>\n",
       "      <td>NaN</td>\n",
       "      <td>1.0</td>\n",
       "      <td>Individual</td>\n",
       "      <td>NaN</td>\n",
       "      <td>NaN</td>\n",
       "      <td>NaN</td>\n",
       "      <td>0.0</td>\n",
       "      <td>0.0</td>\n",
       "      <td>221036.0</td>\n",
       "      <td>2.0</td>\n",
       "      <td>2.0</td>\n",
       "      <td>1.0</td>\n",
       "      <td>1.0</td>\n",
       "      <td>9.0</td>\n",
       "      <td>23227.0</td>\n",
       "      <td>68.0</td>\n",
       "      <td>1.0</td>\n",
       "      <td>1.0</td>\n",
       "      <td>3381.0</td>\n",
       "      <td>71.0</td>\n",
       "      <td>11100.0</td>\n",
       "      <td>1.0</td>\n",
       "      <td>0.0</td>\n",
       "      <td>2.0</td>\n",
       "      <td>3.0</td>\n",
       "      <td>31577.0</td>\n",
       "      <td>962.0</td>\n",
       "      <td>87.8</td>\n",
       "      <td>0.0</td>\n",
       "      <td>0.0</td>\n",
       "      <td>124.0</td>\n",
       "      <td>168.0</td>\n",
       "      <td>4.0</td>\n",
       "      <td>4.0</td>\n",
       "      <td>1.0</td>\n",
       "      <td>43.0</td>\n",
       "      <td>NaN</td>\n",
       "      <td>7.0</td>\n",
       "      <td>NaN</td>\n",
       "      <td>0.0</td>\n",
       "      <td>3.0</td>\n",
       "      <td>4.0</td>\n",
       "      <td>3.0</td>\n",
       "      <td>4.0</td>\n",
       "      <td>7.0</td>\n",
       "      <td>4.0</td>\n",
       "      <td>8.0</td>\n",
       "      <td>4.0</td>\n",
       "      <td>7.0</td>\n",
       "      <td>0.0</td>\n",
       "      <td>0.0</td>\n",
       "      <td>0.0</td>\n",
       "      <td>3.0</td>\n",
       "      <td>100.0</td>\n",
       "      <td>100.0</td>\n",
       "      <td>1.0</td>\n",
       "      <td>0.0</td>\n",
       "      <td>235600.0</td>\n",
       "      <td>32004.0</td>\n",
       "      <td>7900.0</td>\n",
       "      <td>34024.0</td>\n",
       "      <td>NaN</td>\n",
       "      <td>NaN</td>\n",
       "      <td>NaN</td>\n",
       "      <td>NaN</td>\n",
       "      <td>NaN</td>\n",
       "      <td>NaN</td>\n",
       "      <td>NaN</td>\n",
       "      <td>NaN</td>\n",
       "      <td>NaN</td>\n",
       "      <td>NaN</td>\n",
       "      <td>NaN</td>\n",
       "      <td>NaN</td>\n",
       "      <td>NaN</td>\n",
       "      <td>N</td>\n",
       "      <td>NaN</td>\n",
       "      <td>NaN</td>\n",
       "      <td>NaN</td>\n",
       "      <td>NaN</td>\n",
       "      <td>NaN</td>\n",
       "      <td>NaN</td>\n",
       "      <td>NaN</td>\n",
       "      <td>NaN</td>\n",
       "      <td>NaN</td>\n",
       "      <td>NaN</td>\n",
       "      <td>NaN</td>\n",
       "      <td>NaN</td>\n",
       "      <td>NaN</td>\n",
       "      <td>NaN</td>\n",
       "      <td>N</td>\n",
       "      <td>NaN</td>\n",
       "      <td>NaN</td>\n",
       "      <td>NaN</td>\n",
       "      <td>NaN</td>\n",
       "      <td>NaN</td>\n",
       "      <td>NaN</td>\n",
       "      <td>1</td>\n",
       "    </tr>\n",
       "    <tr>\n",
       "      <th>4</th>\n",
       "      <td>75858516</td>\n",
       "      <td>NaN</td>\n",
       "      <td>5000.0</td>\n",
       "      <td>5000.0</td>\n",
       "      <td>5000.0</td>\n",
       "      <td>36 months</td>\n",
       "      <td>16.29%</td>\n",
       "      <td>176.51</td>\n",
       "      <td>D</td>\n",
       "      <td>D1</td>\n",
       "      <td>Investigator</td>\n",
       "      <td>10+ years</td>\n",
       "      <td>MORTGAGE</td>\n",
       "      <td>105000.0</td>\n",
       "      <td>Not Verified</td>\n",
       "      <td>Mar-16</td>\n",
       "      <td>Charged Off</td>\n",
       "      <td>n</td>\n",
       "      <td>https://lendingclub.com/browse/loanDetail.acti...</td>\n",
       "      <td>NaN</td>\n",
       "      <td>debt_consolidation</td>\n",
       "      <td>Debt consolidation</td>\n",
       "      <td>210xx</td>\n",
       "      <td>MD</td>\n",
       "      <td>9.07</td>\n",
       "      <td>0.0</td>\n",
       "      <td>Jun-05</td>\n",
       "      <td>710.0</td>\n",
       "      <td>714.0</td>\n",
       "      <td>0.0</td>\n",
       "      <td>24.0</td>\n",
       "      <td>NaN</td>\n",
       "      <td>13.0</td>\n",
       "      <td>0.0</td>\n",
       "      <td>3791.0</td>\n",
       "      <td>67.70%</td>\n",
       "      <td>15.0</td>\n",
       "      <td>w</td>\n",
       "      <td>0.00</td>\n",
       "      <td>0.00</td>\n",
       "      <td>4418.320000</td>\n",
       "      <td>4418.32</td>\n",
       "      <td>2514.29</td>\n",
       "      <td>1168.37</td>\n",
       "      <td>45.0</td>\n",
       "      <td>690.66</td>\n",
       "      <td>124.3188</td>\n",
       "      <td>Apr-18</td>\n",
       "      <td>176.51</td>\n",
       "      <td>NaN</td>\n",
       "      <td>Feb-19</td>\n",
       "      <td>579.0</td>\n",
       "      <td>575.0</td>\n",
       "      <td>0.0</td>\n",
       "      <td>24.0</td>\n",
       "      <td>1.0</td>\n",
       "      <td>Individual</td>\n",
       "      <td>NaN</td>\n",
       "      <td>NaN</td>\n",
       "      <td>NaN</td>\n",
       "      <td>0.0</td>\n",
       "      <td>0.0</td>\n",
       "      <td>391073.0</td>\n",
       "      <td>1.0</td>\n",
       "      <td>9.0</td>\n",
       "      <td>2.0</td>\n",
       "      <td>2.0</td>\n",
       "      <td>1.0</td>\n",
       "      <td>98746.0</td>\n",
       "      <td>104.0</td>\n",
       "      <td>0.0</td>\n",
       "      <td>1.0</td>\n",
       "      <td>3624.0</td>\n",
       "      <td>102.0</td>\n",
       "      <td>5600.0</td>\n",
       "      <td>1.0</td>\n",
       "      <td>0.0</td>\n",
       "      <td>3.0</td>\n",
       "      <td>3.0</td>\n",
       "      <td>32589.0</td>\n",
       "      <td>1809.0</td>\n",
       "      <td>67.7</td>\n",
       "      <td>0.0</td>\n",
       "      <td>0.0</td>\n",
       "      <td>128.0</td>\n",
       "      <td>129.0</td>\n",
       "      <td>15.0</td>\n",
       "      <td>1.0</td>\n",
       "      <td>1.0</td>\n",
       "      <td>15.0</td>\n",
       "      <td>NaN</td>\n",
       "      <td>6.0</td>\n",
       "      <td>NaN</td>\n",
       "      <td>1.0</td>\n",
       "      <td>2.0</td>\n",
       "      <td>2.0</td>\n",
       "      <td>3.0</td>\n",
       "      <td>3.0</td>\n",
       "      <td>11.0</td>\n",
       "      <td>3.0</td>\n",
       "      <td>3.0</td>\n",
       "      <td>2.0</td>\n",
       "      <td>13.0</td>\n",
       "      <td>0.0</td>\n",
       "      <td>0.0</td>\n",
       "      <td>0.0</td>\n",
       "      <td>2.0</td>\n",
       "      <td>92.9</td>\n",
       "      <td>0.0</td>\n",
       "      <td>0.0</td>\n",
       "      <td>0.0</td>\n",
       "      <td>496358.0</td>\n",
       "      <td>102537.0</td>\n",
       "      <td>5600.0</td>\n",
       "      <td>94567.0</td>\n",
       "      <td>NaN</td>\n",
       "      <td>NaN</td>\n",
       "      <td>NaN</td>\n",
       "      <td>NaN</td>\n",
       "      <td>NaN</td>\n",
       "      <td>NaN</td>\n",
       "      <td>NaN</td>\n",
       "      <td>NaN</td>\n",
       "      <td>NaN</td>\n",
       "      <td>NaN</td>\n",
       "      <td>NaN</td>\n",
       "      <td>NaN</td>\n",
       "      <td>NaN</td>\n",
       "      <td>N</td>\n",
       "      <td>NaN</td>\n",
       "      <td>NaN</td>\n",
       "      <td>NaN</td>\n",
       "      <td>NaN</td>\n",
       "      <td>NaN</td>\n",
       "      <td>NaN</td>\n",
       "      <td>NaN</td>\n",
       "      <td>NaN</td>\n",
       "      <td>NaN</td>\n",
       "      <td>NaN</td>\n",
       "      <td>NaN</td>\n",
       "      <td>NaN</td>\n",
       "      <td>NaN</td>\n",
       "      <td>NaN</td>\n",
       "      <td>N</td>\n",
       "      <td>NaN</td>\n",
       "      <td>NaN</td>\n",
       "      <td>NaN</td>\n",
       "      <td>NaN</td>\n",
       "      <td>NaN</td>\n",
       "      <td>NaN</td>\n",
       "      <td>1</td>\n",
       "    </tr>\n",
       "  </tbody>\n",
       "</table>\n",
       "</div>"
      ],
      "text/plain": [
       "         id  member_id  loan_amnt  funded_amnt  funded_amnt_inv        term  \\\n",
       "0  76143686        NaN     9000.0       9000.0           9000.0   36 months   \n",
       "1  76132182        NaN    24000.0      24000.0          24000.0   60 months   \n",
       "2  76143234        NaN     8000.0       8000.0           8000.0   36 months   \n",
       "3  75710736        NaN    12800.0      12800.0          12800.0   36 months   \n",
       "4  75858516        NaN     5000.0       5000.0           5000.0   36 months   \n",
       "\n",
       "  int_rate  installment grade sub_grade              emp_title emp_length  \\\n",
       "0   15.31%       313.36     C        C5  Senior Case Assistant    9 years   \n",
       "1    6.49%       469.48     A        A2     Production Manager  10+ years   \n",
       "2   10.75%       260.97     B        B4                     Vp    5 years   \n",
       "3   11.99%       425.09     C        C1  LOGISTICS COORDINATOR    6 years   \n",
       "4   16.29%       176.51     D        D1           Investigator  10+ years   \n",
       "\n",
       "  home_ownership  annual_inc verification_status issue_d  loan_status  \\\n",
       "0           RENT     52000.0     Source Verified  Mar-16   Fully Paid   \n",
       "1       MORTGAGE     92000.0        Not Verified  Mar-16      Current   \n",
       "2           RENT     73000.0     Source Verified  Mar-16   Fully Paid   \n",
       "3       MORTGAGE     53000.0            Verified  Mar-16   Fully Paid   \n",
       "4       MORTGAGE    105000.0        Not Verified  Mar-16  Charged Off   \n",
       "\n",
       "  pymnt_plan                                                url desc  \\\n",
       "0          n  https://lendingclub.com/browse/loanDetail.acti...  NaN   \n",
       "1          n  https://lendingclub.com/browse/loanDetail.acti...  NaN   \n",
       "2          n  https://lendingclub.com/browse/loanDetail.acti...  NaN   \n",
       "3          n  https://lendingclub.com/browse/loanDetail.acti...  NaN   \n",
       "4          n  https://lendingclub.com/browse/loanDetail.acti...  NaN   \n",
       "\n",
       "              purpose                    title zip_code addr_state    dti  \\\n",
       "0  debt_consolidation       Debt consolidation    945xx         CA  18.86   \n",
       "1         credit_card  Credit card refinancing    370xx         TN  11.77   \n",
       "2  debt_consolidation       Debt consolidation    917xx         CA  10.85   \n",
       "3         credit_card  Credit card refinancing    330xx         FL  20.99   \n",
       "4  debt_consolidation       Debt consolidation    210xx         MD   9.07   \n",
       "\n",
       "   delinq_2yrs earliest_cr_line  fico_range_low  fico_range_high  \\\n",
       "0          0.0           Nov-99           665.0            669.0   \n",
       "1          0.0           Mar-02           765.0            769.0   \n",
       "2          0.0           Jan-05           735.0            739.0   \n",
       "3          0.0           Mar-02           665.0            669.0   \n",
       "4          0.0           Jun-05           710.0            714.0   \n",
       "\n",
       "   inq_last_6mths  mths_since_last_delinq  mths_since_last_record  open_acc  \\\n",
       "0             0.0                    24.0                     NaN       6.0   \n",
       "1             0.0                     NaN                     NaN      18.0   \n",
       "2             2.0                     NaN                     NaN       5.0   \n",
       "3             0.0                     NaN                    59.0       7.0   \n",
       "4             0.0                    24.0                     NaN      13.0   \n",
       "\n",
       "   pub_rec  revol_bal revol_util  total_acc initial_list_status  out_prncp  \\\n",
       "0      0.0    11713.0     73.70%       13.0                   w       0.00   \n",
       "1      0.0    22950.0     21.60%       27.0                   w    9712.74   \n",
       "2      0.0     1824.0         8%        8.0                   w       0.00   \n",
       "3      1.0     8777.0     79.10%       16.0                   w       0.00   \n",
       "4      0.0     3791.0     67.70%       15.0                   w       0.00   \n",
       "\n",
       "   out_prncp_inv   total_pymnt  total_pymnt_inv  total_rec_prncp  \\\n",
       "0           0.00  10193.651740         10193.65          9000.00   \n",
       "1        9712.74  17822.930000         17822.93         14287.26   \n",
       "2           0.00   9421.150893          9421.15          8000.00   \n",
       "3           0.00  15289.811230         15289.81         12800.00   \n",
       "4           0.00   4418.320000          4418.32          2514.29   \n",
       "\n",
       "   total_rec_int  total_rec_late_fee  recoveries  collection_recovery_fee  \\\n",
       "0        1193.65                 0.0        0.00                   0.0000   \n",
       "1        3535.67                 0.0        0.00                   0.0000   \n",
       "2        1421.15                 0.0        0.00                   0.0000   \n",
       "3        2489.81                 0.0        0.00                   0.0000   \n",
       "4        1168.37                45.0      690.66                 124.3188   \n",
       "\n",
       "  last_pymnt_d  last_pymnt_amnt next_pymnt_d last_credit_pull_d  \\\n",
       "0       Mar-17          7064.14          NaN             Oct-18   \n",
       "1       May-19           469.48       Jul-19             Jun-19   \n",
       "2       Mar-19           521.90          NaN             May-19   \n",
       "3       Apr-19           424.75          NaN             Mar-19   \n",
       "4       Apr-18           176.51          NaN             Feb-19   \n",
       "\n",
       "   last_fico_range_high  last_fico_range_low  collections_12_mths_ex_med  \\\n",
       "0                 699.0                695.0                         0.0   \n",
       "1                 814.0                810.0                         0.0   \n",
       "2                 694.0                690.0                         0.0   \n",
       "3                 734.0                730.0                         0.0   \n",
       "4                 579.0                575.0                         0.0   \n",
       "\n",
       "   mths_since_last_major_derog  policy_code application_type  \\\n",
       "0                          NaN          1.0       Individual   \n",
       "1                          NaN          1.0       Individual   \n",
       "2                          NaN          1.0       Individual   \n",
       "3                          NaN          1.0       Individual   \n",
       "4                         24.0          1.0       Individual   \n",
       "\n",
       "   annual_inc_joint  dti_joint verification_status_joint  acc_now_delinq  \\\n",
       "0               NaN        NaN                       NaN             0.0   \n",
       "1               NaN        NaN                       NaN             0.0   \n",
       "2               NaN        NaN                       NaN             0.0   \n",
       "3               NaN        NaN                       NaN             0.0   \n",
       "4               NaN        NaN                       NaN             0.0   \n",
       "\n",
       "   tot_coll_amt  tot_cur_bal  open_acc_6m  open_act_il  open_il_12m  \\\n",
       "0           0.0      52953.0          2.0          1.0          1.0   \n",
       "1           0.0     131135.0          0.0          1.0          1.0   \n",
       "2           0.0      62125.0          1.0          2.0          0.0   \n",
       "3           0.0     221036.0          2.0          2.0          1.0   \n",
       "4           0.0     391073.0          1.0          9.0          2.0   \n",
       "\n",
       "   open_il_24m  mths_since_rcnt_il  total_bal_il  il_util  open_rv_12m  \\\n",
       "0          1.0                 4.0       41240.0      NaN          3.0   \n",
       "1          1.0                10.0        6038.0     79.0          1.0   \n",
       "2          1.0                13.0       60301.0     85.0          2.0   \n",
       "3          1.0                 9.0       23227.0     68.0          1.0   \n",
       "4          2.0                 1.0       98746.0    104.0          0.0   \n",
       "\n",
       "   open_rv_24m  max_bal_bc  all_util  total_rev_hi_lim  inq_fi  total_cu_tl  \\\n",
       "0          3.0      3789.0      74.0           15900.0     0.0          1.0   \n",
       "1          4.0      9467.0      25.0          106400.0     0.0          0.0   \n",
       "2          3.0       854.0      47.0           22800.0     0.0          1.0   \n",
       "3          1.0      3381.0      71.0           11100.0     1.0          0.0   \n",
       "4          1.0      3624.0     102.0            5600.0     1.0          0.0   \n",
       "\n",
       "   inq_last_12m  acc_open_past_24mths  avg_cur_bal  bc_open_to_buy  bc_util  \\\n",
       "0           2.0                   4.0       8826.0          4187.0     73.7   \n",
       "1           2.0                   5.0       7285.0         52435.0     21.2   \n",
       "2           2.0                   4.0      12425.0         20571.0      6.5   \n",
       "3           2.0                   3.0      31577.0           962.0     87.8   \n",
       "4           3.0                   3.0      32589.0          1809.0     67.7   \n",
       "\n",
       "   chargeoff_within_12_mths  delinq_amnt  mo_sin_old_il_acct  \\\n",
       "0                       0.0          0.0               125.0   \n",
       "1                       0.0          0.0               122.0   \n",
       "2                       0.0          0.0               134.0   \n",
       "3                       0.0          0.0               124.0   \n",
       "4                       0.0          0.0               128.0   \n",
       "\n",
       "   mo_sin_old_rev_tl_op  mo_sin_rcnt_rev_tl_op  mo_sin_rcnt_tl  mort_acc  \\\n",
       "0                 196.0                    1.0             1.0       0.0   \n",
       "1                 168.0                   11.0            10.0       2.0   \n",
       "2                  84.0                    2.0             2.0       0.0   \n",
       "3                 168.0                    4.0             4.0       1.0   \n",
       "4                 129.0                   15.0             1.0       1.0   \n",
       "\n",
       "   mths_since_recent_bc  mths_since_recent_bc_dlq  mths_since_recent_inq  \\\n",
       "0                   1.0                       NaN                    4.0   \n",
       "1                  20.0                       NaN                    9.0   \n",
       "2                   2.0                       NaN                    0.0   \n",
       "3                  43.0                       NaN                    7.0   \n",
       "4                  15.0                       NaN                    6.0   \n",
       "\n",
       "   mths_since_recent_revol_delinq  num_accts_ever_120_pd  num_actv_bc_tl  \\\n",
       "0                             NaN                    0.0             5.0   \n",
       "1                             NaN                    0.0             3.0   \n",
       "2                             NaN                    0.0             2.0   \n",
       "3                             NaN                    0.0             3.0   \n",
       "4                             NaN                    1.0             2.0   \n",
       "\n",
       "   num_actv_rev_tl  num_bc_sats  num_bc_tl  num_il_tl  num_op_rev_tl  \\\n",
       "0              5.0          5.0        9.0        3.0            5.0   \n",
       "1              9.0          8.0       12.0        4.0           16.0   \n",
       "2              3.0          2.0        3.0        4.0            3.0   \n",
       "3              4.0          3.0        4.0        7.0            4.0   \n",
       "4              2.0          3.0        3.0       11.0            3.0   \n",
       "\n",
       "   num_rev_accts  num_rev_tl_bal_gt_0  num_sats  num_tl_120dpd_2m  \\\n",
       "0           10.0                  5.0       6.0               0.0   \n",
       "1           21.0                  9.0      18.0               0.0   \n",
       "2            4.0                  3.0       5.0               0.0   \n",
       "3            8.0                  4.0       7.0               0.0   \n",
       "4            3.0                  2.0      13.0               0.0   \n",
       "\n",
       "   num_tl_30dpd  num_tl_90g_dpd_24m  num_tl_op_past_12m  pct_tl_nvr_dlq  \\\n",
       "0           0.0                 0.0                 4.0            92.3   \n",
       "1           0.0                 0.0                 2.0           100.0   \n",
       "2           0.0                 0.0                 2.0           100.0   \n",
       "3           0.0                 0.0                 3.0           100.0   \n",
       "4           0.0                 0.0                 2.0            92.9   \n",
       "\n",
       "   percent_bc_gt_75  pub_rec_bankruptcies  tax_liens  tot_hi_cred_lim  \\\n",
       "0              80.0                   0.0        0.0          58425.0   \n",
       "1               0.0                   0.0        0.0         232603.0   \n",
       "2              50.0                   0.0        0.0          78840.0   \n",
       "3             100.0                   1.0        0.0         235600.0   \n",
       "4               0.0                   0.0        0.0         496358.0   \n",
       "\n",
       "   total_bal_ex_mort  total_bc_limit  total_il_high_credit_limit  \\\n",
       "0            52953.0         15900.0                     42525.0   \n",
       "1            28988.0         66500.0                      7665.0   \n",
       "2            62125.0         22000.0                     56040.0   \n",
       "3            32004.0          7900.0                     34024.0   \n",
       "4           102537.0          5600.0                     94567.0   \n",
       "\n",
       "   revol_bal_joint  sec_app_fico_range_low  sec_app_fico_range_high  \\\n",
       "0              NaN                     NaN                      NaN   \n",
       "1              NaN                     NaN                      NaN   \n",
       "2              NaN                     NaN                      NaN   \n",
       "3              NaN                     NaN                      NaN   \n",
       "4              NaN                     NaN                      NaN   \n",
       "\n",
       "   sec_app_earliest_cr_line  sec_app_inq_last_6mths  sec_app_mort_acc  \\\n",
       "0                       NaN                     NaN               NaN   \n",
       "1                       NaN                     NaN               NaN   \n",
       "2                       NaN                     NaN               NaN   \n",
       "3                       NaN                     NaN               NaN   \n",
       "4                       NaN                     NaN               NaN   \n",
       "\n",
       "   sec_app_open_acc  sec_app_revol_util  sec_app_open_act_il  \\\n",
       "0               NaN                 NaN                  NaN   \n",
       "1               NaN                 NaN                  NaN   \n",
       "2               NaN                 NaN                  NaN   \n",
       "3               NaN                 NaN                  NaN   \n",
       "4               NaN                 NaN                  NaN   \n",
       "\n",
       "   sec_app_num_rev_accts  sec_app_chargeoff_within_12_mths  \\\n",
       "0                    NaN                               NaN   \n",
       "1                    NaN                               NaN   \n",
       "2                    NaN                               NaN   \n",
       "3                    NaN                               NaN   \n",
       "4                    NaN                               NaN   \n",
       "\n",
       "   sec_app_collections_12_mths_ex_med  sec_app_mths_since_last_major_derog  \\\n",
       "0                                 NaN                                  NaN   \n",
       "1                                 NaN                                  NaN   \n",
       "2                                 NaN                                  NaN   \n",
       "3                                 NaN                                  NaN   \n",
       "4                                 NaN                                  NaN   \n",
       "\n",
       "  hardship_flag hardship_type hardship_reason hardship_status  deferral_term  \\\n",
       "0             N           NaN             NaN             NaN            NaN   \n",
       "1             N           NaN             NaN             NaN            NaN   \n",
       "2             N           NaN             NaN             NaN            NaN   \n",
       "3             N           NaN             NaN             NaN            NaN   \n",
       "4             N           NaN             NaN             NaN            NaN   \n",
       "\n",
       "   hardship_amount hardship_start_date hardship_end_date  \\\n",
       "0              NaN                 NaN               NaN   \n",
       "1              NaN                 NaN               NaN   \n",
       "2              NaN                 NaN               NaN   \n",
       "3              NaN                 NaN               NaN   \n",
       "4              NaN                 NaN               NaN   \n",
       "\n",
       "  payment_plan_start_date  hardship_length  hardship_dpd hardship_loan_status  \\\n",
       "0                     NaN              NaN           NaN                  NaN   \n",
       "1                     NaN              NaN           NaN                  NaN   \n",
       "2                     NaN              NaN           NaN                  NaN   \n",
       "3                     NaN              NaN           NaN                  NaN   \n",
       "4                     NaN              NaN           NaN                  NaN   \n",
       "\n",
       "   orig_projected_additional_accrued_interest  hardship_payoff_balance_amount  \\\n",
       "0                                         NaN                             NaN   \n",
       "1                                         NaN                             NaN   \n",
       "2                                         NaN                             NaN   \n",
       "3                                         NaN                             NaN   \n",
       "4                                         NaN                             NaN   \n",
       "\n",
       "   hardship_last_payment_amount debt_settlement_flag  \\\n",
       "0                           NaN                    N   \n",
       "1                           NaN                    N   \n",
       "2                           NaN                    N   \n",
       "3                           NaN                    N   \n",
       "4                           NaN                    N   \n",
       "\n",
       "  debt_settlement_flag_date settlement_status settlement_date  \\\n",
       "0                       NaN               NaN             NaN   \n",
       "1                       NaN               NaN             NaN   \n",
       "2                       NaN               NaN             NaN   \n",
       "3                       NaN               NaN             NaN   \n",
       "4                       NaN               NaN             NaN   \n",
       "\n",
       "   settlement_amount  settlement_percentage  settlement_term  Qrtr  \n",
       "0                NaN                    NaN              NaN     1  \n",
       "1                NaN                    NaN              NaN     1  \n",
       "2                NaN                    NaN              NaN     1  \n",
       "3                NaN                    NaN              NaN     1  \n",
       "4                NaN                    NaN              NaN     1  "
      ]
     },
     "execution_count": 152,
     "metadata": {},
     "output_type": "execute_result"
    }
   ],
   "source": [
    "# Getting to know the data we have\n",
    "all_year_19.head()"
   ]
  },
  {
   "cell_type": "markdown",
   "id": "1dc7fe22",
   "metadata": {},
   "source": [
    "# Initial Data Filtering"
   ]
  },
  {
   "cell_type": "markdown",
   "id": "f86f0fbf",
   "metadata": {},
   "source": [
    "* We have decided to focus our study on loans that are Mature with a term of 36 months, to avoid bias and look at only loans that have completed their lifetime."
   ]
  },
  {
   "cell_type": "code",
   "execution_count": 153,
   "id": "d1b614d8",
   "metadata": {},
   "outputs": [],
   "source": [
    "ids_that_are_relevant = all_year_19[(all_year_19.term == \" 36 months\") & (all_year_19.loan_status.isin([\"Default\",\"Charged Off\",\"Fully Paid\"]))].id\n",
    "perecent_of_removed_rows = (all_year_19.shape[0] - len(ids_that_are_relevant))/all_year_19.shape[0] "
   ]
  },
  {
   "cell_type": "code",
   "execution_count": 154,
   "id": "e54ac82c",
   "metadata": {},
   "outputs": [
    {
     "name": "stdout",
     "output_type": "stream",
     "text": [
      "The percent of rows that were removed for this reason is: 0.3794343301344542\n"
     ]
    }
   ],
   "source": [
    "all_year_19 = all_year_19[all_year_19['id'].isin(ids_that_are_relevant)]\n",
    "all_year_18 = all_year_18[all_year_18['id'].isin(ids_that_are_relevant)]\n",
    "print(\"The percent of rows that were removed for this reason is:\",perecent_of_removed_rows)"
   ]
  },
  {
   "cell_type": "markdown",
   "id": "a57573ca",
   "metadata": {},
   "source": [
    "Bellow we are removing columns that exist in 2018 but not in 2019:"
   ]
  },
  {
   "cell_type": "code",
   "execution_count": 155,
   "id": "0e93434b",
   "metadata": {
    "scrolled": true
   },
   "outputs": [
    {
     "name": "stdout",
     "output_type": "stream",
     "text": [
      "Columns missing in one of the dataframes:\n",
      "Column 'disbursement_method' is missing in 'all_year_19'\n"
     ]
    }
   ],
   "source": [
    "# With assiatance of Chat GPT\n",
    "# Get a list of columns in each dataframe\n",
    "cols_18 = set(all_year_18.columns)\n",
    "cols_19 = set(all_year_19.columns)\n",
    "\n",
    "# Find columns that are in one dataframe but not the other\n",
    "missing_cols = [col for col in cols_18.symmetric_difference(cols_19)]\n",
    "\n",
    "# Print the missing columns, if any\n",
    "if missing_cols:\n",
    "    print(\"Columns missing in one of the dataframes:\")\n",
    "    for col in missing_cols:\n",
    "        if col in cols_18:\n",
    "            print(f\"Column '{col}' is missing in 'all_year_19'\")\n",
    "        else:\n",
    "            print(f\"Column '{col}' is missing in 'all_year_18'\")\n",
    "else:\n",
    "    print(\"All columns match between the two dataframes.\")"
   ]
  },
  {
   "cell_type": "markdown",
   "id": "29e9b3f2",
   "metadata": {},
   "source": [
    "Removing 'disbursement_method' column"
   ]
  },
  {
   "cell_type": "code",
   "execution_count": 156,
   "id": "f542efda",
   "metadata": {
    "scrolled": true
   },
   "outputs": [],
   "source": [
    "all_year_18 = all_year_18.drop(columns=missing_cols) "
   ]
  },
  {
   "cell_type": "markdown",
   "id": "109057f9",
   "metadata": {},
   "source": [
    "In order to compare the loans across the years we will sort according to ids "
   ]
  },
  {
   "cell_type": "code",
   "execution_count": 157,
   "id": "39644850",
   "metadata": {},
   "outputs": [],
   "source": [
    "all_year_18 = all_year_18.sort_values(by=\"id\").reset_index(drop=True)\n",
    "all_year_19 = all_year_19.sort_values(by=\"id\").reset_index(drop=True)"
   ]
  },
  {
   "cell_type": "markdown",
   "id": "9ca6c599",
   "metadata": {},
   "source": [
    "## Handiling N/A's"
   ]
  },
  {
   "cell_type": "markdown",
   "id": "3569128c",
   "metadata": {},
   "source": [
    "Checking the percentage of NA's in the columns"
   ]
  },
  {
   "cell_type": "code",
   "execution_count": 158,
   "id": "a4e1869b",
   "metadata": {
    "scrolled": true
   },
   "outputs": [
    {
     "data": {
      "text/plain": [
       "member_id                                     1.000000\n",
       "emp_title                                     0.072436\n",
       "emp_length                                    0.071947\n",
       "desc                                          0.999944\n",
       "title                                         0.054212\n",
       "dti                                           0.000130\n",
       "mths_since_last_delinq                        0.471749\n",
       "mths_since_last_record                        0.803281\n",
       "revol_util                                    0.000664\n",
       "last_pymnt_d                                  0.001506\n",
       "next_pymnt_d                                  0.999981\n",
       "last_credit_pull_d                            0.000030\n",
       "mths_since_last_major_derog                   0.706467\n",
       "annual_inc_joint                              0.984640\n",
       "dti_joint                                     0.984647\n",
       "verification_status_joint                     0.984640\n",
       "open_acc_6m                                   0.000163\n",
       "open_act_il                                   0.000163\n",
       "open_il_12m                                   0.000163\n",
       "open_il_24m                                   0.000163\n",
       "mths_since_rcnt_il                            0.030228\n",
       "total_bal_il                                  0.000163\n",
       "il_util                                       0.139324\n",
       "open_rv_12m                                   0.000163\n",
       "open_rv_24m                                   0.000163\n",
       "max_bal_bc                                    0.000163\n",
       "all_util                                      0.000223\n",
       "inq_fi                                        0.000163\n",
       "total_cu_tl                                   0.000163\n",
       "inq_last_12m                                  0.000163\n",
       "bc_open_to_buy                                0.011514\n",
       "bc_util                                       0.012018\n",
       "mo_sin_old_il_acct                            0.030083\n",
       "mths_since_recent_bc                          0.010835\n",
       "mths_since_recent_bc_dlq                      0.743293\n",
       "mths_since_recent_inq                         0.103042\n",
       "mths_since_recent_revol_delinq                0.636082\n",
       "num_tl_120dpd_2m                              0.045736\n",
       "percent_bc_gt_75                              0.011599\n",
       "revol_bal_joint                               1.000000\n",
       "sec_app_fico_range_low                        1.000000\n",
       "sec_app_fico_range_high                       1.000000\n",
       "sec_app_earliest_cr_line                      1.000000\n",
       "sec_app_inq_last_6mths                        1.000000\n",
       "sec_app_mort_acc                              1.000000\n",
       "sec_app_open_acc                              1.000000\n",
       "sec_app_revol_util                            1.000000\n",
       "sec_app_open_act_il                           1.000000\n",
       "sec_app_num_rev_accts                         1.000000\n",
       "sec_app_chargeoff_within_12_mths              1.000000\n",
       "sec_app_collections_12_mths_ex_med            1.000000\n",
       "sec_app_mths_since_last_major_derog           1.000000\n",
       "hardship_type                                 0.991958\n",
       "hardship_reason                               0.991958\n",
       "hardship_status                               0.991958\n",
       "deferral_term                                 0.991958\n",
       "hardship_amount                               0.991958\n",
       "hardship_start_date                           0.991958\n",
       "hardship_end_date                             0.991958\n",
       "payment_plan_start_date                       0.991958\n",
       "hardship_length                               0.991958\n",
       "hardship_dpd                                  0.991958\n",
       "hardship_loan_status                          0.991958\n",
       "orig_projected_additional_accrued_interest    0.994332\n",
       "hardship_payoff_balance_amount                0.991958\n",
       "hardship_last_payment_amount                  0.991958\n",
       "debt_settlement_flag_date                     0.968278\n",
       "settlement_status                             0.968278\n",
       "settlement_date                               0.968278\n",
       "settlement_amount                             0.968278\n",
       "settlement_percentage                         0.968278\n",
       "settlement_term                               0.968278\n",
       "dtype: float64"
      ]
     },
     "execution_count": 158,
     "metadata": {},
     "output_type": "execute_result"
    }
   ],
   "source": [
    "na_percent = all_year_19.isna().sum() / len(all_year_19)\n",
    "na_percent[na_percent!=0]"
   ]
  },
  {
   "cell_type": "markdown",
   "id": "fbf545df",
   "metadata": {},
   "source": [
    "After looking at the data and the percentage of NA's in every column we decided to remove all columns with more than 40% NA's, after we learned that this threshold is a known convention."
   ]
  },
  {
   "cell_type": "code",
   "execution_count": 159,
   "id": "420b7102",
   "metadata": {},
   "outputs": [],
   "source": [
    "columns_removed_because_of_na = all_year_19.columns[all_year_19.isna().sum() >= len(all_year_19)*0.4] "
   ]
  },
  {
   "cell_type": "code",
   "execution_count": 160,
   "id": "c7b88728",
   "metadata": {},
   "outputs": [],
   "source": [
    "all_year_19 = all_year_19.drop(columns=columns_removed_because_of_na)"
   ]
  },
  {
   "cell_type": "code",
   "execution_count": 161,
   "id": "ddb5ceff",
   "metadata": {},
   "outputs": [],
   "source": [
    "all_year_18 = all_year_18[all_year_19.columns]"
   ]
  },
  {
   "cell_type": "markdown",
   "id": "58be457f",
   "metadata": {},
   "source": [
    "# Removing columns with only unique values"
   ]
  },
  {
   "cell_type": "markdown",
   "id": "7235cbe5",
   "metadata": {},
   "source": [
    "Features with a single value or have an identical value for over 95% of the rows won't be informative to our model, thus will be dropped."
   ]
  },
  {
   "cell_type": "code",
   "execution_count": 162,
   "id": "ccf51df9",
   "metadata": {},
   "outputs": [
    {
     "data": {
      "text/plain": [
       "Index(['term', 'pymnt_plan', 'policy_code', 'hardship_flag'], dtype='object')"
      ]
     },
     "execution_count": 162,
     "metadata": {},
     "output_type": "execute_result"
    }
   ],
   "source": [
    "all_year_19.columns[all_year_19.nunique() == 1]"
   ]
  },
  {
   "cell_type": "markdown",
   "id": "f2536f75",
   "metadata": {},
   "source": [
    "Filter out the columns that have a single value"
   ]
  },
  {
   "cell_type": "code",
   "execution_count": 163,
   "id": "e09b59ef",
   "metadata": {},
   "outputs": [],
   "source": [
    "uniq_columns = all_year_19.columns[all_year_19.nunique() == 1]\n",
    "all_year_19 = all_year_19.drop(columns=uniq_columns)\n",
    "all_year_18 = all_year_18[all_year_19.columns]"
   ]
  },
  {
   "cell_type": "code",
   "execution_count": 164,
   "id": "4e3c1c4b",
   "metadata": {},
   "outputs": [
    {
     "data": {
      "text/plain": [
       "['out_prncp',\n",
       " 'out_prncp_inv',\n",
       " 'collections_12_mths_ex_med',\n",
       " 'application_type',\n",
       " 'acc_now_delinq',\n",
       " 'chargeoff_within_12_mths',\n",
       " 'delinq_amnt',\n",
       " 'num_tl_120dpd_2m',\n",
       " 'num_tl_30dpd',\n",
       " 'tax_liens',\n",
       " 'debt_settlement_flag']"
      ]
     },
     "execution_count": 164,
     "metadata": {},
     "output_type": "execute_result"
    }
   ],
   "source": [
    "# Calculate the percentage of identical values for each column\n",
    "identical_percentages = all_year_19.apply(lambda x: x.value_counts(normalize=True).max(), axis=0)\n",
    "# Filter the columns that have identical values for over 95% of the rows\n",
    "identical_cols = identical_percentages[identical_percentages > 0.95].index.tolist()\n",
    "identical_cols"
   ]
  },
  {
   "cell_type": "code",
   "execution_count": 165,
   "id": "e8be4196",
   "metadata": {},
   "outputs": [],
   "source": [
    "all_year_19 = all_year_19.drop(columns=identical_cols)\n",
    "all_year_18 = all_year_18[all_year_19.columns]"
   ]
  },
  {
   "cell_type": "markdown",
   "id": "4b444668",
   "metadata": {},
   "source": [
    "## Removing columns with data leakage"
   ]
  },
  {
   "cell_type": "markdown",
   "id": "8c591e5e",
   "metadata": {},
   "source": [
    "First, we removed columns with diffrent number of N/A'S"
   ]
  },
  {
   "cell_type": "code",
   "execution_count": 166,
   "id": "21b421d7",
   "metadata": {},
   "outputs": [],
   "source": [
    "data_leakage_cols = []\n",
    "data_leakage_cols += (list(all_year_19.columns[all_year_18.isna().sum()!=all_year_19.isna().sum()]))"
   ]
  },
  {
   "cell_type": "markdown",
   "id": "188cc880",
   "metadata": {},
   "source": [
    "We will remove all data leakage cols that have a change of more than 2% and are not used for targeting and calculating the realized return."
   ]
  },
  {
   "cell_type": "code",
   "execution_count": 167,
   "id": "5d48878e",
   "metadata": {},
   "outputs": [
    {
     "data": {
      "text/plain": [
       "loan_status                0.506217\n",
       "total_pymnt                0.534211\n",
       "total_pymnt_inv            0.534126\n",
       "total_rec_prncp            0.480941\n",
       "total_rec_int              0.482748\n",
       "total_rec_late_fee         0.024760\n",
       "recoveries                 0.075348\n",
       "collection_recovery_fee    0.075348\n",
       "last_pymnt_d               0.474194\n",
       "last_pymnt_amnt            0.451118\n",
       "last_credit_pull_d         0.811983\n",
       "last_fico_range_high       0.753231\n",
       "last_fico_range_low        0.753231\n",
       "dtype: float64"
      ]
     },
     "execution_count": 167,
     "metadata": {},
     "output_type": "execute_result"
    }
   ],
   "source": [
    "percentage_change = ((np.sum(all_year_18 != all_year_19) - np.sum(all_year_19.isna())) / all_year_19.shape[0])\n",
    "percentage_change[(percentage_change >= 0.02)]"
   ]
  },
  {
   "cell_type": "code",
   "execution_count": 168,
   "id": "caab125e",
   "metadata": {},
   "outputs": [
    {
     "data": {
      "text/plain": [
       "int_rate               0.000104\n",
       "installment            0.000108\n",
       "verification_status    0.017430\n",
       "dtype: float64"
      ]
     },
     "execution_count": 168,
     "metadata": {},
     "output_type": "execute_result"
    }
   ],
   "source": [
    "percentage_change[(percentage_change <= .02 ) & (percentage_change!=0)]"
   ]
  },
  {
   "cell_type": "code",
   "execution_count": 169,
   "id": "223cc568",
   "metadata": {},
   "outputs": [],
   "source": [
    "columns_to_keep_for_targetting = ['loan_status','total_pymnt', 'last_pymnt_d','payment_lifetime','issue_d']\n",
    "columns_to_keep_with_low_leakage_rate = ['int_rate','installment','verification_status']"
   ]
  },
  {
   "cell_type": "code",
   "execution_count": 170,
   "id": "5a11d1c6",
   "metadata": {},
   "outputs": [],
   "source": [
    "percentage_change = percentage_change[percentage_change != 0]"
   ]
  },
  {
   "cell_type": "code",
   "execution_count": 171,
   "id": "0b67ed52",
   "metadata": {},
   "outputs": [],
   "source": [
    "percentage_change_to_drop = percentage_change.loc[(~percentage_change.index.isin(columns_to_keep_for_targetting)) & (~percentage_change.index.isin(columns_to_keep_with_low_leakage_rate))]\n"
   ]
  },
  {
   "cell_type": "code",
   "execution_count": 172,
   "id": "f4be93ce",
   "metadata": {},
   "outputs": [],
   "source": [
    "data_leakage_cols += (list(percentage_change_to_drop.index))"
   ]
  },
  {
   "cell_type": "code",
   "execution_count": 173,
   "id": "563fbdda",
   "metadata": {},
   "outputs": [],
   "source": [
    "all_year_19 = all_year_19.drop(columns=data_leakage_cols)"
   ]
  },
  {
   "cell_type": "markdown",
   "id": "26e1af4b",
   "metadata": {},
   "source": [
    "# Data Leakage Removal - instances from \"columns_to_keep_with_low_leakage_rate\"\n"
   ]
  },
  {
   "cell_type": "code",
   "execution_count": 174,
   "id": "0df31342",
   "metadata": {},
   "outputs": [
    {
     "data": {
      "text/plain": [
       "['int_rate', 'installment', 'verification_status']"
      ]
     },
     "execution_count": 174,
     "metadata": {},
     "output_type": "execute_result"
    }
   ],
   "source": [
    "columns_to_keep_with_low_leakage_rate"
   ]
  },
  {
   "cell_type": "code",
   "execution_count": 175,
   "id": "496a2dac",
   "metadata": {},
   "outputs": [
    {
     "name": "stdout",
     "output_type": "stream",
     "text": [
      "only 28 leaked instances for 'int_rate'\n"
     ]
    }
   ],
   "source": [
    "number_of_instances_leaked = ((np.sum(all_year_18['int_rate'] != all_year_19['int_rate'])) )\n",
    "print(f\"only {number_of_instances_leaked} leaked instances for 'int_rate'\")"
   ]
  },
  {
   "cell_type": "code",
   "execution_count": 176,
   "id": "1ed754d4",
   "metadata": {},
   "outputs": [],
   "source": [
    "leaked_instances = ((all_year_18[['int_rate']] == all_year_19[['int_rate']])).int_rate\n",
    "all_year_19 = all_year_19.loc[leaked_instances, :]\n",
    "all_year_18 = all_year_18.loc[leaked_instances, :]"
   ]
  },
  {
   "cell_type": "code",
   "execution_count": 177,
   "id": "8bfe0679",
   "metadata": {},
   "outputs": [
    {
     "name": "stdout",
     "output_type": "stream",
     "text": [
      "only 2 leaked instances for 'installment'\n"
     ]
    }
   ],
   "source": [
    "number_of_instances_leaked = ((np.sum(all_year_18['installment'] != all_year_19['installment'])) )\n",
    "print(f\"only {number_of_instances_leaked} leaked instances for 'installment'\")"
   ]
  },
  {
   "cell_type": "code",
   "execution_count": 178,
   "id": "a045082b",
   "metadata": {},
   "outputs": [],
   "source": [
    "leaked_instances = ((all_year_18[['installment']] == all_year_19[['installment']])).installment\n",
    "all_year_19 = all_year_19.loc[leaked_instances, :]\n",
    "all_year_18 = all_year_18.loc[leaked_instances, :]"
   ]
  },
  {
   "cell_type": "markdown",
   "id": "52f2195b",
   "metadata": {},
   "source": [
    "Looking at the new shape of the data"
   ]
  },
  {
   "cell_type": "code",
   "execution_count": 179,
   "id": "0efecca2",
   "metadata": {},
   "outputs": [
    {
     "data": {
      "text/plain": [
       "(269558, 82)"
      ]
     },
     "execution_count": 179,
     "metadata": {},
     "output_type": "execute_result"
    }
   ],
   "source": [
    "all_year_19.shape"
   ]
  },
  {
   "cell_type": "markdown",
   "id": "a2993b0a",
   "metadata": {},
   "source": [
    "## In the Case of verification_status we will take the 2018 value"
   ]
  },
  {
   "cell_type": "code",
   "execution_count": 180,
   "id": "8e84e8f8",
   "metadata": {},
   "outputs": [
    {
     "data": {
      "text/plain": [
       "4699"
      ]
     },
     "execution_count": 180,
     "metadata": {},
     "output_type": "execute_result"
    }
   ],
   "source": [
    "leaked_instances = ((all_year_18[['verification_status']] == all_year_19[['verification_status']])).verification_status\n",
    "sum(~leaked_instances)"
   ]
  },
  {
   "cell_type": "code",
   "execution_count": 181,
   "id": "93e46824",
   "metadata": {},
   "outputs": [],
   "source": [
    "all_year_19['verification_status'] = all_year_18['verification_status']"
   ]
  },
  {
   "cell_type": "markdown",
   "id": "028553cf",
   "metadata": {},
   "source": [
    "# Creating Columns to calculate our target interest rate"
   ]
  },
  {
   "cell_type": "code",
   "execution_count": 182,
   "id": "8aeaa155",
   "metadata": {},
   "outputs": [],
   "source": [
    "# Here we are casting columns to string\n",
    "all_year_19['last_pymnt_d'] = all_year_19['last_pymnt_d'].astype(str)\n",
    "all_year_19['issue_d'] = all_year_19['issue_d'].astype(str)\n",
    "all_year_18['issue_d'] = all_year_18['issue_d'].astype(str)\n",
    "\n",
    "all_year_19['last_pymnt_d'] = all_year_19['last_pymnt_d'].replace('nan', 'Dec-19')\n",
    "\n",
    "# Apply the conversion function to the column\n",
    "all_year_19['last_pymnt_d'] = all_year_19['last_pymnt_d'].apply(convert_date)\n",
    "all_year_19['issue_d'] = all_year_19['issue_d'].apply(convert_date)\n",
    "\n",
    "\n",
    "all_year_19['last_pymnt_d'] = pd.to_datetime(all_year_19['last_pymnt_d'], format='%d/%m/%Y')\n",
    "all_year_19['issue_d'] = pd.to_datetime(all_year_19['issue_d'], format='%d/%m/%Y')\n",
    "\n",
    "all_year_19['loan_lifetime_in_months'] = ((all_year_19.last_pymnt_d - all_year_19.issue_d)/np.timedelta64(1, 'M'))\n",
    "all_year_19['loan_lifetime_in_months'] = all_year_19['loan_lifetime_in_months'].astype(float)"
   ]
  },
  {
   "cell_type": "code",
   "execution_count": 183,
   "id": "64067c3a",
   "metadata": {},
   "outputs": [],
   "source": [
    "# Giving a value of 1 month for loans with not a singe payment.\n",
    "all_year_19['loan_lifetime_in_months'] = all_year_19['loan_lifetime_in_months'].clip(lower=1) "
   ]
  },
  {
   "cell_type": "code",
   "execution_count": 184,
   "id": "c5a06929",
   "metadata": {},
   "outputs": [
    {
     "data": {
      "text/plain": [
       "count    269558.000000\n",
       "mean         21.048567\n",
       "std          11.045085\n",
       "min           1.000000\n",
       "25%          11.992033\n",
       "50%          20.961416\n",
       "75%          31.015011\n",
       "max          46.982484\n",
       "Name: loan_lifetime_in_months, dtype: float64"
      ]
     },
     "execution_count": 184,
     "metadata": {},
     "output_type": "execute_result"
    }
   ],
   "source": [
    "all_year_19['loan_lifetime_in_months'].describe()"
   ]
  },
  {
   "cell_type": "code",
   "execution_count": 185,
   "id": "93217182",
   "metadata": {},
   "outputs": [],
   "source": [
    "all_year_19[\"estimated_monthly_paymnent\"] = all_year_19[\"total_pymnt\"] / all_year_19[\"loan_lifetime_in_months\"]"
   ]
  },
  {
   "cell_type": "code",
   "execution_count": 186,
   "id": "2b2bd1e1",
   "metadata": {},
   "outputs": [
    {
     "data": {
      "text/plain": [
       "count    269558.000000\n",
       "mean       1125.149103\n",
       "std        2371.562406\n",
       "min           0.000000\n",
       "25%         311.169984\n",
       "50%         560.390348\n",
       "75%        1050.196167\n",
       "max       41058.410000\n",
       "Name: estimated_monthly_paymnent, dtype: float64"
      ]
     },
     "execution_count": 186,
     "metadata": {},
     "output_type": "execute_result"
    }
   ],
   "source": [
    "all_year_19[\"estimated_monthly_paymnent\"].describe()"
   ]
  },
  {
   "cell_type": "code",
   "execution_count": 187,
   "id": "786949ec",
   "metadata": {},
   "outputs": [],
   "source": [
    "m = np.array(all_year_19[\"loan_lifetime_in_months\"]) # month from start to finish\n",
    "t = 36 # only 36 months terms\n",
    "p = np.array(all_year_19.total_pymnt) # total return\n",
    "f = np.array(all_year_19.funded_amnt) # total invesment\n",
    "i = (0.02+1)**(1/12)-1 # i = alternative reinvesment monthly rate \n",
    "\n",
    "# realised = (1/f) * ( ( (p/m)( (1-(1+i)*m) / (1-(1+i)) ) ) * (1+i)*(t-m) - f )"
   ]
  },
  {
   "cell_type": "code",
   "execution_count": 188,
   "id": "c06a20e3",
   "metadata": {},
   "outputs": [],
   "source": [
    "all_year_19['realised_return'] = (((1/f) * (((p/m)*( (1-(1+i)**m) / (1-(1+i)))) * (1+i)**(t-m) - f))+1)**(12/t)-1"
   ]
  },
  {
   "cell_type": "code",
   "execution_count": 189,
   "id": "29f38d16",
   "metadata": {},
   "outputs": [
    {
     "data": {
      "text/plain": [
       "count    269558.000000\n",
       "mean          0.014433\n",
       "std           0.111077\n",
       "min          -1.000000\n",
       "25%           0.032720\n",
       "50%           0.048989\n",
       "75%           0.065243\n",
       "max           0.306595\n",
       "Name: realised_return, dtype: float64"
      ]
     },
     "execution_count": 189,
     "metadata": {},
     "output_type": "execute_result"
    }
   ],
   "source": [
    "all_year_19['realised_return'].describe()"
   ]
  },
  {
   "cell_type": "markdown",
   "id": "64ca5dc4",
   "metadata": {},
   "source": [
    "# Deep EDA - column specific"
   ]
  },
  {
   "cell_type": "markdown",
   "id": "759d7312",
   "metadata": {},
   "source": [
    "We decided to drop irrelevant columns according to the analysis we did."
   ]
  },
  {
   "cell_type": "code",
   "execution_count": 190,
   "id": "72d8e65c",
   "metadata": {},
   "outputs": [],
   "source": [
    "irrelevant_cols = ['funded_amnt_inv','url','zip_code','id','emp_title','addr_state','purpose', 'title']"
   ]
  },
  {
   "cell_type": "code",
   "execution_count": 191,
   "id": "46d28454",
   "metadata": {
    "scrolled": true
   },
   "outputs": [],
   "source": [
    "all_year_19 = all_year_19.drop(columns=irrelevant_cols)"
   ]
  },
  {
   "cell_type": "code",
   "execution_count": 192,
   "id": "bb99f434",
   "metadata": {},
   "outputs": [
    {
     "name": "stdout",
     "output_type": "stream",
     "text": [
      "emp_length -0.0034769323317126745 19395\n",
      "dti 0.01664005910795274 35\n",
      "revol_util 0.01891988055484826 179\n",
      "open_acc_6m 0.01247070551306656 44\n",
      "open_act_il 0.01247070551306656 44\n",
      "open_il_12m 0.01247070551306656 44\n",
      "open_il_24m 0.01247070551306656 44\n",
      "mths_since_rcnt_il 0.014670822803604563 8148\n",
      "total_bal_il 0.01247070551306656 44\n",
      "il_util 0.017734706365850676 37558\n",
      "open_rv_12m 0.01247070551306656 44\n",
      "open_rv_24m 0.01247070551306656 44\n",
      "max_bal_bc 0.01247070551306656 44\n",
      "all_util 0.018340745300412676 60\n",
      "inq_fi 0.01247070551306656 44\n",
      "total_cu_tl 0.01247070551306656 44\n",
      "inq_last_12m 0.01247070551306656 44\n",
      "bc_open_to_buy 0.014526689646379772 3103\n",
      "bc_util 0.014097694456608271 3239\n",
      "mo_sin_old_il_acct 0.014641380860673946 8109\n",
      "mths_since_recent_bc 0.015491437397626732 2920\n",
      "mths_since_recent_inq 0.024325470162874174 27777\n",
      "percent_bc_gt_75 0.014695532399097279 3126\n"
     ]
    }
   ],
   "source": [
    "# Before replacing NA's we need to see they are not an indication to the target varriable\n",
    "# we calculated the mean of realized return for the NA's in each column with NA's.\n",
    "for i in all_year_19.columns : \n",
    "    n = all_year_19[i].isna().sum() \n",
    "    if n > 0 :\n",
    "        realised_return = all_year_19[all_year_19[i].isna()][\"realised_return\"].mean()\n",
    "        print(i,realised_return,n)"
   ]
  },
  {
   "cell_type": "markdown",
   "id": "e06eef76",
   "metadata": {},
   "source": [
    "#### We see that there is a relashionship between 'emp_length' and the realized return and we assume that a missing value of length reffers to unemployment so we set the NA's to '0'."
   ]
  },
  {
   "cell_type": "code",
   "execution_count": 193,
   "id": "e6727841",
   "metadata": {},
   "outputs": [],
   "source": [
    "na_rate_ge0 = all_year_19[all_year_19.columns[all_year_19.isna().sum()>0]].columns\n",
    "\n",
    "distribution_dictionary = {}\n",
    "for column in na_rate_ge0:\n",
    "#     print(column)\n",
    "    distribution = pd.DataFrame(columns=[\"Value\", \"Count\", \"Return on Investment Average\", \"Percentage\"])\n",
    "\n",
    "    unique_values = all_year_19[column].value_counts()\n",
    "    num_unique_values = len(unique_values)\n",
    "\n",
    "    for value in unique_values.index[:30]:\n",
    "        distribution.loc[len(distribution)] = {\n",
    "            \"Value\": value,\n",
    "            \"Count\": unique_values[value],\n",
    "            \"Return on Investment Average\": all_year_19[all_year_19[column] == value]['realised_return'].mean(),\n",
    "            \"Percentage\": (unique_values[value] / all_year_19.shape[0]) * 100\n",
    "        }\n",
    "\n",
    "    distribution.loc[len(distribution)] = {\n",
    "            \"Value\": 'na',\n",
    "            \"Count\": all_year_19[column].isna().sum(),\n",
    "            \"Return on Investment Average\": all_year_19[all_year_19[column].isna()]['realised_return'].mean(),\n",
    "            \"Percentage\": (all_year_19[column].isna().sum() / all_year_19.shape[0]) * 100\n",
    "        }\n",
    "    distribution_dictionary[column] = distribution\n"
   ]
  },
  {
   "cell_type": "code",
   "execution_count": 194,
   "id": "f528aa8b",
   "metadata": {},
   "outputs": [],
   "source": [
    "all_year_19['emp_length'] = all_year_19['emp_length'].fillna(0)\n",
    "\n",
    "all_year_19['emp_length'] = all_year_19['emp_length'].replace({'< 1 year': 0.5, '10+ years': 10, '2 years': 2,\\\n",
    "        '3 years': 3, '4 years': 4, '7 years': 7, '6 years': 6, '8 years': 8, '5 years': 5, '9 years': 9, \\\n",
    "        '1 year': 1})"
   ]
  },
  {
   "cell_type": "code",
   "execution_count": 195,
   "id": "71115cc3",
   "metadata": {
    "scrolled": true
   },
   "outputs": [
    {
     "data": {
      "text/plain": [
       "emp_length\n",
       "0.0    -0.003477\n",
       "0.5     0.012855\n",
       "1.0     0.012253\n",
       "2.0     0.014743\n",
       "3.0     0.013293\n",
       "4.0     0.015299\n",
       "5.0     0.015595\n",
       "6.0     0.016324\n",
       "7.0     0.013374\n",
       "8.0     0.015996\n",
       "9.0     0.016800\n",
       "10.0    0.018392\n",
       "Name: realised_return, dtype: float64"
      ]
     },
     "execution_count": 195,
     "metadata": {},
     "output_type": "execute_result"
    }
   ],
   "source": [
    "all_year_19.groupby('emp_length')['realised_return'].mean()"
   ]
  },
  {
   "cell_type": "markdown",
   "id": "ac198b73",
   "metadata": {},
   "source": [
    "### We remove the instances with missing values in columns with low number of NA's"
   ]
  },
  {
   "cell_type": "code",
   "execution_count": 196,
   "id": "df4308a7",
   "metadata": {},
   "outputs": [],
   "source": [
    "all_year_19 = all_year_19.dropna(subset=['dti'])"
   ]
  },
  {
   "cell_type": "code",
   "execution_count": 197,
   "id": "7233092b",
   "metadata": {},
   "outputs": [],
   "source": [
    "# remove the percentage sign from the 'revol_util' column and convert it to floats\n",
    "all_year_19['revol_util'] = all_year_19['revol_util'].str.rstrip('%').astype('float') / 100"
   ]
  },
  {
   "cell_type": "code",
   "execution_count": 198,
   "id": "c365f424",
   "metadata": {},
   "outputs": [],
   "source": [
    "all_year_19 = all_year_19.dropna(subset=['revol_util'])"
   ]
  },
  {
   "cell_type": "code",
   "execution_count": 199,
   "id": "168c561b",
   "metadata": {
    "scrolled": false
   },
   "outputs": [
    {
     "data": {
      "text/plain": [
       "open_acc_6m                 44\n",
       "open_act_il                 44\n",
       "open_il_12m                 44\n",
       "open_il_24m                 44\n",
       "mths_since_rcnt_il        8142\n",
       "total_bal_il                44\n",
       "il_util                  37528\n",
       "open_rv_12m                 44\n",
       "open_rv_24m                 44\n",
       "max_bal_bc                  44\n",
       "all_util                    44\n",
       "inq_fi                      44\n",
       "total_cu_tl                 44\n",
       "inq_last_12m                44\n",
       "bc_open_to_buy            2949\n",
       "bc_util                   3060\n",
       "mo_sin_old_il_acct        8103\n",
       "mths_since_recent_bc      2777\n",
       "mths_since_recent_inq    27732\n",
       "percent_bc_gt_75          2972\n",
       "dtype: int64"
      ]
     },
     "execution_count": 199,
     "metadata": {},
     "output_type": "execute_result"
    }
   ],
   "source": [
    "all_year_19[all_year_19.columns[all_year_19.isna().sum()>0]].isna().sum()"
   ]
  },
  {
   "cell_type": "code",
   "execution_count": 200,
   "id": "483d6f78",
   "metadata": {},
   "outputs": [],
   "source": [
    "all_year_19 = all_year_19.dropna(subset=['open_acc_6m'])"
   ]
  },
  {
   "cell_type": "code",
   "execution_count": 201,
   "id": "39146fb0",
   "metadata": {},
   "outputs": [
    {
     "data": {
      "text/plain": [
       "mths_since_rcnt_il        8098\n",
       "il_util                  37484\n",
       "bc_open_to_buy            2948\n",
       "bc_util                   3059\n",
       "mo_sin_old_il_acct        8098\n",
       "mths_since_recent_bc      2776\n",
       "mths_since_recent_inq    27727\n",
       "percent_bc_gt_75          2971\n",
       "dtype: int64"
      ]
     },
     "execution_count": 201,
     "metadata": {},
     "output_type": "execute_result"
    }
   ],
   "source": [
    "all_year_19[all_year_19.columns[all_year_19.isna().sum()>0]].isna().sum()"
   ]
  },
  {
   "cell_type": "code",
   "execution_count": 202,
   "id": "5f86a18c",
   "metadata": {},
   "outputs": [],
   "source": [
    "all_year_19 = all_year_19.dropna(subset=['bc_util'])"
   ]
  },
  {
   "cell_type": "code",
   "execution_count": 203,
   "id": "8c9108ca",
   "metadata": {},
   "outputs": [
    {
     "data": {
      "text/plain": [
       "mths_since_rcnt_il        8059\n",
       "il_util                  37140\n",
       "mo_sin_old_il_acct        8059\n",
       "mths_since_recent_bc         7\n",
       "mths_since_recent_inq    27281\n",
       "percent_bc_gt_75            23\n",
       "dtype: int64"
      ]
     },
     "execution_count": 203,
     "metadata": {},
     "output_type": "execute_result"
    }
   ],
   "source": [
    "all_year_19[all_year_19.columns[all_year_19.isna().sum()>0]].isna().sum()"
   ]
  },
  {
   "cell_type": "code",
   "execution_count": 204,
   "id": "5b59d94d",
   "metadata": {},
   "outputs": [],
   "source": [
    "all_year_19 = all_year_19.dropna(subset=['percent_bc_gt_75'])"
   ]
  },
  {
   "cell_type": "code",
   "execution_count": 205,
   "id": "550b5af1",
   "metadata": {},
   "outputs": [
    {
     "data": {
      "text/plain": [
       "mths_since_rcnt_il        8059\n",
       "il_util                  37140\n",
       "mo_sin_old_il_acct        8059\n",
       "mths_since_recent_inq    27280\n",
       "dtype: int64"
      ]
     },
     "execution_count": 205,
     "metadata": {},
     "output_type": "execute_result"
    }
   ],
   "source": [
    "all_year_19[all_year_19.columns[all_year_19.isna().sum()>0]].isna().sum()"
   ]
  },
  {
   "cell_type": "markdown",
   "id": "1ef316b4",
   "metadata": {},
   "source": [
    "### - Above we removed all NA instances in 'bc' columns together"
   ]
  },
  {
   "cell_type": "code",
   "execution_count": 206,
   "id": "f3d4e205",
   "metadata": {},
   "outputs": [
    {
     "data": {
      "image/png": "[encoded data removed]",
      "text/plain": [
       "<Figure size 640x480 with 1 Axes>"
      ]
     },
     "metadata": {},
     "output_type": "display_data"
    },
    {
     "name": "stdout",
     "output_type": "stream",
     "text": [
      "Slope: 0.0008494265436827051\n"
     ]
    }
   ],
   "source": [
    "grouped_data = all_year_19.groupby('mths_since_recent_inq')['realised_return'].mean()\n",
    "\n",
    "# convert the grouped data to a dataframe and reset the index\n",
    "grouped_df = pd.DataFrame(grouped_data).reset_index()\n",
    "\n",
    "# plot the data with a line of best fit\n",
    "sns.regplot(x='mths_since_recent_inq', y='realised_return', data=grouped_df)\n",
    "\n",
    "# show the plot\n",
    "plt.show()\n",
    "\n",
    "# calculate the slope of the line of best fit\n",
    "x = grouped_df['mths_since_recent_inq']\n",
    "y = grouped_df['realised_return']\n",
    "slope, intercept = np.polyfit(x, y, 1)\n",
    "print('Slope:', slope)"
   ]
  },
  {
   "cell_type": "code",
   "execution_count": 207,
   "id": "e5ec2903",
   "metadata": {},
   "outputs": [
    {
     "data": {
      "text/plain": [
       "0.02445373994339179"
      ]
     },
     "execution_count": 207,
     "metadata": {},
     "output_type": "execute_result"
    }
   ],
   "source": [
    "all_year_19.realised_return[all_year_19.mths_since_recent_inq.isna()].mean()"
   ]
  },
  {
   "cell_type": "code",
   "execution_count": 208,
   "id": "61797503",
   "metadata": {},
   "outputs": [
    {
     "data": {
      "text/plain": [
       "<seaborn.axisgrid.FacetGrid at 0x2a49fd72dc0>"
      ]
     },
     "execution_count": 208,
     "metadata": {},
     "output_type": "execute_result"
    },
    {
     "data": {
      "image/png": "[encoded data removed]",
      "text/plain": [
       "<Figure size 500x500 with 1 Axes>"
      ]
     },
     "metadata": {},
     "output_type": "display_data"
    }
   ],
   "source": [
    "sns.displot(all_year_19['mths_since_recent_inq'])"
   ]
  },
  {
   "cell_type": "code",
   "execution_count": 209,
   "id": "03387c2f",
   "metadata": {},
   "outputs": [],
   "source": [
    "all_year_19['mths_since_recent_inq'] = all_year_19['mths_since_recent_inq'].fillna(22.0)"
   ]
  },
  {
   "cell_type": "markdown",
   "id": "40d43128",
   "metadata": {},
   "source": [
    "#### We can understand that the N/A group is not considered risky because we can see that the mean realised_return for the N/A’s is relatively high (24%) and therefore we replaced the missing values with the closest value to this realized return, which is 22 (and the mean realised_return is 0.02376)"
   ]
  },
  {
   "cell_type": "code",
   "execution_count": 210,
   "id": "cf09b35b",
   "metadata": {},
   "outputs": [
    {
     "data": {
      "text/plain": [
       "<seaborn.axisgrid.FacetGrid at 0x2a49fd72f70>"
      ]
     },
     "execution_count": 210,
     "metadata": {},
     "output_type": "execute_result"
    },
    {
     "data": {
      "image/png": "[encoded data removed]",
      "text/plain": [
       "<Figure size 500x500 with 1 Axes>"
      ]
     },
     "metadata": {},
     "output_type": "display_data"
    }
   ],
   "source": [
    "sns.displot(all_year_19['mo_sin_old_il_acct'])"
   ]
  },
  {
   "cell_type": "code",
   "execution_count": 211,
   "id": "e80a65f1",
   "metadata": {},
   "outputs": [],
   "source": [
    "all_year_19['mo_sin_old_il_acct'] = all_year_19['mo_sin_old_il_acct'].fillna(all_year_19['mo_sin_old_il_acct'].median())"
   ]
  },
  {
   "cell_type": "markdown",
   "id": "4e720065",
   "metadata": {},
   "source": [
    "The distribution of 'mo_sin_old_il_acct' is nearly normal, and the mean realised_return for the median is 0.01352 which is close to the mean realised_return of the N/A’s. Therefore we can replace the missing values with the median."
   ]
  },
  {
   "cell_type": "markdown",
   "id": "ca6b727a",
   "metadata": {},
   "source": [
    "### Features we decided to put aside, we will reconsider including these features based on how our model performs:"
   ]
  },
  {
   "cell_type": "code",
   "execution_count": 212,
   "id": "ee2b4cae",
   "metadata": {},
   "outputs": [
    {
     "data": {
      "text/plain": [
       "mths_since_rcnt_il     8059\n",
       "il_util               37140\n",
       "dtype: int64"
      ]
     },
     "execution_count": 212,
     "metadata": {},
     "output_type": "execute_result"
    }
   ],
   "source": [
    "all_year_19[all_year_19.columns[all_year_19.isna().sum()>0]].isna().sum()"
   ]
  },
  {
   "cell_type": "code",
   "execution_count": 213,
   "id": "a1733dc9",
   "metadata": {},
   "outputs": [],
   "source": [
    "put_aside_columns = ['mths_since_rcnt_il','il_util','purpose','grade']"
   ]
  },
  {
   "cell_type": "markdown",
   "id": "3eef68a2",
   "metadata": {},
   "source": [
    "# Dealing with categorical features:"
   ]
  },
  {
   "cell_type": "markdown",
   "id": "6caff614",
   "metadata": {},
   "source": [
    "We decided to remove grade and turned  sub_grade to numeric values"
   ]
  },
  {
   "cell_type": "code",
   "execution_count": 214,
   "id": "8ac95a0d",
   "metadata": {},
   "outputs": [],
   "source": [
    "grade_mappings = {\n",
    "  'A1': 1.0,\n",
    "  'A2': 1.2,\n",
    "  'A3': 1.4,\n",
    "  'A4': 1.6,\n",
    "  'A5': 1.8,\n",
    "  'B1': 2.0,\n",
    "  'B2': 2.2,\n",
    "  'B3': 2.4,\n",
    "  'B4': 2.6,\n",
    "  'B5': 2.8,\n",
    "  'C1': 3.0,\n",
    "  'C2': 3.2,\n",
    "  'C3': 3.4,\n",
    "  'C4': 3.6,\n",
    "  'C5': 3.8,\n",
    "  'D1': 4.0,\n",
    "  'D2': 4.2,\n",
    "  'D3': 4.4,\n",
    "  'D4': 4.6,\n",
    "  'D5': 4.8,\n",
    "  'E1': 5.0,\n",
    "  'E2': 5.2,\n",
    "  'E3': 5.4,\n",
    "  'E4': 5.6,\n",
    "  'E5': 5.8,\n",
    "  'F1': 6.0,\n",
    "  'F2': 6.2,\n",
    "  'F3': 6.4,\n",
    "  'F4': 6.6,\n",
    "  'F5': 6.8,\n",
    "  'G1': 7.0,\n",
    "  'G2': 7.2,\n",
    "  'G3': 7.4,\n",
    "  'G4': 7.6,\n",
    "  'G5': 7.8\n",
    "}\n",
    "x = all_year_19.sub_grade.map(grade_mappings)\n"
   ]
  },
  {
   "cell_type": "code",
   "execution_count": 215,
   "id": "a2df8468",
   "metadata": {},
   "outputs": [],
   "source": [
    "all_year_19['sub_grade'] = x"
   ]
  },
  {
   "cell_type": "code",
   "execution_count": 216,
   "id": "1da216f5",
   "metadata": {},
   "outputs": [
    {
     "name": "stdout",
     "output_type": "stream",
     "text": [
      "Slope: -0.01361964463650504\n"
     ]
    },
    {
     "data": {
      "image/png": "[encoded data removed]",
      "text/plain": [
       "<Figure size 640x480 with 1 Axes>"
      ]
     },
     "metadata": {},
     "output_type": "display_data"
    }
   ],
   "source": [
    "grouped_data = all_year_19.groupby('sub_grade')['realised_return'].mean()\n",
    "\n",
    "# convert the grouped data to a dataframe and reset the index\n",
    "grouped_df = pd.DataFrame(grouped_data).reset_index()\n",
    "\n",
    "# plot the data with a line of best fit\n",
    "sns.regplot(x='sub_grade', y='realised_return', data=grouped_df)\n",
    "\n",
    "x = grouped_df['sub_grade']\n",
    "y = grouped_df['realised_return']\n",
    "slope, intercept = np.polyfit(x, y, 1)\n",
    "print('Slope:', slope)\n"
   ]
  },
  {
   "cell_type": "markdown",
   "id": "dba9b41e",
   "metadata": {},
   "source": [
    "For 'Home_ownership' - Created 3 dummies: \"OWN\",\"MORTGAGE\",\"RENT OR ANY\" "
   ]
  },
  {
   "cell_type": "code",
   "execution_count": 217,
   "id": "a711c939",
   "metadata": {},
   "outputs": [],
   "source": [
    "dummies = pd.get_dummies(all_year_19.home_ownership)\n",
    "dummies[\"RENT or ANY\"] = dummies[\"RENT\"] | dummies[\"ANY\"]\n",
    "all_year_19 = pd.concat([all_year_19,dummies[[\"RENT or ANY\",\"MORTGAGE\",\"OWN\",]]],axis=1)"
   ]
  },
  {
   "cell_type": "code",
   "execution_count": 218,
   "id": "6f901519",
   "metadata": {},
   "outputs": [],
   "source": [
    "dummy_columns = []\n",
    "dummy_columns += [\"RENT or ANY\",\"MORTGAGE\",\"OWN\"]"
   ]
  },
  {
   "cell_type": "markdown",
   "id": "11578a3f",
   "metadata": {},
   "source": [
    "For 'verification_status' - Created 3 dummies"
   ]
  },
  {
   "cell_type": "code",
   "execution_count": 219,
   "id": "14f80411",
   "metadata": {},
   "outputs": [],
   "source": [
    "all_year_19 = pd.concat([all_year_19,pd.get_dummies(all_year_19.verification_status)],axis=1)"
   ]
  },
  {
   "cell_type": "code",
   "execution_count": 220,
   "id": "a2dee560",
   "metadata": {},
   "outputs": [],
   "source": [
    "dummy_columns += list(pd.get_dummies(all_year_19.verification_status).columns)"
   ]
  },
  {
   "cell_type": "markdown",
   "id": "6ecd4414",
   "metadata": {},
   "source": [
    "For earliest_cr_line - We calculated the number of years from 1.1.2016"
   ]
  },
  {
   "cell_type": "code",
   "execution_count": 221,
   "id": "00a573da",
   "metadata": {},
   "outputs": [],
   "source": [
    "def years_between(date) :\n",
    "    diff=(datetime.strptime(\"01/01/2016\",'%d/%m/%Y')-datetime.strptime(date,'%d/%m/%Y')).days/365    \n",
    "    return np.round(diff,decimals=1)\n",
    "    \n",
    "# earliest_cr_line- make it years from.\n",
    "all_year_19.earliest_cr_line = all_year_19.earliest_cr_line.apply(convert_date)\n",
    "all_year_19.earliest_cr_line = all_year_19.earliest_cr_line.apply(years_between)"
   ]
  },
  {
   "cell_type": "markdown",
   "id": "6aa286f9",
   "metadata": {},
   "source": [
    "For initial_list_status - F=0 W=1"
   ]
  },
  {
   "cell_type": "code",
   "execution_count": 222,
   "id": "3bba8e8b",
   "metadata": {},
   "outputs": [],
   "source": [
    "all_year_19.initial_list_status.replace(to_replace='f',value=0,inplace=True)\n",
    "all_year_19.initial_list_status.replace(to_replace='w',value=1,inplace=True)"
   ]
  },
  {
   "cell_type": "markdown",
   "id": "c7d3da64",
   "metadata": {},
   "source": [
    "Taking care of and dropping more columns"
   ]
  },
  {
   "cell_type": "code",
   "execution_count": 223,
   "id": "4dc874e0",
   "metadata": {},
   "outputs": [],
   "source": [
    "# remove the percentage sign from the 'int_rate' column and convert it to floats\n",
    "all_year_19['int_rate'] = all_year_19['int_rate'].str.rstrip('%').astype('float') / 100"
   ]
  },
  {
   "cell_type": "code",
   "execution_count": 224,
   "id": "52684e46",
   "metadata": {},
   "outputs": [],
   "source": [
    "cols_to_remove_cat = ['issue_d','funded_amnt','Qrtr']\n",
    "cols_to_remove_na = ['mths_since_rcnt_il', 'il_util']"
   ]
  },
  {
   "cell_type": "code",
   "execution_count": 225,
   "id": "6beda937",
   "metadata": {},
   "outputs": [],
   "source": [
    "all_year_19 = all_year_19.drop(columns=cols_to_remove_cat)\n",
    "all_year_19 = all_year_19.drop(columns=cols_to_remove_na)"
   ]
  },
  {
   "cell_type": "code",
   "execution_count": 226,
   "id": "259a255a",
   "metadata": {},
   "outputs": [],
   "source": [
    "correlation_matrix = all_year_19.corr()\n",
    "\n",
    "# get boolean mask where correlation matrix is upper triangular matrix\n",
    "# k=1 to exclude diagonal elements as well\n",
    "mask = np.triu(np.ones_like(correlation_matrix, dtype=bool), k=1)\n",
    "\n",
    "# get the elements where mask is False i.e lower triangular part of correlation matrix\n",
    "correlation_matrix_where_mask = correlation_matrix.where(~mask)\n",
    "\n",
    "# stack and reset index\n",
    "correlation_pairs = correlation_matrix_where_mask.stack().reset_index()\n",
    "\n",
    "# name columns of correlation_pairs DataFrame\n",
    "correlation_pairs.columns = ['Variable1', 'Variable2', 'Correlation']\n",
    "\n",
    "# drop rows where Variable1 and Variable2 are identical\n",
    "correlation_pairs = correlation_pairs[correlation_pairs['Variable1'] != correlation_pairs['Variable2']]\n",
    "\n",
    "# sort by Correlation\n",
    "sorted_correlation_pairs = correlation_pairs.sort_values(by='Correlation', ascending=False)\n",
    "\n",
    "# print sorted correlation pairs\n",
    "# print(sorted_correlation_pairs.head(100))"
   ]
  },
  {
   "cell_type": "code",
   "execution_count": 227,
   "id": "4af80dfa",
   "metadata": {},
   "outputs": [
    {
     "name": "stdout",
     "output_type": "stream",
     "text": [
      "                       Variable1              Variable2  Correlation  \\\n",
      "64               fico_range_high         fico_range_low     1.000000   \n",
      "1497                    num_sats               open_acc     0.998683   \n",
      "3                    installment              loan_amnt     0.993008   \n",
      "7                      sub_grade               int_rate     0.989828   \n",
      "1478         num_rev_tl_bal_gt_0        num_actv_rev_tl     0.978296   \n",
      "1850             tot_hi_cred_lim            tot_cur_bal     0.958519   \n",
      "2041  total_il_high_credit_limit           total_bal_il     0.958169   \n",
      "171                  total_pymnt              loan_amnt     0.912053   \n",
      "173                  total_pymnt            installment     0.900141   \n",
      "1916           total_bal_ex_mort           total_bal_il     0.890795   \n",
      "2077  total_il_high_credit_limit      total_bal_ex_mort     0.878281   \n",
      "718                      bc_util             revol_util     0.857768   \n",
      "622         acc_open_past_24mths            open_rv_24m     0.849179   \n",
      "1622          num_tl_op_past_12m            open_rv_12m     0.844163   \n",
      "1748            percent_bc_gt_75                bc_util     0.842710   \n",
      "650                  avg_cur_bal            tot_cur_bal     0.839950   \n",
      "1427               num_rev_accts              num_bc_tl     0.836834   \n",
      "1338               num_op_rev_tl               open_acc     0.833954   \n",
      "1222                 num_bc_sats         num_actv_bc_tl     0.833837   \n",
      "479             total_rev_hi_lim              revol_bal     0.833670   \n",
      "1536                    num_sats          num_op_rev_tl     0.832756   \n",
      "1989              total_bc_limit         bc_open_to_buy     0.830452   \n",
      "1174             num_actv_rev_tl         num_actv_bc_tl     0.816042   \n",
      "1477         num_rev_tl_bal_gt_0         num_actv_bc_tl     0.804830   \n",
      "1429               num_rev_accts          num_op_rev_tl     0.800642   \n",
      "1482         num_rev_tl_bal_gt_0          num_op_rev_tl     0.798105   \n",
      "1373               num_op_rev_tl        num_actv_rev_tl     0.793321   \n",
      "1865             tot_hi_cred_lim            avg_cur_bal     0.787108   \n",
      "1983              total_bc_limit       total_rev_hi_lim     0.783177   \n",
      "1630          num_tl_op_past_12m   acc_open_past_24mths     0.779184   \n",
      "404                  open_rv_24m            open_rv_12m     0.775031   \n",
      "323                  open_il_24m            open_il_12m     0.768286   \n",
      "1394               num_rev_accts              total_acc     0.762353   \n",
      "1273                   num_bc_tl            num_bc_sats     0.754264   \n",
      "1374               num_op_rev_tl            num_bc_sats     0.743357   \n",
      "788         mo_sin_old_rev_tl_op       earliest_cr_line     0.743089   \n",
      "1617          num_tl_op_past_12m            open_acc_6m     0.726847   \n",
      "1726            percent_bc_gt_75             revol_util     0.724968   \n",
      "148                    total_acc               open_acc     0.723808   \n",
      "1501                    num_sats              total_acc     0.720269   \n",
      "1291                   num_il_tl              total_acc     0.681831   \n",
      "1223                 num_bc_sats        num_actv_rev_tl     0.677024   \n",
      "1390               num_rev_accts               open_acc     0.671881   \n",
      "1443         num_rev_tl_bal_gt_0               open_acc     0.670225   \n",
      "1538                    num_sats    num_rev_tl_bal_gt_0     0.669049   \n",
      "1140             num_actv_rev_tl               open_acc     0.668262   \n",
      "1537                    num_sats          num_rev_accts     0.665914   \n",
      "1547          num_tl_90g_dpd_24m            delinq_2yrs     0.665138   \n",
      "1532                    num_sats        num_actv_rev_tl     0.663481   \n",
      "1623          num_tl_op_past_12m            open_rv_24m     0.663326   \n",
      "1372               num_op_rev_tl         num_actv_bc_tl     0.658628   \n",
      "621         acc_open_past_24mths            open_rv_12m     0.656860   \n",
      "450                     all_util             revol_util     0.653254   \n",
      "1297                   num_il_tl            open_act_il     0.651042   \n",
      "1375               num_op_rev_tl              num_bc_tl     0.650812   \n",
      "1479         num_rev_tl_bal_gt_0            num_bc_sats     0.648373   \n",
      "372                  open_rv_12m            open_acc_6m     0.629956   \n",
      "1188                 num_bc_sats               open_acc     0.622696   \n",
      "1241                   num_bc_tl              total_acc     0.622309   \n",
      "696               bc_open_to_buy       total_rev_hi_lim     0.621293   \n",
      "901               mo_sin_rcnt_tl  mo_sin_rcnt_rev_tl_op     0.619750   \n",
      "1533                    num_sats            num_bc_sats     0.618105   \n",
      "2001              total_bc_limit            num_bc_sats     0.617327   \n",
      "986         mths_since_recent_bc  mo_sin_rcnt_rev_tl_op     0.614349   \n",
      "1271                   num_bc_tl         num_actv_bc_tl     0.608364   \n",
      "1783        pub_rec_bankruptcies                pub_rec     0.605807   \n",
      "1426               num_rev_accts            num_bc_sats     0.599591   \n",
      "1981              total_bc_limit             max_bal_bc     0.599235   \n",
      "1425               num_rev_accts        num_actv_rev_tl     0.592674   \n",
      "1483         num_rev_tl_bal_gt_0          num_rev_accts     0.588945   \n",
      "1300                   num_il_tl           total_bal_il     0.584596   \n",
      "1342               num_op_rev_tl              total_acc     0.582802   \n",
      "732                      bc_util               all_util     0.579535   \n",
      "619         acc_open_past_24mths            open_il_24m     0.574163   \n",
      "2066  total_il_high_credit_limit              num_il_tl     0.572993   \n",
      "1353               num_op_rev_tl            open_rv_24m     0.566508   \n",
      "347                 total_bal_il            open_act_il     0.565711   \n",
      "1619          num_tl_op_past_12m            open_il_12m     0.562599   \n",
      "420                   max_bal_bc              revol_bal     0.560475   \n",
      "616         acc_open_past_24mths            open_acc_6m     0.559187   \n",
      "592                 inq_last_12m                 inq_fi     0.558950   \n",
      "2038  total_il_high_credit_limit            open_act_il     0.555460   \n",
      "1093              num_actv_bc_tl               open_acc     0.551605   \n",
      "1531                    num_sats         num_actv_bc_tl     0.549462   \n",
      "923                     mort_acc            tot_cur_bal     0.547474   \n",
      "1872             tot_hi_cred_lim               mort_acc     0.545143   \n",
      "1237                   num_bc_tl               open_acc     0.541468   \n",
      "1534                    num_sats              num_bc_tl     0.537156   \n",
      "1911           total_bal_ex_mort            tot_cur_bal     0.533139   \n",
      "2002              total_bc_limit              num_bc_tl     0.530286   \n",
      "1507                    num_sats            open_act_il     0.519481   \n",
      "265                  open_act_il               open_acc     0.517112   \n",
      "676               bc_open_to_buy        fico_range_high     0.515099   \n",
      "675               bc_open_to_buy         fico_range_low     0.515093   \n",
      "1951           total_bal_ex_mort        tot_hi_cred_lim     0.510515   \n",
      "1860             tot_hi_cred_lim       total_rev_hi_lim     0.506939   \n",
      "1272                   num_bc_tl        num_actv_rev_tl     0.503105   \n",
      "1941           total_bal_ex_mort              num_il_tl     0.502635   \n",
      "1480         num_rev_tl_bal_gt_0              num_bc_tl     0.499955   \n",
      "493             total_rev_hi_lim             max_bal_bc     0.498237   \n",
      "\n",
      "      Variable1_CorrWithTarget  Variable2_CorrWithTarget  \n",
      "64                    0.047521                  0.047521  \n",
      "1497                 -0.012432                 -0.012682  \n",
      "3                    -0.026954                 -0.013822  \n",
      "7                    -0.109251                 -0.115453  \n",
      "1478                 -0.019565                 -0.021451  \n",
      "1850                  0.043310                  0.041078  \n",
      "2041                  0.010341                  0.002327  \n",
      "171                   0.321138                 -0.013822  \n",
      "173                   0.321138                 -0.026954  \n",
      "1916                  0.011685                  0.002327  \n",
      "2077                  0.010341                  0.011685  \n",
      "718                  -0.000454                  0.002360  \n",
      "622                  -0.073745                 -0.061311  \n",
      "1622                 -0.060712                 -0.043207  \n",
      "1748                 -0.006767                 -0.000454  \n",
      "650                   0.044266                  0.041078  \n",
      "1427                 -0.007814                 -0.007063  \n",
      "1338                 -0.019276                 -0.012682  \n",
      "1222                 -0.016137                 -0.015425  \n",
      "479                   0.025207                  0.019726  \n",
      "1536                 -0.012432                 -0.019276  \n",
      "1989                  0.029509                  0.022381  \n",
      "1174                 -0.021451                 -0.015425  \n",
      "1477                 -0.019565                 -0.015425  \n",
      "1429                 -0.007814                 -0.019276  \n",
      "1482                 -0.019565                 -0.019276  \n",
      "1373                 -0.019276                 -0.021451  \n",
      "1865                  0.043310                  0.044266  \n",
      "1983                  0.029509                  0.025207  \n",
      "1630                 -0.060712                 -0.073745  \n",
      "404                  -0.061311                 -0.043207  \n",
      "323                  -0.053551                 -0.053894  \n",
      "1394                 -0.007814                 -0.001658  \n",
      "1273                 -0.007063                 -0.016137  \n",
      "1374                 -0.019276                 -0.016137  \n",
      "788                   0.025487                  0.024222  \n",
      "1617                 -0.060712                 -0.051134  \n",
      "1726                 -0.006767                  0.002360  \n",
      "148                  -0.001658                 -0.012682  \n",
      "1501                 -0.012432                 -0.001658  \n",
      "1291                 -0.005304                 -0.001658  \n",
      "1223                 -0.016137                 -0.021451  \n",
      "1390                 -0.007814                 -0.012682  \n",
      "1443                 -0.019565                 -0.012682  \n",
      "1538                 -0.012432                 -0.019565  \n",
      "1140                 -0.021451                 -0.012682  \n",
      "1537                 -0.012432                 -0.007814  \n",
      "1547                 -0.003864                 -0.007250  \n",
      "1532                 -0.012432                 -0.021451  \n",
      "1623                 -0.060712                 -0.061311  \n",
      "1372                 -0.019276                 -0.015425  \n",
      "621                  -0.073745                 -0.043207  \n",
      "450                  -0.021487                  0.002360  \n",
      "1297                 -0.005304                 -0.003166  \n",
      "1375                 -0.019276                 -0.007063  \n",
      "1479                 -0.019565                 -0.016137  \n",
      "372                  -0.043207                 -0.051134  \n",
      "1188                 -0.016137                 -0.012682  \n",
      "1241                 -0.007063                 -0.001658  \n",
      "696                   0.022381                  0.025207  \n",
      "901                   0.036562                  0.035479  \n",
      "1533                 -0.012432                 -0.016137  \n",
      "2001                  0.029509                 -0.016137  \n",
      "986                   0.035331                  0.035479  \n",
      "1271                 -0.007063                 -0.015425  \n",
      "1783                 -0.021491                 -0.015441  \n",
      "1426                 -0.007814                 -0.016137  \n",
      "1981                  0.029509                  0.031060  \n",
      "1425                 -0.007814                 -0.021451  \n",
      "1483                 -0.019565                 -0.007814  \n",
      "1300                 -0.005304                  0.002327  \n",
      "1342                 -0.019276                 -0.001658  \n",
      "732                  -0.000454                 -0.021487  \n",
      "619                  -0.073745                 -0.053551  \n",
      "2066                  0.010341                 -0.005304  \n",
      "1353                 -0.019276                 -0.061311  \n",
      "347                   0.002327                 -0.003166  \n",
      "1619                 -0.060712                 -0.053894  \n",
      "420                   0.031060                  0.019726  \n",
      "616                  -0.073745                 -0.051134  \n",
      "592                  -0.054151                 -0.048180  \n",
      "2038                  0.010341                 -0.003166  \n",
      "1093                 -0.015425                 -0.012682  \n",
      "1531                 -0.012432                 -0.015425  \n",
      "923                   0.044330                  0.041078  \n",
      "1872                  0.043310                  0.044330  \n",
      "1237                 -0.007063                 -0.012682  \n",
      "1534                 -0.012432                 -0.007063  \n",
      "1911                  0.011685                  0.041078  \n",
      "2002                  0.029509                 -0.007063  \n",
      "1507                 -0.012432                 -0.003166  \n",
      "265                  -0.003166                 -0.012682  \n",
      "676                   0.022381                  0.047521  \n",
      "675                   0.022381                  0.047521  \n",
      "1951                  0.011685                  0.043310  \n",
      "1860                  0.043310                  0.025207  \n",
      "1272                 -0.007063                 -0.021451  \n",
      "1941                  0.011685                 -0.005304  \n",
      "1480                 -0.019565                 -0.007063  \n",
      "493                   0.025207                  0.031060  \n"
     ]
    }
   ],
   "source": [
    "# calculate correlation of all variables with 'realised_return'\n",
    "correlation_with_target = all_year_19.corr()['realised_return']\n",
    "\n",
    "# add two new columns to sorted_correlation_pairs DataFrame\n",
    "sorted_correlation_pairs['Variable1_CorrWithTarget'] = sorted_correlation_pairs['Variable1'].map(correlation_with_target)\n",
    "sorted_correlation_pairs['Variable2_CorrWithTarget'] = sorted_correlation_pairs['Variable2'].map(correlation_with_target)\n",
    "\n",
    "# print updated DataFrame\n",
    "print(sorted_correlation_pairs.head(100))"
   ]
  },
  {
   "cell_type": "code",
   "execution_count": 228,
   "id": "b9ca0280",
   "metadata": {},
   "outputs": [],
   "source": [
    "columns_to_drop_corr = ['fico_range_low', 'open_acc', 'installment', 'num_rev_tl_bal_gt_0', 'tot_cur_bal', 'total_bal_il']\n",
    "all_year_19 = all_year_19.drop(columns=columns_to_drop_corr)"
   ]
  },
  {
   "cell_type": "markdown",
   "id": "4b31ad78",
   "metadata": {},
   "source": [
    "Here we are creating two dataframes one that will be uses by numeric-only prediction models like linear regression,\n",
    "The second dataframe will include the categorical values and not their dummy features to be used in models that can workon categorical features like decision trees."
   ]
  },
  {
   "cell_type": "code",
   "execution_count": 229,
   "id": "e2148315",
   "metadata": {},
   "outputs": [],
   "source": [
    "final_df_numeric = all_year_19.drop(columns=['verification_status','grade','home_ownership'])"
   ]
  },
  {
   "cell_type": "code",
   "execution_count": 230,
   "id": "380aee32",
   "metadata": {},
   "outputs": [],
   "source": [
    "final_df_categorical = all_year_19.drop(columns = dummy_columns)"
   ]
  },
  {
   "cell_type": "code",
   "execution_count": 238,
   "id": "a903006b",
   "metadata": {},
   "outputs": [
    {
     "data": {
      "text/plain": [
       "loan_amnt                            float64\n",
       "int_rate                             float64\n",
       "sub_grade                            float64\n",
       "emp_length                           float64\n",
       "annual_inc                           float64\n",
       "loan_status                           object\n",
       "dti                                  float64\n",
       "delinq_2yrs                          float64\n",
       "earliest_cr_line                     float64\n",
       "fico_range_high                      float64\n",
       "inq_last_6mths                       float64\n",
       "pub_rec                              float64\n",
       "revol_bal                            float64\n",
       "revol_util                           float64\n",
       "total_acc                            float64\n",
       "initial_list_status                    int64\n",
       "total_pymnt                          float64\n",
       "last_pymnt_d                  datetime64[ns]\n",
       "tot_coll_amt                         float64\n",
       "open_acc_6m                          float64\n",
       "open_act_il                          float64\n",
       "open_il_12m                          float64\n",
       "open_il_24m                          float64\n",
       "open_rv_12m                          float64\n",
       "open_rv_24m                          float64\n",
       "max_bal_bc                           float64\n",
       "all_util                             float64\n",
       "total_rev_hi_lim                     float64\n",
       "inq_fi                               float64\n",
       "total_cu_tl                          float64\n",
       "inq_last_12m                         float64\n",
       "acc_open_past_24mths                 float64\n",
       "avg_cur_bal                          float64\n",
       "bc_open_to_buy                       float64\n",
       "bc_util                              float64\n",
       "mo_sin_old_il_acct                   float64\n",
       "mo_sin_old_rev_tl_op                 float64\n",
       "mo_sin_rcnt_rev_tl_op                float64\n",
       "mo_sin_rcnt_tl                       float64\n",
       "mort_acc                             float64\n",
       "mths_since_recent_bc                 float64\n",
       "mths_since_recent_inq                float64\n",
       "num_accts_ever_120_pd                float64\n",
       "num_actv_bc_tl                       float64\n",
       "num_actv_rev_tl                      float64\n",
       "num_bc_sats                          float64\n",
       "num_bc_tl                            float64\n",
       "num_il_tl                            float64\n",
       "num_op_rev_tl                        float64\n",
       "num_rev_accts                        float64\n",
       "num_sats                             float64\n",
       "num_tl_90g_dpd_24m                   float64\n",
       "num_tl_op_past_12m                   float64\n",
       "pct_tl_nvr_dlq                       float64\n",
       "percent_bc_gt_75                     float64\n",
       "pub_rec_bankruptcies                 float64\n",
       "tot_hi_cred_lim                      float64\n",
       "total_bal_ex_mort                    float64\n",
       "total_bc_limit                       float64\n",
       "total_il_high_credit_limit           float64\n",
       "loan_lifetime_in_months              float64\n",
       "estimated_monthly_paymnent           float64\n",
       "realised_return                      float64\n",
       "RENT or ANY                            uint8\n",
       "MORTGAGE                               uint8\n",
       "OWN                                    uint8\n",
       "Not Verified                           uint8\n",
       "Source Verified                        uint8\n",
       "Verified                               uint8\n",
       "dtype: object"
      ]
     },
     "execution_count": 238,
     "metadata": {},
     "output_type": "execute_result"
    }
   ],
   "source": [
    "final_df_numeric.dtypes"
   ]
  },
  {
   "cell_type": "markdown",
   "id": "82d224f8",
   "metadata": {},
   "source": [
    "Writting the df to a csv document for use in models"
   ]
  },
  {
   "cell_type": "code",
   "execution_count": 239,
   "id": "e9991949",
   "metadata": {},
   "outputs": [],
   "source": [
    "file_name = 'numeric_dataframe.csv'\n",
    "final_df_numeric.to_csv(file_name,index=False)"
   ]
  },
  {
   "cell_type": "code",
   "execution_count": 240,
   "id": "c020b81c",
   "metadata": {},
   "outputs": [],
   "source": [
    "file_name = 'categoric_dataframe.csv'\n",
    "final_df_categorical.to_csv(file_name,index=False)"
   ]
  },
  {
   "cell_type": "code",
   "execution_count": 8,
   "id": "aadc65da",
   "metadata": {},
   "outputs": [
    {
     "data": {
      "text/plain": [
       "2"
      ]
     },
     "execution_count": 8,
     "metadata": {},
     "output_type": "execute_result"
    }
   ],
   "source": [
    "gody = [1,2,8,4,5]\n",
    "np.argmax(gody)"
   ]
  },
  {
   "cell_type": "code",
   "execution_count": null,
   "id": "e74b0f86",
   "metadata": {},
   "outputs": [],
   "source": []
  },
  {
   "cell_type": "code",
   "execution_count": null,
   "id": "bc8348b2",
   "metadata": {},
   "outputs": [],
   "source": []
  },
  {
   "cell_type": "code",
   "execution_count": null,
   "id": "5c8fbd70",
   "metadata": {},
   "outputs": [],
   "source": []
  }
 ],
 "metadata": {
  "kernelspec": {
   "display_name": "Python 3 (ipykernel)",
   "language": "python",
   "name": "python3"
  },
  "language_info": {
   "codemirror_mode": {
    "name": "ipython",
    "version": 3
   },
   "file_extension": ".py",
   "mimetype": "text/x-python",
   "name": "python",
   "nbconvert_exporter": "python",
   "pygments_lexer": "ipython3",
   "version": "3.9.13"
  }
 },
 "nbformat": 4,
 "nbformat_minor": 5
}
