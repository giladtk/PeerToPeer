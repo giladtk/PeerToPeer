{
 "cells": [
  {
   "cell_type": "code",
   "execution_count": 158,
   "id": "046ae846",
   "metadata": {},
   "outputs": [
    {
     "data": {
      "text/plain": [
       "500"
      ]
     },
     "execution_count": 158,
     "metadata": {},
     "output_type": "execute_result"
    }
   ],
   "source": [
    "import numpy as np\n",
    "import pandas as pd \n",
    "import os\n",
    "import seaborn as sns\n",
    "# Better display the output\n",
    "pd.set_option('display.max_columns', None)\n",
    "pd.set_option('display.max_rows', 500)\n",
    "pd.options.display.max_rows"
   ]
  },
  {
   "cell_type": "code",
   "execution_count": 159,
   "id": "65cf86e6",
   "metadata": {},
   "outputs": [],
   "source": [
    "os.chdir(r'G:\\My Drive\\שנה ב\\שנה ב סמסטר ב\\פרויקט דאטא\\Analytics-Based Project_')\n",
    "X = pd.read_csv(\"numeric_dataframe.csv\")"
   ]
  },
  {
   "cell_type": "code",
   "execution_count": 160,
   "id": "814c5766",
   "metadata": {},
   "outputs": [],
   "source": [
    "table = X[[\"loan_amnt\",\"total_pymnt\",\"sub_grade\",\"realised_return\"]]"
   ]
  },
  {
   "cell_type": "code",
   "execution_count": 161,
   "id": "34720813",
   "metadata": {},
   "outputs": [
    {
     "data": {
      "text/plain": [
       "{1.0: 0.028340086700283644,\n",
       " 1.2: 0.028714582979716508,\n",
       " 1.4: 0.027337767229036285,\n",
       " 1.6: 0.0278688359584119,\n",
       " 1.8: 0.027834634408985388,\n",
       " 2.0: 0.02229091267014209,\n",
       " 2.2: 0.024712850285545686,\n",
       " 2.4: 0.024393444839394207,\n",
       " 2.6: 0.02001683575276212,\n",
       " 2.8: 0.015315980862835464,\n",
       " 3.0: 0.012292859066544974,\n",
       " 3.2: 0.009076562695580104,\n",
       " 3.4: 0.010337729908573732,\n",
       " 3.6: 0.0048568744716596755,\n",
       " 3.8: 0.0018038429035520187,\n",
       " 4.0: -0.005073077400830121,\n",
       " 4.2: -0.005345585233379847,\n",
       " 4.4: -0.011651263573327944,\n",
       " 4.6: -0.009335753898913671,\n",
       " 4.8: -0.01598580599740072,\n",
       " 5.0: -0.01729885824162645,\n",
       " 5.2: -0.022601410378018563,\n",
       " 5.4: -0.025613070434736325,\n",
       " 5.6: -0.038142403183034745,\n",
       " 5.8: -0.03902079953812031,\n",
       " 6.0: -0.03525566533061633,\n",
       " 6.2: -0.0460715432825596,\n",
       " 6.4: -0.024822700142614073,\n",
       " 6.6: -0.04442386911930442,\n",
       " 6.8: -0.07222303408574988,\n",
       " 7.0: -0.03204750152538866,\n",
       " 7.2: -0.0787920499500341,\n",
       " 7.4: -0.04790342642163647,\n",
       " 7.6: -0.06951437518082539,\n",
       " 7.8: -0.10214215841934654}"
      ]
     },
     "execution_count": 161,
     "metadata": {},
     "output_type": "execute_result"
    }
   ],
   "source": [
    "table = X[[\"loan_amnt\",\"total_pymnt\",\"sub_grade\",\"realised_return\"]]\n",
    "grades_weighted_rate = {}\n",
    "for i in np.unique(table.sub_grade) : \n",
    "\n",
    "    grade_total = table[table.sub_grade ==i].loan_amnt.sum()\n",
    "    \n",
    "    weighted_rate=(table[table.sub_grade ==i].loan_amnt/grade_total * table[table.sub_grade ==i].realised_return).sum()\n",
    "    \n",
    "    grades_weighted_rate[i] = weighted_rate\n",
    "    \n",
    "grades_weighted_rate "
   ]
  },
  {
   "cell_type": "code",
   "execution_count": 162,
   "id": "d8d653b7",
   "metadata": {},
   "outputs": [
    {
     "data": {
      "text/plain": [
       "0.025342590881713943"
      ]
     },
     "execution_count": 162,
     "metadata": {},
     "output_type": "execute_result"
    }
   ],
   "source": [
    "# ok we see grade 2.6 is slighly higher then 2% so this is the criteria\n",
    "\n",
    "total_grades_critira = table[table.sub_grade <= 2.6].loan_amnt.sum()\n",
    "\n",
    "ROI_grade_crit = (table[table.sub_grade <= 2.6].loan_amnt/total_grades_critira * table[table.sub_grade <= 2.6].realised_return).sum()\n",
    "\n",
    "ROI_grade_crit"
   ]
  },
  {
   "cell_type": "code",
   "execution_count": 163,
   "id": "bb3b6382",
   "metadata": {},
   "outputs": [
    {
     "data": {
      "text/plain": [
       "0.025342590881713943"
      ]
     },
     "execution_count": 163,
     "metadata": {},
     "output_type": "execute_result"
    }
   ],
   "source": [
    "ROI_grade_crit"
   ]
  },
  {
   "cell_type": "code",
   "execution_count": 167,
   "id": "807cf68a",
   "metadata": {},
   "outputs": [
    {
     "ename": "KeyError",
     "evalue": "\"['loan_lifetime_in_months', 'estimated_monthly_paymnent', 'total_pymnt', 'loan_status', 'last_pymnt_d'] not found in axis\"",
     "output_type": "error",
     "traceback": [
      "\u001b[1;31m---------------------------------------------------------------------------\u001b[0m",
      "\u001b[1;31mKeyError\u001b[0m                                  Traceback (most recent call last)",
      "\u001b[1;32m~\\AppData\\Local\\Temp\\ipykernel_11948\\1121414984.py\u001b[0m in \u001b[0;36m<module>\u001b[1;34m\u001b[0m\n\u001b[1;32m----> 1\u001b[1;33m \u001b[0mX\u001b[0m \u001b[1;33m=\u001b[0m \u001b[0mX\u001b[0m\u001b[1;33m.\u001b[0m\u001b[0mdrop\u001b[0m\u001b[1;33m(\u001b[0m\u001b[0mcolumns\u001b[0m\u001b[1;33m=\u001b[0m\u001b[1;33m[\u001b[0m\u001b[1;34m\"loan_lifetime_in_months\"\u001b[0m\u001b[1;33m,\u001b[0m\u001b[1;34m\"estimated_monthly_paymnent\"\u001b[0m\u001b[1;33m,\u001b[0m\u001b[1;34m\"total_pymnt\"\u001b[0m\u001b[1;33m,\u001b[0m\u001b[1;34m\"loan_status\"\u001b[0m\u001b[1;33m,\u001b[0m\u001b[1;34m\"last_pymnt_d\"\u001b[0m\u001b[1;33m]\u001b[0m\u001b[1;33m)\u001b[0m\u001b[1;33m\u001b[0m\u001b[1;33m\u001b[0m\u001b[0m\n\u001b[0m",
      "\u001b[1;32m~\\anaconda3\\lib\\site-packages\\pandas\\util\\_decorators.py\u001b[0m in \u001b[0;36mwrapper\u001b[1;34m(*args, **kwargs)\u001b[0m\n\u001b[0;32m    309\u001b[0m                     \u001b[0mstacklevel\u001b[0m\u001b[1;33m=\u001b[0m\u001b[0mstacklevel\u001b[0m\u001b[1;33m,\u001b[0m\u001b[1;33m\u001b[0m\u001b[1;33m\u001b[0m\u001b[0m\n\u001b[0;32m    310\u001b[0m                 )\n\u001b[1;32m--> 311\u001b[1;33m             \u001b[1;32mreturn\u001b[0m \u001b[0mfunc\u001b[0m\u001b[1;33m(\u001b[0m\u001b[1;33m*\u001b[0m\u001b[0margs\u001b[0m\u001b[1;33m,\u001b[0m \u001b[1;33m**\u001b[0m\u001b[0mkwargs\u001b[0m\u001b[1;33m)\u001b[0m\u001b[1;33m\u001b[0m\u001b[1;33m\u001b[0m\u001b[0m\n\u001b[0m\u001b[0;32m    312\u001b[0m \u001b[1;33m\u001b[0m\u001b[0m\n\u001b[0;32m    313\u001b[0m         \u001b[1;32mreturn\u001b[0m \u001b[0mwrapper\u001b[0m\u001b[1;33m\u001b[0m\u001b[1;33m\u001b[0m\u001b[0m\n",
      "\u001b[1;32m~\\anaconda3\\lib\\site-packages\\pandas\\core\\frame.py\u001b[0m in \u001b[0;36mdrop\u001b[1;34m(self, labels, axis, index, columns, level, inplace, errors)\u001b[0m\n\u001b[0;32m   4955\u001b[0m                 \u001b[0mweight\u001b[0m  \u001b[1;36m1.0\u001b[0m     \u001b[1;36m0.8\u001b[0m\u001b[1;33m\u001b[0m\u001b[1;33m\u001b[0m\u001b[0m\n\u001b[0;32m   4956\u001b[0m         \"\"\"\n\u001b[1;32m-> 4957\u001b[1;33m         return super().drop(\n\u001b[0m\u001b[0;32m   4958\u001b[0m             \u001b[0mlabels\u001b[0m\u001b[1;33m=\u001b[0m\u001b[0mlabels\u001b[0m\u001b[1;33m,\u001b[0m\u001b[1;33m\u001b[0m\u001b[1;33m\u001b[0m\u001b[0m\n\u001b[0;32m   4959\u001b[0m             \u001b[0maxis\u001b[0m\u001b[1;33m=\u001b[0m\u001b[0maxis\u001b[0m\u001b[1;33m,\u001b[0m\u001b[1;33m\u001b[0m\u001b[1;33m\u001b[0m\u001b[0m\n",
      "\u001b[1;32m~\\anaconda3\\lib\\site-packages\\pandas\\core\\generic.py\u001b[0m in \u001b[0;36mdrop\u001b[1;34m(self, labels, axis, index, columns, level, inplace, errors)\u001b[0m\n\u001b[0;32m   4265\u001b[0m         \u001b[1;32mfor\u001b[0m \u001b[0maxis\u001b[0m\u001b[1;33m,\u001b[0m \u001b[0mlabels\u001b[0m \u001b[1;32min\u001b[0m \u001b[0maxes\u001b[0m\u001b[1;33m.\u001b[0m\u001b[0mitems\u001b[0m\u001b[1;33m(\u001b[0m\u001b[1;33m)\u001b[0m\u001b[1;33m:\u001b[0m\u001b[1;33m\u001b[0m\u001b[1;33m\u001b[0m\u001b[0m\n\u001b[0;32m   4266\u001b[0m             \u001b[1;32mif\u001b[0m \u001b[0mlabels\u001b[0m \u001b[1;32mis\u001b[0m \u001b[1;32mnot\u001b[0m \u001b[1;32mNone\u001b[0m\u001b[1;33m:\u001b[0m\u001b[1;33m\u001b[0m\u001b[1;33m\u001b[0m\u001b[0m\n\u001b[1;32m-> 4267\u001b[1;33m                 \u001b[0mobj\u001b[0m \u001b[1;33m=\u001b[0m \u001b[0mobj\u001b[0m\u001b[1;33m.\u001b[0m\u001b[0m_drop_axis\u001b[0m\u001b[1;33m(\u001b[0m\u001b[0mlabels\u001b[0m\u001b[1;33m,\u001b[0m \u001b[0maxis\u001b[0m\u001b[1;33m,\u001b[0m \u001b[0mlevel\u001b[0m\u001b[1;33m=\u001b[0m\u001b[0mlevel\u001b[0m\u001b[1;33m,\u001b[0m \u001b[0merrors\u001b[0m\u001b[1;33m=\u001b[0m\u001b[0merrors\u001b[0m\u001b[1;33m)\u001b[0m\u001b[1;33m\u001b[0m\u001b[1;33m\u001b[0m\u001b[0m\n\u001b[0m\u001b[0;32m   4268\u001b[0m \u001b[1;33m\u001b[0m\u001b[0m\n\u001b[0;32m   4269\u001b[0m         \u001b[1;32mif\u001b[0m \u001b[0minplace\u001b[0m\u001b[1;33m:\u001b[0m\u001b[1;33m\u001b[0m\u001b[1;33m\u001b[0m\u001b[0m\n",
      "\u001b[1;32m~\\anaconda3\\lib\\site-packages\\pandas\\core\\generic.py\u001b[0m in \u001b[0;36m_drop_axis\u001b[1;34m(self, labels, axis, level, errors, consolidate, only_slice)\u001b[0m\n\u001b[0;32m   4309\u001b[0m                 \u001b[0mnew_axis\u001b[0m \u001b[1;33m=\u001b[0m \u001b[0maxis\u001b[0m\u001b[1;33m.\u001b[0m\u001b[0mdrop\u001b[0m\u001b[1;33m(\u001b[0m\u001b[0mlabels\u001b[0m\u001b[1;33m,\u001b[0m \u001b[0mlevel\u001b[0m\u001b[1;33m=\u001b[0m\u001b[0mlevel\u001b[0m\u001b[1;33m,\u001b[0m \u001b[0merrors\u001b[0m\u001b[1;33m=\u001b[0m\u001b[0merrors\u001b[0m\u001b[1;33m)\u001b[0m\u001b[1;33m\u001b[0m\u001b[1;33m\u001b[0m\u001b[0m\n\u001b[0;32m   4310\u001b[0m             \u001b[1;32melse\u001b[0m\u001b[1;33m:\u001b[0m\u001b[1;33m\u001b[0m\u001b[1;33m\u001b[0m\u001b[0m\n\u001b[1;32m-> 4311\u001b[1;33m                 \u001b[0mnew_axis\u001b[0m \u001b[1;33m=\u001b[0m \u001b[0maxis\u001b[0m\u001b[1;33m.\u001b[0m\u001b[0mdrop\u001b[0m\u001b[1;33m(\u001b[0m\u001b[0mlabels\u001b[0m\u001b[1;33m,\u001b[0m \u001b[0merrors\u001b[0m\u001b[1;33m=\u001b[0m\u001b[0merrors\u001b[0m\u001b[1;33m)\u001b[0m\u001b[1;33m\u001b[0m\u001b[1;33m\u001b[0m\u001b[0m\n\u001b[0m\u001b[0;32m   4312\u001b[0m             \u001b[0mindexer\u001b[0m \u001b[1;33m=\u001b[0m \u001b[0maxis\u001b[0m\u001b[1;33m.\u001b[0m\u001b[0mget_indexer\u001b[0m\u001b[1;33m(\u001b[0m\u001b[0mnew_axis\u001b[0m\u001b[1;33m)\u001b[0m\u001b[1;33m\u001b[0m\u001b[1;33m\u001b[0m\u001b[0m\n\u001b[0;32m   4313\u001b[0m \u001b[1;33m\u001b[0m\u001b[0m\n",
      "\u001b[1;32m~\\anaconda3\\lib\\site-packages\\pandas\\core\\indexes\\base.py\u001b[0m in \u001b[0;36mdrop\u001b[1;34m(self, labels, errors)\u001b[0m\n\u001b[0;32m   6659\u001b[0m         \u001b[1;32mif\u001b[0m \u001b[0mmask\u001b[0m\u001b[1;33m.\u001b[0m\u001b[0many\u001b[0m\u001b[1;33m(\u001b[0m\u001b[1;33m)\u001b[0m\u001b[1;33m:\u001b[0m\u001b[1;33m\u001b[0m\u001b[1;33m\u001b[0m\u001b[0m\n\u001b[0;32m   6660\u001b[0m             \u001b[1;32mif\u001b[0m \u001b[0merrors\u001b[0m \u001b[1;33m!=\u001b[0m \u001b[1;34m\"ignore\"\u001b[0m\u001b[1;33m:\u001b[0m\u001b[1;33m\u001b[0m\u001b[1;33m\u001b[0m\u001b[0m\n\u001b[1;32m-> 6661\u001b[1;33m                 \u001b[1;32mraise\u001b[0m \u001b[0mKeyError\u001b[0m\u001b[1;33m(\u001b[0m\u001b[1;34mf\"{list(labels[mask])} not found in axis\"\u001b[0m\u001b[1;33m)\u001b[0m\u001b[1;33m\u001b[0m\u001b[1;33m\u001b[0m\u001b[0m\n\u001b[0m\u001b[0;32m   6662\u001b[0m             \u001b[0mindexer\u001b[0m \u001b[1;33m=\u001b[0m \u001b[0mindexer\u001b[0m\u001b[1;33m[\u001b[0m\u001b[1;33m~\u001b[0m\u001b[0mmask\u001b[0m\u001b[1;33m]\u001b[0m\u001b[1;33m\u001b[0m\u001b[1;33m\u001b[0m\u001b[0m\n\u001b[0;32m   6663\u001b[0m         \u001b[1;32mreturn\u001b[0m \u001b[0mself\u001b[0m\u001b[1;33m.\u001b[0m\u001b[0mdelete\u001b[0m\u001b[1;33m(\u001b[0m\u001b[0mindexer\u001b[0m\u001b[1;33m)\u001b[0m\u001b[1;33m\u001b[0m\u001b[1;33m\u001b[0m\u001b[0m\n",
      "\u001b[1;31mKeyError\u001b[0m: \"['loan_lifetime_in_months', 'estimated_monthly_paymnent', 'total_pymnt', 'loan_status', 'last_pymnt_d'] not found in axis\""
     ]
    }
   ],
   "source": [
    "X = X.drop(columns=[\"loan_lifetime_in_months\",\"estimated_monthly_paymnent\",\"total_pymnt\",\"loan_status\",\"last_pymnt_d\"])"
   ]
  },
  {
   "cell_type": "code",
   "execution_count": 87,
   "id": "380c5154",
   "metadata": {},
   "outputs": [],
   "source": [
    "from sklearn.model_selection import train_test_split\n",
    "\n",
    "# Making sure the last column will hold the labels\n",
    "X, y = X.drop('realised_return', axis=1), X['realised_return']\n",
    "\n",
    "# Splitting the data into 60% train and 40% remaining_data\n",
    "X_train, remaining_data, y_train, remaining_labels = train_test_split(X, y, test_size=0.4, random_state=99)\n",
    "\n",
    "# Splitting the remaining_data and remaining_labels into 50% test and 50% validation\n",
    "X_test, X_val, y_test, y_val = train_test_split(remaining_data, remaining_labels, test_size=0.5, random_state=99)\n"
   ]
  },
  {
   "cell_type": "code",
   "execution_count": null,
   "id": "b481c09b",
   "metadata": {},
   "outputs": [],
   "source": []
  },
  {
   "cell_type": "code",
   "execution_count": 88,
   "id": "52ebc93c",
   "metadata": {},
   "outputs": [
    {
     "data": {
      "text/plain": [
       "0.025098014230550424"
      ]
     },
     "execution_count": 88,
     "metadata": {},
     "output_type": "execute_result"
    }
   ],
   "source": [
    "# we look to beat the grades showing more then 2% \n",
    "\n",
    "\n",
    "above_2per_grades_subset = pd.concat([X,y],axis=1).groupby(\"sub_grade\").mean()[\"realised_return\"]>= 0.02\n",
    "ROI_grades = pd.concat([X,y],axis=1).groupby(\"sub_grade\").mean()[\"realised_return\"][above_2per_grades_subset].mean()\n",
    "ROI_grades\n"
   ]
  },
  {
   "cell_type": "code",
   "execution_count": 89,
   "id": "64383640",
   "metadata": {},
   "outputs": [
    {
     "data": {
      "text/plain": [
       "sub_grade\n",
       "1.0    0.027949\n",
       "1.2    0.027156\n",
       "1.4    0.027128\n",
       "1.6    0.027161\n",
       "1.8    0.026416\n",
       "2.0    0.022228\n",
       "2.2    0.023974\n",
       "2.4    0.023613\n",
       "2.6    0.020257\n",
       "2.8    0.015622\n",
       "3.0    0.013589\n",
       "3.2    0.009573\n",
       "3.4    0.009819\n",
       "3.6    0.006540\n",
       "3.8    0.004439\n",
       "4.0   -0.000559\n",
       "4.2   -0.000811\n",
       "4.4   -0.006967\n",
       "4.6   -0.005223\n",
       "4.8   -0.010424\n",
       "5.0   -0.010383\n",
       "5.2   -0.012850\n",
       "5.4   -0.016475\n",
       "5.6   -0.024960\n",
       "5.8   -0.028732\n",
       "6.0   -0.022810\n",
       "6.2   -0.042102\n",
       "6.4   -0.020322\n",
       "6.6   -0.027347\n",
       "6.8   -0.042184\n",
       "7.0   -0.020282\n",
       "7.2   -0.070777\n",
       "7.4   -0.034620\n",
       "7.6   -0.053891\n",
       "7.8   -0.095384\n",
       "Name: realised_return, dtype: float64"
      ]
     },
     "execution_count": 89,
     "metadata": {},
     "output_type": "execute_result"
    }
   ],
   "source": [
    "pd.concat([X,y],axis=1).groupby(\"sub_grade\").mean()[\"realised_return\"]"
   ]
  },
  {
   "cell_type": "code",
   "execution_count": 90,
   "id": "3a424bc6",
   "metadata": {},
   "outputs": [],
   "source": [
    "from sklearn.linear_model import LinearRegression\n",
    "from sklearn.metrics import r2_score,mean_absolute_error"
   ]
  },
  {
   "cell_type": "code",
   "execution_count": 91,
   "id": "92cff725",
   "metadata": {},
   "outputs": [
    {
     "name": "stdout",
     "output_type": "stream",
     "text": [
      "r^2: 0.022675953929285564 MAE: 0.06774788060792665 ROI lift: 1.1372803167844228 net roi: 0.016507334184799948\n"
     ]
    }
   ],
   "source": [
    "# start of modeling process \n",
    "\n",
    "model = LinearRegression()\n",
    "model.fit(X_train,y_train)\n",
    "y_pred = model.predict(X_val)\n",
    "net_ROI = y_test[y_pred >= 0.02].mean()\n",
    "\n",
    "r2_score(y_val,y_pred)\n",
    "print(\"r^2:\",r2_score(y_val,y_pred),\"MAE:\",mean_absolute_error(y_val,y_pred),\"ROI lift:\",y_val[y_pred >= 0.02].mean()/ROI_grades,\"net roi:\",net_ROI)\n"
   ]
  },
  {
   "cell_type": "code",
   "execution_count": 92,
   "id": "0cfa70e4",
   "metadata": {},
   "outputs": [
    {
     "name": "stdout",
     "output_type": "stream",
     "text": [
      "r^2: 0.019578236025706963 MAE: 0.06724077812682644 ROI lift: 1.0681719482028555\n"
     ]
    }
   ],
   "source": [
    "# trying min max normaliztion \n",
    "X_val2 = (X_val-X_val.min(axis=0))/(X_val.max(axis=0)-X_val.min(axis=0))\n",
    "X_train2 = (X_train-X_train.min(axis=0))/(X_train.max(axis=0)-X_train.min(axis=0))\n",
    "\n",
    "model2 = LinearRegression()\n",
    "model2.fit(X_train2,y_train)\n",
    "y_pred = model2.predict(X_val2)\n",
    "print(\"r^2:\",r2_score(y_val,y_pred),\"MAE:\",mean_absolute_error(y_val,y_pred),\"ROI lift:\",y_val[y_pred >= 0.02].mean()/ROI_grades)\n"
   ]
  },
  {
   "cell_type": "code",
   "execution_count": 168,
   "id": "86d73d44",
   "metadata": {},
   "outputs": [
    {
     "name": "stderr",
     "output_type": "stream",
     "text": [
      "C:\\Users\\GiladTK\\anaconda3\\lib\\site-packages\\sklearn\\base.py:493: FutureWarning: The feature names should match those that were passed during fit. Starting version 1.2, an error will be raised.\n",
      "Feature names seen at fit time, yet now missing:\n",
      "- realised_return\n",
      "\n",
      "  warnings.warn(message, FutureWarning)\n"
     ]
    },
    {
     "ename": "ValueError",
     "evalue": "X has 62 features, but LinearRegression is expecting 63 features as input.",
     "output_type": "error",
     "traceback": [
      "\u001b[1;31m---------------------------------------------------------------------------\u001b[0m",
      "\u001b[1;31mValueError\u001b[0m                                Traceback (most recent call last)",
      "\u001b[1;32m~\\AppData\\Local\\Temp\\ipykernel_11948\\3245442578.py\u001b[0m in \u001b[0;36m<module>\u001b[1;34m\u001b[0m\n\u001b[0;32m      7\u001b[0m \u001b[0mmodel3\u001b[0m\u001b[1;33m.\u001b[0m\u001b[0mfit\u001b[0m\u001b[1;33m(\u001b[0m\u001b[0mX_train3\u001b[0m\u001b[1;33m,\u001b[0m\u001b[0my_train\u001b[0m\u001b[1;33m)\u001b[0m\u001b[1;33m\u001b[0m\u001b[1;33m\u001b[0m\u001b[0m\n\u001b[0;32m      8\u001b[0m \u001b[1;33m\u001b[0m\u001b[0m\n\u001b[1;32m----> 9\u001b[1;33m \u001b[0my_pred\u001b[0m \u001b[1;33m=\u001b[0m \u001b[0mmodel3\u001b[0m\u001b[1;33m.\u001b[0m\u001b[0mpredict\u001b[0m\u001b[1;33m(\u001b[0m\u001b[0mX_val3\u001b[0m\u001b[1;33m)\u001b[0m\u001b[1;33m\u001b[0m\u001b[1;33m\u001b[0m\u001b[0m\n\u001b[0m\u001b[0;32m     10\u001b[0m \u001b[1;33m\u001b[0m\u001b[0m\n\u001b[0;32m     11\u001b[0m \u001b[0mnet_ROI\u001b[0m \u001b[1;33m=\u001b[0m \u001b[0my_test\u001b[0m\u001b[1;33m[\u001b[0m\u001b[0my_pred\u001b[0m \u001b[1;33m>=\u001b[0m \u001b[1;36m0.02\u001b[0m\u001b[1;33m]\u001b[0m\u001b[1;33m.\u001b[0m\u001b[0mmean\u001b[0m\u001b[1;33m(\u001b[0m\u001b[1;33m)\u001b[0m\u001b[1;33m\u001b[0m\u001b[1;33m\u001b[0m\u001b[0m\n",
      "\u001b[1;32m~\\anaconda3\\lib\\site-packages\\sklearn\\linear_model\\_base.py\u001b[0m in \u001b[0;36mpredict\u001b[1;34m(self, X)\u001b[0m\n\u001b[0;32m    360\u001b[0m             \u001b[0mReturns\u001b[0m \u001b[0mpredicted\u001b[0m \u001b[0mvalues\u001b[0m\u001b[1;33m.\u001b[0m\u001b[1;33m\u001b[0m\u001b[1;33m\u001b[0m\u001b[0m\n\u001b[0;32m    361\u001b[0m         \"\"\"\n\u001b[1;32m--> 362\u001b[1;33m         \u001b[1;32mreturn\u001b[0m \u001b[0mself\u001b[0m\u001b[1;33m.\u001b[0m\u001b[0m_decision_function\u001b[0m\u001b[1;33m(\u001b[0m\u001b[0mX\u001b[0m\u001b[1;33m)\u001b[0m\u001b[1;33m\u001b[0m\u001b[1;33m\u001b[0m\u001b[0m\n\u001b[0m\u001b[0;32m    363\u001b[0m \u001b[1;33m\u001b[0m\u001b[0m\n\u001b[0;32m    364\u001b[0m     \u001b[0m_preprocess_data\u001b[0m \u001b[1;33m=\u001b[0m \u001b[0mstaticmethod\u001b[0m\u001b[1;33m(\u001b[0m\u001b[0m_preprocess_data\u001b[0m\u001b[1;33m)\u001b[0m\u001b[1;33m\u001b[0m\u001b[1;33m\u001b[0m\u001b[0m\n",
      "\u001b[1;32m~\\anaconda3\\lib\\site-packages\\sklearn\\linear_model\\_base.py\u001b[0m in \u001b[0;36m_decision_function\u001b[1;34m(self, X)\u001b[0m\n\u001b[0;32m    343\u001b[0m         \u001b[0mcheck_is_fitted\u001b[0m\u001b[1;33m(\u001b[0m\u001b[0mself\u001b[0m\u001b[1;33m)\u001b[0m\u001b[1;33m\u001b[0m\u001b[1;33m\u001b[0m\u001b[0m\n\u001b[0;32m    344\u001b[0m \u001b[1;33m\u001b[0m\u001b[0m\n\u001b[1;32m--> 345\u001b[1;33m         \u001b[0mX\u001b[0m \u001b[1;33m=\u001b[0m \u001b[0mself\u001b[0m\u001b[1;33m.\u001b[0m\u001b[0m_validate_data\u001b[0m\u001b[1;33m(\u001b[0m\u001b[0mX\u001b[0m\u001b[1;33m,\u001b[0m \u001b[0maccept_sparse\u001b[0m\u001b[1;33m=\u001b[0m\u001b[1;33m[\u001b[0m\u001b[1;34m\"csr\"\u001b[0m\u001b[1;33m,\u001b[0m \u001b[1;34m\"csc\"\u001b[0m\u001b[1;33m,\u001b[0m \u001b[1;34m\"coo\"\u001b[0m\u001b[1;33m]\u001b[0m\u001b[1;33m,\u001b[0m \u001b[0mreset\u001b[0m\u001b[1;33m=\u001b[0m\u001b[1;32mFalse\u001b[0m\u001b[1;33m)\u001b[0m\u001b[1;33m\u001b[0m\u001b[1;33m\u001b[0m\u001b[0m\n\u001b[0m\u001b[0;32m    346\u001b[0m         \u001b[1;32mreturn\u001b[0m \u001b[0msafe_sparse_dot\u001b[0m\u001b[1;33m(\u001b[0m\u001b[0mX\u001b[0m\u001b[1;33m,\u001b[0m \u001b[0mself\u001b[0m\u001b[1;33m.\u001b[0m\u001b[0mcoef_\u001b[0m\u001b[1;33m.\u001b[0m\u001b[0mT\u001b[0m\u001b[1;33m,\u001b[0m \u001b[0mdense_output\u001b[0m\u001b[1;33m=\u001b[0m\u001b[1;32mTrue\u001b[0m\u001b[1;33m)\u001b[0m \u001b[1;33m+\u001b[0m \u001b[0mself\u001b[0m\u001b[1;33m.\u001b[0m\u001b[0mintercept_\u001b[0m\u001b[1;33m\u001b[0m\u001b[1;33m\u001b[0m\u001b[0m\n\u001b[0;32m    347\u001b[0m \u001b[1;33m\u001b[0m\u001b[0m\n",
      "\u001b[1;32m~\\anaconda3\\lib\\site-packages\\sklearn\\base.py\u001b[0m in \u001b[0;36m_validate_data\u001b[1;34m(self, X, y, reset, validate_separately, **check_params)\u001b[0m\n\u001b[0;32m    583\u001b[0m \u001b[1;33m\u001b[0m\u001b[0m\n\u001b[0;32m    584\u001b[0m         \u001b[1;32mif\u001b[0m \u001b[1;32mnot\u001b[0m \u001b[0mno_val_X\u001b[0m \u001b[1;32mand\u001b[0m \u001b[0mcheck_params\u001b[0m\u001b[1;33m.\u001b[0m\u001b[0mget\u001b[0m\u001b[1;33m(\u001b[0m\u001b[1;34m\"ensure_2d\"\u001b[0m\u001b[1;33m,\u001b[0m \u001b[1;32mTrue\u001b[0m\u001b[1;33m)\u001b[0m\u001b[1;33m:\u001b[0m\u001b[1;33m\u001b[0m\u001b[1;33m\u001b[0m\u001b[0m\n\u001b[1;32m--> 585\u001b[1;33m             \u001b[0mself\u001b[0m\u001b[1;33m.\u001b[0m\u001b[0m_check_n_features\u001b[0m\u001b[1;33m(\u001b[0m\u001b[0mX\u001b[0m\u001b[1;33m,\u001b[0m \u001b[0mreset\u001b[0m\u001b[1;33m=\u001b[0m\u001b[0mreset\u001b[0m\u001b[1;33m)\u001b[0m\u001b[1;33m\u001b[0m\u001b[1;33m\u001b[0m\u001b[0m\n\u001b[0m\u001b[0;32m    586\u001b[0m \u001b[1;33m\u001b[0m\u001b[0m\n\u001b[0;32m    587\u001b[0m         \u001b[1;32mreturn\u001b[0m \u001b[0mout\u001b[0m\u001b[1;33m\u001b[0m\u001b[1;33m\u001b[0m\u001b[0m\n",
      "\u001b[1;32m~\\anaconda3\\lib\\site-packages\\sklearn\\base.py\u001b[0m in \u001b[0;36m_check_n_features\u001b[1;34m(self, X, reset)\u001b[0m\n\u001b[0;32m    398\u001b[0m \u001b[1;33m\u001b[0m\u001b[0m\n\u001b[0;32m    399\u001b[0m         \u001b[1;32mif\u001b[0m \u001b[0mn_features\u001b[0m \u001b[1;33m!=\u001b[0m \u001b[0mself\u001b[0m\u001b[1;33m.\u001b[0m\u001b[0mn_features_in_\u001b[0m\u001b[1;33m:\u001b[0m\u001b[1;33m\u001b[0m\u001b[1;33m\u001b[0m\u001b[0m\n\u001b[1;32m--> 400\u001b[1;33m             raise ValueError(\n\u001b[0m\u001b[0;32m    401\u001b[0m                 \u001b[1;34mf\"X has {n_features} features, but {self.__class__.__name__} \"\u001b[0m\u001b[1;33m\u001b[0m\u001b[1;33m\u001b[0m\u001b[0m\n\u001b[0;32m    402\u001b[0m                 \u001b[1;34mf\"is expecting {self.n_features_in_} features as input.\"\u001b[0m\u001b[1;33m\u001b[0m\u001b[1;33m\u001b[0m\u001b[0m\n",
      "\u001b[1;31mValueError\u001b[0m: X has 62 features, but LinearRegression is expecting 63 features as input."
     ]
    }
   ],
   "source": [
    "# trying z normaliztion \n",
    "\n",
    "X_val3 = X_val - X_val.mean(axis=0)/X_val.std(axis=0)\n",
    "X_train3 = X_train - X_train.mean(axis=0)/X_train.std(axis=0)\n",
    "\n",
    "model3 = LinearRegression()\n",
    "model3.fit(X_train3,y_train)\n",
    "\n",
    "y_pred = model3.predict(X_val3)\n",
    "\n",
    "net_ROI = y_test[y_pred >= 0.02].mean()\n",
    "\n",
    "print(\"r^2:\",r2_score(y_val,y_pred),\"MAE:\",mean_absolute_error(y_val,y_pred),\"ROI lift:\",y_val[y_pred >= 0.02].mean()/ROI_grades,\"net roi:\",net_ROI)\n"
   ]
  },
  {
   "cell_type": "code",
   "execution_count": 94,
   "id": "396902bc",
   "metadata": {},
   "outputs": [],
   "source": [
    "# trying single feature selection \n",
    "r2_dict = {}\n",
    "for feature in X_train.columns:\n",
    "    X_train_feature = X_train[feature].values.reshape(-1, 1)  \n",
    "    X_val_feature = X_val[feature].values.reshape(-1, 1)      \n",
    "\n",
    "    model = LinearRegression()\n",
    "    model.fit(X_train_feature, y_train)\n",
    "    y_pred = model.predict(X_val_feature)\n",
    "    r2_dict[feature] = r2_score(y_val, y_pred)\n",
    "    \n"
   ]
  },
  {
   "cell_type": "code",
   "execution_count": 95,
   "id": "741cf28f",
   "metadata": {},
   "outputs": [],
   "source": [
    "sorted_dict = sorted(r2_dict.items(), key=lambda x: x[1], reverse=True)\n",
    "selected_keys = []\n",
    "selected_keys2 = []\n",
    "\n",
    "for key, value in r2_dict.items():\n",
    "    if value > 0.0001:\n",
    "        selected_keys.append(key)\n",
    "\n",
    "for key, value in r2_dict.items():\n",
    "    if value > 0.001:\n",
    "        selected_keys2.append(key)"
   ]
  },
  {
   "cell_type": "code",
   "execution_count": 96,
   "id": "d90d415b",
   "metadata": {},
   "outputs": [
    {
     "data": {
      "text/plain": [
       "[('int_rate', 0.01246158885772175),\n",
       " ('sub_grade', 0.01119979816875527),\n",
       " ('acc_open_past_24mths', 0.00621863684623325),\n",
       " ('inq_last_6mths', 0.004383352225970749),\n",
       " ('num_tl_op_past_12m', 0.0042929152257773495),\n",
       " ('open_il_24m', 0.003907008853120675),\n",
       " ('open_rv_24m', 0.003763225672135162),\n",
       " ('open_il_12m', 0.003736940060338201),\n",
       " ('open_acc_6m', 0.003372864504100792),\n",
       " ('inq_last_12m', 0.0032773201596226764),\n",
       " ('mths_since_recent_inq', 0.003089876459937746),\n",
       " ('inq_fi', 0.002563718687378702),\n",
       " ('RENT or ANY', 0.0024500533977794836),\n",
       " ('Verified', 0.002404559203037726),\n",
       " ('MORTGAGE', 0.0022681934596406883),\n",
       " ('fico_range_high', 0.002086970083480355),\n",
       " ('open_rv_12m', 0.00200814105961189),\n",
       " ('mort_acc', 0.0018452251648778395),\n",
       " ('avg_cur_bal', 0.001585492276680034),\n",
       " ('tot_hi_cred_lim', 0.0014835225611444791),\n",
       " ('mths_since_recent_bc', 0.0014760869357012263),\n",
       " ('dti', 0.0012712766797714492),\n",
       " ('initial_list_status', 0.0012546185979501745),\n",
       " ('mo_sin_rcnt_tl', 0.001170251661823829),\n",
       " ('Not Verified', 0.0011307826484452388),\n",
       " ('mo_sin_rcnt_rev_tl_op', 0.00103348866253139),\n",
       " ('mo_sin_old_rev_tl_op', 0.0009165999258967661),\n",
       " ('emp_length', 0.0008333015830099821),\n",
       " ('total_bc_limit', 0.0008048170485353001),\n",
       " ('total_rev_hi_lim', 0.0007062966926988379),\n",
       " ('max_bal_bc', 0.0006483558155869762),\n",
       " ('all_util', 0.0005642836152730535),\n",
       " ('earliest_cr_line', 0.0005256700539754133),\n",
       " ('revol_bal', 0.00048607053800264755),\n",
       " ('bc_open_to_buy', 0.0004547057802413157),\n",
       " ('num_actv_rev_tl', 0.00045390590403071585),\n",
       " ('annual_inc', 0.0004463125050236938),\n",
       " ('pub_rec_bankruptcies', 0.0004036497944530648),\n",
       " ('num_op_rev_tl', 0.00037138155885541035),\n",
       " ('num_bc_sats', 0.0003251797853250915),\n",
       " ('mo_sin_old_il_acct', 0.0003120201685096191),\n",
       " ('num_actv_bc_tl', 0.00027863214624535004),\n",
       " ('num_sats', 0.00024405454610909594),\n",
       " ('pub_rec', 0.00018680927960479377),\n",
       " ('Source Verified', 9.539609822695194e-05),\n",
       " ('num_bc_tl', 8.613077041808026e-05),\n",
       " ('num_rev_accts', 8.246745612561224e-05),\n",
       " ('num_il_tl', 6.526942029028149e-05),\n",
       " ('pct_tl_nvr_dlq', 5.922586224882398e-05),\n",
       " ('delinq_2yrs', 5.683905983111526e-05),\n",
       " ('total_cu_tl', 2.9800059253126676e-05),\n",
       " ('num_tl_90g_dpd_24m', 1.6125513150444526e-05),\n",
       " ('revol_util', 1.4705692184313612e-05),\n",
       " ('tot_coll_amt', 1.204061251713906e-05),\n",
       " ('percent_bc_gt_75', 4.502083219004582e-06),\n",
       " ('total_acc', 3.612889544202247e-06),\n",
       " ('bc_util', 5.982674593507653e-07),\n",
       " ('num_accts_ever_120_pd', -2.3394537254972647e-05),\n",
       " ('total_bal_ex_mort', -2.414657167237877e-05),\n",
       " ('open_act_il', -2.8280256374912938e-05),\n",
       " ('total_il_high_credit_limit', -6.648431038991376e-05),\n",
       " ('OWN', -9.26498287456834e-05)]"
      ]
     },
     "execution_count": 96,
     "metadata": {},
     "output_type": "execute_result"
    }
   ],
   "source": [
    "sorted_dict"
   ]
  },
  {
   "cell_type": "code",
   "execution_count": 97,
   "id": "8585c1d0",
   "metadata": {},
   "outputs": [
    {
     "name": "stdout",
     "output_type": "stream",
     "text": [
      "r^2: 0.021949662382605983 MAE: 0.06776655997141422 ROI lift: 1.1418144893859499 net roi: 0.016043907452438742\n"
     ]
    }
   ],
   "source": [
    "X_train_small = X_train[selected_keys]\n",
    "X_val_small = X_val[selected_keys]\n",
    "model_s = LinearRegression()\n",
    "model_s.fit(X_train_small,y_train)\n",
    "y_pred = model_s.predict(X_val_small)\n",
    "net_ROI = y_test[y_pred >= 0.02].mean()\n",
    "\n",
    "print(\"r^2:\",r2_score(y_val,y_pred),\"MAE:\",mean_absolute_error(y_val,y_pred),\"ROI lift:\",y_val[y_pred >= 0.02].mean()/ROI_grades,\"net roi:\",net_ROI)\n"
   ]
  },
  {
   "cell_type": "code",
   "execution_count": 98,
   "id": "b4af055d",
   "metadata": {},
   "outputs": [
    {
     "name": "stdout",
     "output_type": "stream",
     "text": [
      "r^2: 0.021293483333231555 MAE: 0.06776727226241591 ROI lift: 1.136826002022147 net roi: 0.015886093069002148\n"
     ]
    }
   ],
   "source": [
    "X_train_small = X_train[selected_keys2]\n",
    "X_val_small = X_val[selected_keys2]\n",
    "model_s = LinearRegression()\n",
    "model_s.fit(X_train_small,y_train)\n",
    "y_pred = model_s.predict(X_val_small)\n",
    "net_ROI = y_test[y_pred >= 0.02].mean()\n",
    "\n",
    "print(\"r^2:\",r2_score(y_val,y_pred),\"MAE:\",mean_absolute_error(y_val,y_pred),\"ROI lift:\",y_val[y_pred >= 0.02].mean()/ROI_grades,\"net roi:\",net_ROI)\n"
   ]
  },
  {
   "cell_type": "code",
   "execution_count": 99,
   "id": "df75d479",
   "metadata": {},
   "outputs": [],
   "source": [
    "from sklearn.preprocessing import PolynomialFeatures"
   ]
  },
  {
   "cell_type": "code",
   "execution_count": 100,
   "id": "02cce2a1",
   "metadata": {},
   "outputs": [
    {
     "name": "stdout",
     "output_type": "stream",
     "text": [
      "r^2: 0.015042739686640494 MAE: 0.06807441970804161 ROI lift: 1.114745940533435 net roi: 0.015491142498403401\n"
     ]
    }
   ],
   "source": [
    "# lets try polynom 2 degree\n",
    "poly = PolynomialFeatures(2)\n",
    "\n",
    "X_train_poly = poly.fit_transform(X_train)\n",
    "X_val_poly = poly.fit_transform(X_val)\n",
    "\n",
    "model6 = LinearRegression()\n",
    "model6.fit(X_train_poly,y_train)\n",
    "\n",
    "y_pred = model6.predict(X_val_poly)\n",
    "net_ROI = y_test[y_pred >= 0.02].mean()\n",
    "\n",
    "print(\"r^2:\",r2_score(y_val,y_pred),\"MAE:\",mean_absolute_error(y_val,y_pred),\"ROI lift:\",y_val[y_pred >= 0.02].mean()/ROI_grades,\"net roi:\",net_ROI)\n",
    "\n",
    "# weired as fuck !!!!!!!!!!!!! \n",
    "\n",
    "# ROI is bigger but r^2 is smaller \n",
    "\n"
   ]
  },
  {
   "cell_type": "code",
   "execution_count": 101,
   "id": "ed872b99",
   "metadata": {},
   "outputs": [
    {
     "name": "stdout",
     "output_type": "stream",
     "text": [
      "r^2: 0.016638942346919205 MAE: 0.06782137822487698 ROI lift: 1.1221059855920497 net roi: 0.015935066285250123\n"
     ]
    }
   ],
   "source": [
    "# lets try polynom 3 degree\n",
    "# if its too big it wont even work...\n",
    "X_train_small = X_train[selected_keys2]\n",
    "X_val_small = X_val[selected_keys2]\n",
    "\n",
    "poly = PolynomialFeatures(3)\n",
    "\n",
    "X_train_poly = poly.fit_transform(X_train_small)\n",
    "X_val_poly = poly.fit_transform(X_val_small)\n",
    "\n",
    "model6 = LinearRegression()\n",
    "model6.fit(X_train_poly,y_train)\n",
    "\n",
    "y_pred = model6.predict(X_val_poly)\n",
    "net_ROI = y_test[y_pred >= 0.02].mean()\n",
    "\n",
    "print(\"r^2:\",r2_score(y_val,y_pred),\"MAE:\",mean_absolute_error(y_val,y_pred),\"ROI lift:\",y_val[y_pred >= 0.02].mean()/ROI_grades,\"net roi:\",net_ROI)\n",
    "\n",
    "# weired as fuck !!!!!!!!!!!!! \n",
    "\n",
    "# ROI is bigger but r^2 is smaller \n",
    "\n"
   ]
  },
  {
   "cell_type": "code",
   "execution_count": 102,
   "id": "8c85001a",
   "metadata": {},
   "outputs": [],
   "source": [
    "from sklearn.preprocessing import RobustScaler"
   ]
  },
  {
   "cell_type": "code",
   "execution_count": 103,
   "id": "0d13c610",
   "metadata": {},
   "outputs": [
    {
     "name": "stdout",
     "output_type": "stream",
     "text": [
      "r^2: 0.021030584940133434 MAE: 0.06826619891079688 ROI lift: 1.1439812419963207 net roi: 0.01622631662583642\n"
     ]
    }
   ],
   "source": [
    "# this should limit outliers\n",
    "robost = RobustScaler()\n",
    "\n",
    "X_train_limited = robost.fit_transform(X_train)\n",
    "X_val_limited = robost.fit_transform(X_val)\n",
    "\n",
    "model7 = LinearRegression()\n",
    "model7.fit(X_train_limited,y_train)\n",
    "\n",
    "y_pred = model7.predict(X_val_limited)\n",
    "net_ROI = y_test[y_pred >= 0.02].mean()\n",
    "\n",
    "print(\"r^2:\",r2_score(y_val,y_pred),\"MAE:\",mean_absolute_error(y_val,y_pred),\"ROI lift:\",y_val[y_pred >= 0.02].mean()/ROI_grades,\"net roi:\",net_ROI)\n"
   ]
  },
  {
   "cell_type": "code",
   "execution_count": 104,
   "id": "68fe5cff",
   "metadata": {},
   "outputs": [
    {
     "name": "stdout",
     "output_type": "stream",
     "text": [
      "r^2: 0.0210227009731081 MAE: 0.06794546178924477 ROI lift: 1.1281959428808008 net roi: 0.016260195150355438\n"
     ]
    }
   ],
   "source": [
    "# lets go bask a little and try without grade \n",
    "\n",
    "# start of modeling process \n",
    "\n",
    "X_train9 = X_train.drop(columns=\"sub_grade\")\n",
    "X_val9 = X_val.drop(columns=\"sub_grade\")\n",
    "\n",
    "model9 = LinearRegression()\n",
    "model9.fit(X_train9,y_train)\n",
    "\n",
    "y_pred = model9.predict(X_val9)\n",
    "net_ROI = y_test[y_pred >= 0.02].mean()\n",
    "\n",
    "print(\"r^2:\",r2_score(y_val,y_pred),\"MAE:\",mean_absolute_error(y_val,y_pred),\"ROI lift:\",y_val[y_pred >= 0.02].mean()/ROI_grades,\"net roi:\",net_ROI)\n",
    "\n",
    "# no change - i recommend leave it out"
   ]
  },
  {
   "cell_type": "code",
   "execution_count": null,
   "id": "37f007a4",
   "metadata": {},
   "outputs": [],
   "source": []
  },
  {
   "cell_type": "markdown",
   "id": "d11d9dd0",
   "metadata": {},
   "source": [
    "# from now on im using k folds \n",
    "* using all data for train and test"
   ]
  },
  {
   "cell_type": "code",
   "execution_count": 105,
   "id": "b2ed1162",
   "metadata": {},
   "outputs": [
    {
     "name": "stdout",
     "output_type": "stream",
     "text": [
      "r^2: 0.02264188568852219 MAE: 0.06756144919081794 ROI lift: 1.132510946125894 net_roi: 0.02842377584212181\n"
     ]
    }
   ],
   "source": [
    "from sklearn.model_selection import KFold\n",
    "\n",
    "k = 5  \n",
    "kf = KFold(n_splits=k, shuffle=True, random_state=99)\n",
    "\n",
    "r2 = 0 \n",
    "MAE = 0 \n",
    "ROI_lift = 0\n",
    "net_ROI = 0\n",
    "\n",
    "for train_index, test_index in kf.split(X):\n",
    "    \n",
    "    X_train, X_test = X.iloc[train_index], X.iloc[test_index]\n",
    "    y_train, y_test = y.iloc[train_index], y.iloc[test_index]\n",
    "    \n",
    "    # later use (needs to add months)\n",
    "    #amounts = payments[test_index]\n",
    "    \n",
    "    model = LinearRegression()\n",
    "    model.fit(X_train,y_train)\n",
    "    \n",
    "    y_pred = model.predict(X_test)\n",
    "    \n",
    "    r2 += r2_score(y_test,y_pred)\n",
    "    MAE += mean_absolute_error(y_test,y_pred)\n",
    "    ROI_lift += y_test[y_pred >= 0.02].mean()/ROI_grades\n",
    "    net_ROI += y_test[y_pred >= 0.02].mean()\n",
    "\n",
    "print(\"r^2:\", r2/5, \"MAE:\", MAE/5, \"ROI lift:\", ROI_lift/5,\"net_roi:\",net_ROI/5)\n"
   ]
  },
  {
   "cell_type": "code",
   "execution_count": 106,
   "id": "7b8ae81c",
   "metadata": {},
   "outputs": [
    {
     "name": "stdout",
     "output_type": "stream",
     "text": [
      "r^2: 0.014812833761140709 MAE: 0.06750793743460301 ROI lift: 1.0857438703907305 net_roi: 0.027250015109799453\n"
     ]
    }
   ],
   "source": [
    "r2 = 0 \n",
    "MAE = 0 \n",
    "ROI_lift = 0\n",
    "net_ROI = 0\n",
    "\n",
    "for train_index, test_index in kf.split(X):\n",
    "    \n",
    "    X_train, X_test = X.iloc[train_index], X.iloc[test_index]\n",
    "    y_train, y_test = y.iloc[train_index], y.iloc[test_index]\n",
    "    \n",
    "\n",
    "# trying min max normaliztion \n",
    "    X_test = (X_test-X_test.min(axis=0))/(X_test.max(axis=0)-X_test.min(axis=0))\n",
    "    X_train = (X_train-X_train.min(axis=0))/(X_train.max(axis=0)-X_train.min(axis=0))\n",
    "\n",
    "    model2 = LinearRegression()\n",
    "    model2.fit(X_train,y_train)\n",
    "    y_pred = model2.predict(X_test)\n",
    "    \n",
    "    r2 += r2_score(y_test,y_pred)\n",
    "    MAE += mean_absolute_error(y_test,y_pred)\n",
    "    ROI_lift += y_test[y_pred >= 0.02].mean()/ROI_grades\n",
    "    net_ROI += y_test[y_pred >= 0.02].mean()\n",
    "\n",
    "print(\"r^2:\", r2/5, \"MAE:\", MAE/5, \"ROI lift:\", ROI_lift/5,\"net_roi:\",net_ROI/5)\n"
   ]
  },
  {
   "cell_type": "code",
   "execution_count": 107,
   "id": "5f161ad0",
   "metadata": {},
   "outputs": [
    {
     "name": "stdout",
     "output_type": "stream",
     "text": [
      "r^2: 0.015202611082667716 MAE: 0.06816223947560586 ROI lift: 1.1356388609700359 net_roi: 0.028502280293392034\n"
     ]
    }
   ],
   "source": [
    "r2 = 0 \n",
    "MAE = 0 \n",
    "ROI_lift = 0\n",
    "net_ROI = 0\n",
    "\n",
    "for train_index, test_index in kf.split(X):\n",
    "    \n",
    "    X_train, X_test = X.iloc[train_index], X.iloc[test_index]\n",
    "    y_train, y_test = y.iloc[train_index], y.iloc[test_index]\n",
    "    \n",
    "# trying z normaliztion \n",
    "\n",
    "    X_test = X_test - X_test.mean(axis=0)/X_test.std(axis=0)\n",
    "    X_train = X_train - X_train.mean(axis=0)/X_train.std(axis=0)\n",
    "\n",
    "    model3 = LinearRegression()\n",
    "    model3.fit(X_train,y_train)\n",
    "\n",
    "    y_pred = model3.predict(X_test)\n",
    "\n",
    "    r2 += r2_score(y_test,y_pred)\n",
    "    MAE += mean_absolute_error(y_test,y_pred)\n",
    "    ROI_lift += y_test[y_pred >= 0.02].mean()/ROI_grades\n",
    "    net_ROI += y_test[y_pred >= 0.02].mean()\n",
    "\n",
    "print(\"r^2:\", r2/5, \"MAE:\", MAE/5, \"ROI lift:\", ROI_lift/5,\"net_roi:\",net_ROI/5)\n"
   ]
  },
  {
   "cell_type": "code",
   "execution_count": 108,
   "id": "5c013562",
   "metadata": {},
   "outputs": [
    {
     "name": "stdout",
     "output_type": "stream",
     "text": [
      "r^2: 0.015202611082667716 MAE: 0.06816223947560586 ROI lift: 1.1356388609700359 net_roi: 0.028502280293392034\n"
     ]
    }
   ],
   "source": [
    "r2 = 0 \n",
    "MAE = 0 \n",
    "ROI_lift = 0\n",
    "net_ROI = 0\n",
    "\n",
    "for train_index, test_index in kf.split(X):\n",
    "    \n",
    "    X_train, X_test = X.iloc[train_index], X.iloc[test_index]\n",
    "    y_train, y_test = y.iloc[train_index], y.iloc[test_index]\n",
    "    \n",
    "# trying z normaliztion \n",
    "\n",
    "    X_test = X_test - X_test.mean(axis=0)/X_test.std(axis=0)\n",
    "    X_train = X_train - X_train.mean(axis=0)/X_train.std(axis=0)\n",
    "\n",
    "    model3 = LinearRegression()\n",
    "    model3.fit(X_train,y_train)\n",
    "\n",
    "    y_pred = model3.predict(X_test)\n",
    "\n",
    "    r2 += r2_score(y_test,y_pred)\n",
    "    MAE += mean_absolute_error(y_test,y_pred)\n",
    "    ROI_lift += y_test[y_pred >= 0.02].mean()/ROI_grades\n",
    "    net_ROI += y_test[y_pred >= 0.02].mean()\n",
    "\n",
    "print(\"r^2:\", r2/5, \"MAE:\", MAE/5, \"ROI lift:\", ROI_lift/5,\"net_roi:\",net_ROI/5)\n"
   ]
  },
  {
   "cell_type": "code",
   "execution_count": 109,
   "id": "3b127e9b",
   "metadata": {},
   "outputs": [],
   "source": [
    "poly = PolynomialFeatures(2)\n",
    "\n",
    "X_poly = poly.fit_transform(X)"
   ]
  },
  {
   "cell_type": "code",
   "execution_count": 110,
   "id": "1dbd3c48",
   "metadata": {},
   "outputs": [
    {
     "name": "stdout",
     "output_type": "stream",
     "text": [
      "r^2: 0.020393656340805876 MAE: 0.0675932140488117 ROI lift: 1.1430388437335108 net_roi: 0.028688005166095553\n"
     ]
    }
   ],
   "source": [
    "import numpy as np\n",
    "from sklearn.preprocessing import PolynomialFeatures, StandardScaler\n",
    "from sklearn.linear_model import LinearRegression\n",
    "from sklearn.metrics import r2_score, mean_absolute_error\n",
    "\n",
    "r2 = 0 \n",
    "MAE = 0 \n",
    "ROI_lift = 0\n",
    "net_ROI = 0\n",
    "\n",
    "for train_index, test_index in kf.split(X_poly):\n",
    "    X_train, X_test = X_poly[train_index], X_poly[test_index]\n",
    "    y_train, y_test = y[train_index], y[test_index]\n",
    "\n",
    "    scaler = StandardScaler()\n",
    "    X_train = scaler.fit_transform(X_train)\n",
    "    X_test = scaler.transform(X_test)\n",
    "\n",
    "    # Replace inf values with 0\n",
    "    X_train = np.nan_to_num(X_train)\n",
    "    X_test = np.nan_to_num(X_test)\n",
    "\n",
    "    model = LinearRegression()\n",
    "    model.fit(X_train, y_train)\n",
    "    y_pred = model.predict(X_test)\n",
    "\n",
    "    r2 += r2_score(y_test, y_pred)\n",
    "    MAE += mean_absolute_error(y_test, y_pred)\n",
    "    net_ROI += y_test[y_pred >= 0.02].mean()\n",
    "    ROI_lift += y_test[y_pred >= 0.02].mean() / ROI_grades\n",
    "    \n",
    "\n",
    "print(\"r^2:\", r2/5, \"MAE:\", MAE/5, \"ROI lift:\", ROI_lift/5,\"net_roi:\",net_ROI/5)\n",
    " "
   ]
  },
  {
   "cell_type": "code",
   "execution_count": 111,
   "id": "67a4c1e7",
   "metadata": {},
   "outputs": [],
   "source": [
    "# r2 = 0 \n",
    "# MAE = 0 \n",
    "# ROI_lift = 0\n",
    "# net_ROI = 0\n",
    "\n",
    "# # lets try some combinations \n",
    "\n",
    "# poly = PolynomialFeatures(2)\n",
    "\n",
    "# X_poly = poly.fit_transform(X)\n",
    "# for train_index, test_index in kf.split(X_poly):\n",
    "    \n",
    "#     X_train, X_test = X_poly[train_index], X_poly[test_index]\n",
    "#     y_train, y_test = y[train_index], y[test_index]\n",
    "    \n",
    "#     X_test = X_test - X_test.mean(axis=0)/X_test.std(axis=0)\n",
    "#     X_train = X_train - X_train.mean(axis=0)/X_train.std(axis=0)\n",
    "\n",
    "#     model = LinearRegression()\n",
    "#     model.fit(X_train,y_train)\n",
    "\n",
    "#     y_pred = model.predict(X_test)\n",
    "\n",
    "#     r2 += r2_score(y_test,y_pred)\n",
    "#     MAE += mean_absolute_error(y_test,y_pred)\n",
    "#     ROI_lift += y_test[y_pred >= 0.02].mean()/ROI_grades\n",
    "\n",
    "# print(\"r^2:\",r2/5,\"MAE:\",MAE/5,\"ROI lift:\",ROI_lift/5)"
   ]
  },
  {
   "cell_type": "code",
   "execution_count": 112,
   "id": "b7dced6f",
   "metadata": {},
   "outputs": [],
   "source": [
    "def limit_outlier_iqr(X):\n",
    "    Q1 = np.percentile(X, 25)\n",
    "    Q3 = np.percentile(X, 75)\n",
    "    IQR=Q3-Q1\n",
    "    lower_bound = Q1 - 1.5 * IQR\n",
    "    upper_bound = Q3 + 1.5 * IQR\n",
    "    \n",
    "    X_clipped = np.clip(X, lower_bound, upper_bound)\n",
    "\n",
    "    return X_clipped"
   ]
  },
  {
   "cell_type": "code",
   "execution_count": 113,
   "id": "ef592e8d",
   "metadata": {},
   "outputs": [
    {
     "name": "stdout",
     "output_type": "stream",
     "text": [
      "r^2: 0.02264188568852219 MAE: 0.06756144919081794 ROI lift: 1.132510946125894 net_roi: 0.02842377584212181\n"
     ]
    }
   ],
   "source": [
    "# 1.5 IQR method for limit outliaers \n",
    "X_limited = limit_outlier_iqr(X)\n",
    "\n",
    "r2 = 0 \n",
    "MAE = 0 \n",
    "ROI_lift = 0\n",
    "net_ROI = 0\n",
    "\n",
    "for train_index, test_index in kf.split(X_limited):\n",
    "    \n",
    "    X_train, X_test = X.iloc[train_index], X.iloc[test_index]\n",
    "    y_train, y_test = y.iloc[train_index], y.iloc[test_index]\n",
    "    \n",
    "    model3 = LinearRegression()\n",
    "    model3.fit(X_train,y_train)\n",
    "\n",
    "    y_pred = model3.predict(X_test)\n",
    "\n",
    "    r2 += r2_score(y_test, y_pred)\n",
    "    MAE += mean_absolute_error(y_test, y_pred)\n",
    "    net_ROI += y_test[y_pred >= 0.02].mean()\n",
    "    ROI_lift += y_test[y_pred >= 0.02].mean() / ROI_grades\n",
    "    \n",
    "\n",
    "print(\"r^2:\", r2/5, \"MAE:\", MAE/5, \"ROI lift:\", ROI_lift/5,\"net_roi:\",net_ROI/5)\n",
    " "
   ]
  },
  {
   "cell_type": "code",
   "execution_count": 114,
   "id": "6c1407ff",
   "metadata": {},
   "outputs": [
    {
     "name": "stdout",
     "output_type": "stream",
     "text": [
      "r^2: 0.015202611082667716 MAE: 0.06816223947560586 ROI lift: 1.1356388609700359 net_roi: 0.028502280293392034\n"
     ]
    }
   ],
   "source": [
    "# 1.5 IQR method for limit outliaers \n",
    "r2 = 0 \n",
    "MAE = 0 \n",
    "ROI_lift = 0\n",
    "net_ROI = 0\n",
    "\n",
    "for train_index, test_index in kf.split(X_limited):\n",
    "    \n",
    "    X_train, X_test = X.iloc[train_index], X.iloc[test_index]\n",
    "    y_train, y_test = y.iloc[train_index], y.iloc[test_index]\n",
    "    \n",
    "    # trying z normaliztion \n",
    "\n",
    "    X_test = X_test - X_test.mean(axis=0)/X_test.std(axis=0)\n",
    "    X_train = X_train - X_train.mean(axis=0)/X_train.std(axis=0)\n",
    "\n",
    "    model3 = LinearRegression()\n",
    "    model3.fit(X_train,y_train)\n",
    "\n",
    "    y_pred = model3.predict(X_test)\n",
    "\n",
    "    r2 += r2_score(y_test, y_pred)\n",
    "    MAE += mean_absolute_error(y_test, y_pred)\n",
    "    net_ROI += y_test[y_pred >= 0.02].mean()\n",
    "    ROI_lift += y_test[y_pred >= 0.02].mean() / ROI_grades\n",
    "    \n",
    "\n",
    "print(\"r^2:\", r2/5, \"MAE:\", MAE/5, \"ROI lift:\", ROI_lift/5,\"net_roi:\",net_ROI/5)\n",
    " "
   ]
  },
  {
   "cell_type": "code",
   "execution_count": 115,
   "id": "ad8405e4",
   "metadata": {},
   "outputs": [],
   "source": [
    "poly = PolynomialFeatures(2)\n",
    "\n",
    "X_poly_limited_selected = poly.fit_transform(X_limited[selected_keys2])"
   ]
  },
  {
   "cell_type": "code",
   "execution_count": 116,
   "id": "16a287c8",
   "metadata": {},
   "outputs": [
    {
     "name": "stdout",
     "output_type": "stream",
     "text": [
      "r^2: 0.022502692632205834 MAE: 0.06727781374109303 ROI lift: 1.0962603759338123 net_roi: 0.027513958515575383\n"
     ]
    }
   ],
   "source": [
    "import numpy as np\n",
    "from sklearn.preprocessing import PolynomialFeatures, StandardScaler\n",
    "from sklearn.linear_model import LinearRegression\n",
    "from sklearn.metrics import r2_score, mean_absolute_error\n",
    "\n",
    "r2 = 0 \n",
    "MAE = 0 \n",
    "ROI_lift = 0\n",
    "net_ROI = 0\n",
    "\n",
    "for train_index, test_index in kf.split(X_poly_limited_selected):\n",
    "    X_train, X_test = X_poly_limited_selected[train_index], X_poly_limited_selected[test_index]\n",
    "    y_train, y_test = y[train_index], y[test_index]\n",
    "\n",
    "    scaler = StandardScaler()\n",
    "    X_train = scaler.fit_transform(X_train)\n",
    "    X_test = scaler.transform(X_test)\n",
    "\n",
    "    # Replace inf values with 0\n",
    "    X_train = np.nan_to_num(X_train)\n",
    "    X_test = np.nan_to_num(X_test)\n",
    "\n",
    "    model = LinearRegression()\n",
    "    model.fit(X_train, y_train)\n",
    "    y_pred = model.predict(X_test)\n",
    "\n",
    "    r2 += r2_score(y_test, y_pred)\n",
    "    MAE += mean_absolute_error(y_test, y_pred)\n",
    "    net_ROI += y_test[y_pred >= 0.02].mean()\n",
    "    ROI_lift += y_test[y_pred >= 0.02].mean() / ROI_grades\n",
    "    \n",
    "\n",
    "print(\"r^2:\", r2/5, \"MAE:\", MAE/5, \"ROI lift:\", ROI_lift/5,\"net_roi:\",net_ROI/5)\n",
    " "
   ]
  },
  {
   "cell_type": "code",
   "execution_count": 117,
   "id": "ec052ed4",
   "metadata": {},
   "outputs": [],
   "source": [
    "from sklearn.ensemble import AdaBoostRegressor"
   ]
  },
  {
   "cell_type": "code",
   "execution_count": 118,
   "id": "9f63d2ae",
   "metadata": {},
   "outputs": [],
   "source": [
    "from sklearn.gaussian_process import GaussianProcessRegressor"
   ]
  },
  {
   "cell_type": "code",
   "execution_count": 119,
   "id": "05eeab37",
   "metadata": {},
   "outputs": [],
   "source": [
    "from sklearn.neighbors import KNeighborsRegressor"
   ]
  },
  {
   "cell_type": "code",
   "execution_count": 120,
   "id": "80848bf0",
   "metadata": {},
   "outputs": [
    {
     "ename": "ValueError",
     "evalue": "Found input variables with inconsistent numbers of samples: [53244, 53243]",
     "output_type": "error",
     "traceback": [
      "\u001b[1;31m---------------------------------------------------------------------------\u001b[0m",
      "\u001b[1;31mValueError\u001b[0m                                Traceback (most recent call last)",
      "\u001b[1;32m~\\AppData\\Local\\Temp\\ipykernel_11948\\3129103151.py\u001b[0m in \u001b[0;36m<module>\u001b[1;34m\u001b[0m\n\u001b[0;32m      7\u001b[0m     \u001b[0mnet_ROI\u001b[0m \u001b[1;33m=\u001b[0m \u001b[0my_test\u001b[0m\u001b[1;33m[\u001b[0m\u001b[0my_pred\u001b[0m \u001b[1;33m>=\u001b[0m \u001b[1;36m0.02\u001b[0m\u001b[1;33m]\u001b[0m\u001b[1;33m.\u001b[0m\u001b[0mmean\u001b[0m\u001b[1;33m(\u001b[0m\u001b[1;33m)\u001b[0m\u001b[1;33m\u001b[0m\u001b[1;33m\u001b[0m\u001b[0m\n\u001b[0;32m      8\u001b[0m \u001b[1;33m\u001b[0m\u001b[0m\n\u001b[1;32m----> 9\u001b[1;33m     \u001b[0mprint\u001b[0m\u001b[1;33m(\u001b[0m\u001b[1;34m\"i\"\u001b[0m\u001b[1;33m,\u001b[0m\u001b[1;34m\"r^2:\"\u001b[0m\u001b[1;33m,\u001b[0m\u001b[0mr2_score\u001b[0m\u001b[1;33m(\u001b[0m\u001b[0my_val\u001b[0m\u001b[1;33m,\u001b[0m\u001b[0my_pred\u001b[0m\u001b[1;33m)\u001b[0m\u001b[1;33m,\u001b[0m\u001b[1;34m\"MAE:\"\u001b[0m\u001b[1;33m,\u001b[0m\u001b[0mmean_absolute_error\u001b[0m\u001b[1;33m(\u001b[0m\u001b[0my_val\u001b[0m\u001b[1;33m,\u001b[0m\u001b[0my_pred\u001b[0m\u001b[1;33m)\u001b[0m\u001b[1;33m,\u001b[0m\u001b[1;34m\"ROI lift:\"\u001b[0m\u001b[1;33m,\u001b[0m\u001b[0my_val\u001b[0m\u001b[1;33m[\u001b[0m\u001b[0my_pred\u001b[0m \u001b[1;33m>=\u001b[0m \u001b[1;36m0.02\u001b[0m\u001b[1;33m]\u001b[0m\u001b[1;33m.\u001b[0m\u001b[0mmean\u001b[0m\u001b[1;33m(\u001b[0m\u001b[1;33m)\u001b[0m\u001b[1;33m/\u001b[0m\u001b[0mROI_grades\u001b[0m\u001b[1;33m,\u001b[0m\u001b[1;34m\"net roi:\"\u001b[0m\u001b[1;33m,\u001b[0m\u001b[0mnet_ROI\u001b[0m\u001b[1;33m)\u001b[0m\u001b[1;33m\u001b[0m\u001b[1;33m\u001b[0m\u001b[0m\n\u001b[0m\u001b[0;32m     10\u001b[0m \u001b[1;33m\u001b[0m\u001b[0m\n\u001b[0;32m     11\u001b[0m \u001b[1;33m\u001b[0m\u001b[0m\n",
      "\u001b[1;32m~\\anaconda3\\lib\\site-packages\\sklearn\\metrics\\_regression.py\u001b[0m in \u001b[0;36mr2_score\u001b[1;34m(y_true, y_pred, sample_weight, multioutput)\u001b[0m\n\u001b[0;32m    787\u001b[0m     \u001b[1;33m-\u001b[0m\u001b[1;36m3.0\u001b[0m\u001b[1;33m\u001b[0m\u001b[1;33m\u001b[0m\u001b[0m\n\u001b[0;32m    788\u001b[0m     \"\"\"\n\u001b[1;32m--> 789\u001b[1;33m     y_type, y_true, y_pred, multioutput = _check_reg_targets(\n\u001b[0m\u001b[0;32m    790\u001b[0m         \u001b[0my_true\u001b[0m\u001b[1;33m,\u001b[0m \u001b[0my_pred\u001b[0m\u001b[1;33m,\u001b[0m \u001b[0mmultioutput\u001b[0m\u001b[1;33m\u001b[0m\u001b[1;33m\u001b[0m\u001b[0m\n\u001b[0;32m    791\u001b[0m     )\n",
      "\u001b[1;32m~\\anaconda3\\lib\\site-packages\\sklearn\\metrics\\_regression.py\u001b[0m in \u001b[0;36m_check_reg_targets\u001b[1;34m(y_true, y_pred, multioutput, dtype)\u001b[0m\n\u001b[0;32m     92\u001b[0m         \u001b[0mthe\u001b[0m \u001b[0mdtype\u001b[0m \u001b[0margument\u001b[0m \u001b[0mpassed\u001b[0m \u001b[0mto\u001b[0m \u001b[0mcheck_array\u001b[0m\u001b[1;33m.\u001b[0m\u001b[1;33m\u001b[0m\u001b[1;33m\u001b[0m\u001b[0m\n\u001b[0;32m     93\u001b[0m     \"\"\"\n\u001b[1;32m---> 94\u001b[1;33m     \u001b[0mcheck_consistent_length\u001b[0m\u001b[1;33m(\u001b[0m\u001b[0my_true\u001b[0m\u001b[1;33m,\u001b[0m \u001b[0my_pred\u001b[0m\u001b[1;33m)\u001b[0m\u001b[1;33m\u001b[0m\u001b[1;33m\u001b[0m\u001b[0m\n\u001b[0m\u001b[0;32m     95\u001b[0m     \u001b[0my_true\u001b[0m \u001b[1;33m=\u001b[0m \u001b[0mcheck_array\u001b[0m\u001b[1;33m(\u001b[0m\u001b[0my_true\u001b[0m\u001b[1;33m,\u001b[0m \u001b[0mensure_2d\u001b[0m\u001b[1;33m=\u001b[0m\u001b[1;32mFalse\u001b[0m\u001b[1;33m,\u001b[0m \u001b[0mdtype\u001b[0m\u001b[1;33m=\u001b[0m\u001b[0mdtype\u001b[0m\u001b[1;33m)\u001b[0m\u001b[1;33m\u001b[0m\u001b[1;33m\u001b[0m\u001b[0m\n\u001b[0;32m     96\u001b[0m     \u001b[0my_pred\u001b[0m \u001b[1;33m=\u001b[0m \u001b[0mcheck_array\u001b[0m\u001b[1;33m(\u001b[0m\u001b[0my_pred\u001b[0m\u001b[1;33m,\u001b[0m \u001b[0mensure_2d\u001b[0m\u001b[1;33m=\u001b[0m\u001b[1;32mFalse\u001b[0m\u001b[1;33m,\u001b[0m \u001b[0mdtype\u001b[0m\u001b[1;33m=\u001b[0m\u001b[0mdtype\u001b[0m\u001b[1;33m)\u001b[0m\u001b[1;33m\u001b[0m\u001b[1;33m\u001b[0m\u001b[0m\n",
      "\u001b[1;32m~\\anaconda3\\lib\\site-packages\\sklearn\\utils\\validation.py\u001b[0m in \u001b[0;36mcheck_consistent_length\u001b[1;34m(*arrays)\u001b[0m\n\u001b[0;32m    330\u001b[0m     \u001b[0muniques\u001b[0m \u001b[1;33m=\u001b[0m \u001b[0mnp\u001b[0m\u001b[1;33m.\u001b[0m\u001b[0munique\u001b[0m\u001b[1;33m(\u001b[0m\u001b[0mlengths\u001b[0m\u001b[1;33m)\u001b[0m\u001b[1;33m\u001b[0m\u001b[1;33m\u001b[0m\u001b[0m\n\u001b[0;32m    331\u001b[0m     \u001b[1;32mif\u001b[0m \u001b[0mlen\u001b[0m\u001b[1;33m(\u001b[0m\u001b[0muniques\u001b[0m\u001b[1;33m)\u001b[0m \u001b[1;33m>\u001b[0m \u001b[1;36m1\u001b[0m\u001b[1;33m:\u001b[0m\u001b[1;33m\u001b[0m\u001b[1;33m\u001b[0m\u001b[0m\n\u001b[1;32m--> 332\u001b[1;33m         raise ValueError(\n\u001b[0m\u001b[0;32m    333\u001b[0m             \u001b[1;34m\"Found input variables with inconsistent numbers of samples: %r\"\u001b[0m\u001b[1;33m\u001b[0m\u001b[1;33m\u001b[0m\u001b[0m\n\u001b[0;32m    334\u001b[0m             \u001b[1;33m%\u001b[0m \u001b[1;33m[\u001b[0m\u001b[0mint\u001b[0m\u001b[1;33m(\u001b[0m\u001b[0ml\u001b[0m\u001b[1;33m)\u001b[0m \u001b[1;32mfor\u001b[0m \u001b[0ml\u001b[0m \u001b[1;32min\u001b[0m \u001b[0mlengths\u001b[0m\u001b[1;33m]\u001b[0m\u001b[1;33m\u001b[0m\u001b[1;33m\u001b[0m\u001b[0m\n",
      "\u001b[1;31mValueError\u001b[0m: Found input variables with inconsistent numbers of samples: [53244, 53243]"
     ]
    }
   ],
   "source": [
    "for n in range(3,50,5):\n",
    "\n",
    "    knn_model_simple = KNeighborsRegressor(n_neighbors=n)\n",
    "    knn_model_simple.fit(X_train,y_train)\n",
    "    y_pred = knn_model_simple.predict(X_test)\n",
    "    \n",
    "    net_ROI = y_test[y_pred >= 0.02].mean()\n",
    "\n",
    "    print(\"i\",\"r^2:\",r2_score(y_val,y_pred),\"MAE:\",mean_absolute_error(y_val,y_pred),\"ROI lift:\",y_val[y_pred >= 0.02].mean()/ROI_grades,\"net roi:\",net_ROI)\n",
    "\n",
    "    "
   ]
  },
  {
   "cell_type": "code",
   "execution_count": null,
   "id": "73f6925a",
   "metadata": {},
   "outputs": [],
   "source": [
    "knn_model_simple = KNeighborsRegressor(n_neighbors=5)\n",
    "knn_model_simple.fit(X_train,y_train)\n",
    "y_pred = knn_model_simple.predict(X_test)\n",
    "        \n",
    "net_ROI = y_test[y_pred >= 0.02].mean()\n",
    "\n",
    "print(\"i\",\"r^2:\",r2_score(y_val,y_pred),\"MAE:\",mean_absolute_error(y_val,y_pred),\"ROI lift:\",y_val[y_pred >= 0.02].mean()/ROI_grades,\"net roi:\",net_ROI)\n"
   ]
  },
  {
   "cell_type": "code",
   "execution_count": null,
   "id": "7e78f74d",
   "metadata": {},
   "outputs": [],
   "source": [
    "from skl"
   ]
  },
  {
   "cell_type": "code",
   "execution_count": 166,
   "id": "8a34ec5d",
   "metadata": {},
   "outputs": [
    {
     "name": "stdout",
     "output_type": "stream",
     "text": [
      "r^2: 1.0 MAE: 3.1352172993102575e-12 ROI lift: 0.0226748526338039 net_roi: 5.69093774078844\n"
     ]
    }
   ],
   "source": [
    "from sklearn.model_selection import KFold\n",
    "\n",
    "k = 5  \n",
    "kf = KFold(n_splits=k, shuffle=True, random_state=99)\n",
    "y100 = y*100\n",
    "ROI_grades = ROI_grades*100\n",
    "r2 = 0 \n",
    "MAE = 0 \n",
    "ROI_lift = 0\n",
    "net_ROI = 0\n",
    "\n",
    "for train_index, test_index in kf.split(X):\n",
    "    \n",
    "    X_train, X_test = X.iloc[train_index], X.iloc[test_index]\n",
    "    y_train, y_test = y100.iloc[train_index], y100.iloc[test_index]\n",
    "    table = \n",
    "    # later use (needs to add months)\n",
    "    #amounts = payments[test_index]\n",
    "    \n",
    "    model = LinearRegression()\n",
    "    model.fit(X_train,y_train)\n",
    "    \n",
    "    y_pred = model.predict(X_test)\n",
    "    \n",
    "    r2 += r2_score(y_test,y_pred)\n",
    "    MAE += mean_absolute_error(y_test,y_pred)\n",
    "    \n",
    "    ROI_lift += y_test[y_pred >= 2].mean()/ROI_grades\n",
    "    net_ROI += y_test[y_pred >= 2].mean()\n",
    "\n",
    "print(\"r^2:\", r2/5, \"MAE:\", MAE/5, \"ROI lift:\", ROI_lift/5,\"net_roi:\",net_ROI/5)\n"
   ]
  },
  {
   "cell_type": "code",
   "execution_count": null,
   "id": "c56edd76",
   "metadata": {},
   "outputs": [],
   "source": [
    "len(selected_keys)"
   ]
  },
  {
   "cell_type": "code",
   "execution_count": null,
   "id": "3c63c792",
   "metadata": {},
   "outputs": [],
   "source": [
    "len(selected_keys2)"
   ]
  },
  {
   "cell_type": "code",
   "execution_count": null,
   "id": "792bdd24",
   "metadata": {},
   "outputs": [],
   "source": []
  },
  {
   "cell_type": "code",
   "execution_count": null,
   "id": "28b693c6",
   "metadata": {},
   "outputs": [],
   "source": []
  },
  {
   "cell_type": "code",
   "execution_count": null,
   "id": "dda11d41",
   "metadata": {},
   "outputs": [],
   "source": []
  },
  {
   "cell_type": "code",
   "execution_count": null,
   "id": "50aeaa46",
   "metadata": {},
   "outputs": [],
   "source": []
  },
  {
   "cell_type": "code",
   "execution_count": null,
   "id": "76c3f4ef",
   "metadata": {},
   "outputs": [],
   "source": []
  }
 ],
 "metadata": {
  "kernelspec": {
   "display_name": "Python 3 (ipykernel)",
   "language": "python",
   "name": "python3"
  },
  "language_info": {
   "codemirror_mode": {
    "name": "ipython",
    "version": 3
   },
   "file_extension": ".py",
   "mimetype": "text/x-python",
   "name": "python",
   "nbconvert_exporter": "python",
   "pygments_lexer": "ipython3",
   "version": "3.9.13"
  }
 },
 "nbformat": 4,
 "nbformat_minor": 5
}
