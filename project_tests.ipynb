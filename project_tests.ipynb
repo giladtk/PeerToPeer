{
 "cells": [
  {
   "cell_type": "code",
   "execution_count": 1,
   "id": "4271dd90",
   "metadata": {},
   "outputs": [],
   "source": [
    "import numpy as np\n",
    "import pandas as pd \n",
    "import os\n",
    "import seaborn as sns"
   ]
  },
  {
   "cell_type": "code",
   "execution_count": 2,
   "id": "3d20bb2f",
   "metadata": {},
   "outputs": [],
   "source": [
    "# DOWNLOAD DATA\n",
    "os.chdir(r'G:\\My Drive\\שנה ב\\שנה ב סמסטר ב\\פרויקט דאטא\\Analytics-Based Project_\\y2019')\n",
    "Q1_19 = pd.read_csv(\"Q1_2019.csv\",low_memory=False)\n",
    "Q2_19 = pd.read_csv(\"Q2_2019.csv\",low_memory=False)\n",
    "Q3_19 = pd.read_csv(\"Q3_2019.csv\",low_memory=False)\n",
    "Q4_19 = pd.read_csv(\"Q4_2019.csv\",low_memory=False)"
   ]
  },
  {
   "cell_type": "code",
   "execution_count": 3,
   "id": "855a1a38",
   "metadata": {},
   "outputs": [],
   "source": [
    "# DOWNLOAD DATA\n",
    "os.chdir(r\"G:\\My Drive\\שנה ב\\שנה ב סמסטר ב\\פרויקט דאטא\\Analytics-Based Project_\\y2019\")\n",
    "Q1_18 = pd.read_csv(\"Q1_2018.csv\",low_memory=False)\n",
    "Q2_18 = pd.read_csv(\"Q2_2018.csv\",low_memory=False)\n",
    "Q3_18 = pd.read_csv(\"Q3_2018.csv\",low_memory=False)\n",
    "Q4_18 = pd.read_csv(\"Q4_2018.csv\",low_memory=False)"
   ]
  },
  {
   "cell_type": "code",
   "execution_count": 4,
   "id": "411c2557",
   "metadata": {},
   "outputs": [],
   "source": [
    "# create a QURTER column maybe it has some good information\n",
    "Q1_18[\"Qrtr\"] = 1\n",
    "Q2_18[\"Qrtr\"] = 2\n",
    "Q3_18[\"Qrtr\"] = 3\n",
    "Q4_18[\"Qrtr\"] = 4\n",
    "Q1_19[\"Qrtr\"] = 1\n",
    "Q2_19[\"Qrtr\"] = 2\n",
    "Q3_19[\"Qrtr\"] = 3\n",
    "Q4_19[\"Qrtr\"] = 4"
   ]
  },
  {
   "cell_type": "code",
   "execution_count": 5,
   "id": "9b7bff2d",
   "metadata": {},
   "outputs": [
    {
     "data": {
      "text/plain": [
       "((133891, 152), (97858, 152), (99124, 152), (103550, 152))"
      ]
     },
     "execution_count": 5,
     "metadata": {},
     "output_type": "execute_result"
    }
   ],
   "source": [
    "Q1_18.shape,Q2_18.shape,Q3_18.shape,Q4_18.shape"
   ]
  },
  {
   "cell_type": "code",
   "execution_count": 6,
   "id": "90e9d805",
   "metadata": {},
   "outputs": [
    {
     "data": {
      "text/plain": [
       "((133891, 151), (97858, 151), (99124, 151), (103550, 151))"
      ]
     },
     "execution_count": 6,
     "metadata": {},
     "output_type": "execute_result"
    }
   ],
   "source": [
    "Q1_19.shape,Q2_19.shape,Q3_19.shape,Q4_19.shape"
   ]
  },
  {
   "cell_type": "code",
   "execution_count": 7,
   "id": "11b8a92c",
   "metadata": {},
   "outputs": [],
   "source": [
    "# making 2 big Date Frames\n",
    "all_year_19 = pd.concat([Q1_19,Q2_19,Q3_19,Q4_19])\n",
    "all_year_18 = pd.concat([Q1_18,Q2_18,Q3_18,Q4_18])"
   ]
  },
  {
   "cell_type": "code",
   "execution_count": 8,
   "id": "746441ea",
   "metadata": {},
   "outputs": [
    {
     "name": "stdout",
     "output_type": "stream",
     "text": [
      "Columns missing in one of the dataframes:\n",
      "Column 'disbursement_method' is missing in 'all_year_19'\n"
     ]
    }
   ],
   "source": [
    "# Get a list of columns in each dataframe\n",
    "cols_18 = set(all_year_18.columns)\n",
    "cols_19 = set(all_year_19.columns)\n",
    "\n",
    "# Find columns that are in one dataframe but not the other\n",
    "missing_cols = [col for col in cols_18.symmetric_difference(cols_19)]\n",
    "\n",
    "# Print the missing columns, if any\n",
    "if missing_cols:\n",
    "    print(\"Columns missing in one of the dataframes:\")\n",
    "    for col in missing_cols:\n",
    "        if col in cols_18:\n",
    "            print(f\"Column '{col}' is missing in 'all_year_19'\")\n",
    "        else:\n",
    "            print(f\"Column '{col}' is missing in 'all_year_18'\")\n",
    "else:\n",
    "    print(\"All columns match between the two dataframes.\")"
   ]
  },
  {
   "cell_type": "code",
   "execution_count": 9,
   "id": "f132816b",
   "metadata": {},
   "outputs": [],
   "source": [
    "# !!! check with ERAN if 'disbursement_method' is not a data leakage to combine it back to the 2019 / use 2018 !!!\n",
    "all_year_18 =  all_year_18.drop(columns='disbursement_method')"
   ]
  },
  {
   "cell_type": "code",
   "execution_count": 10,
   "id": "b58bcb55",
   "metadata": {},
   "outputs": [
    {
     "data": {
      "image/png": "[encoded data removed]",
      "text/plain": [
       "<Figure size 640x480 with 1 Axes>"
      ]
     },
     "metadata": {},
     "output_type": "display_data"
    }
   ],
   "source": [
    "import matplotlib.pyplot as plt\n",
    "import pandas as pd\n",
    "\n",
    "# Calculate the percentage of missing values in each column\n",
    "na_percentages = all_year_18.isna().sum() / len(all_year_18)\n",
    "\n",
    "# Create a histogram of the distribution of missing value percentages\n",
    "plt.hist(na_percentages, bins=20, range=(0, 1))\n",
    "\n",
    "# Add labels and a title to the plot\n",
    "plt.xlabel(\"Percentage of missing values\")\n",
    "plt.ylabel(\"Frequency\")\n",
    "plt.title(\"Distribution of missing value percentages\")\n",
    "\n",
    "# Display the plot\n",
    "plt.show()\n"
   ]
  },
  {
   "cell_type": "code",
   "execution_count": 11,
   "id": "47b5a37c",
   "metadata": {},
   "outputs": [],
   "source": [
    "to_drop_feat = all_year_18.columns[na_percentages >= 0.9]\n",
    "to_test_feat = all_year_18.columns[(na_percentages >= 0.2) & (na_percentages < 0.9)]\n",
    "to_take_feat = all_year_18.columns[na_percentages < 0.2]"
   ]
  },
  {
   "cell_type": "code",
   "execution_count": 12,
   "id": "fccc30eb",
   "metadata": {},
   "outputs": [
    {
     "data": {
      "text/plain": [
       "(Index(['mths_since_last_delinq', 'mths_since_last_record', 'next_pymnt_d',\n",
       "        'mths_since_last_major_derog', 'mths_since_recent_bc_dlq',\n",
       "        'mths_since_recent_revol_delinq'],\n",
       "       dtype='object'),\n",
       " 38,\n",
       " 107)"
      ]
     },
     "execution_count": 12,
     "metadata": {},
     "output_type": "execute_result"
    }
   ],
   "source": [
    "to_test_feat,len(to_drop_feat),len(to_take_feat)"
   ]
  },
  {
   "cell_type": "code",
   "execution_count": 13,
   "id": "6dd56b4e",
   "metadata": {},
   "outputs": [
    {
     "data": {
      "text/plain": [
       "1.0"
      ]
     },
     "execution_count": 13,
     "metadata": {},
     "output_type": "execute_result"
    }
   ],
   "source": [
    "# all colums match the same order\n",
    "sum(all_year_18.columns == all_year_19.columns)/len(all_year_18.columns)"
   ]
  },
  {
   "cell_type": "code",
   "execution_count": 14,
   "id": "0ac7ea44",
   "metadata": {},
   "outputs": [
    {
     "ename": "TypeError",
     "evalue": "'<' not supported between instances of 'float' and 'str'",
     "output_type": "error",
     "traceback": [
      "\u001b[1;31m---------------------------------------------------------------------------\u001b[0m",
      "\u001b[1;31mTypeError\u001b[0m                                 Traceback (most recent call last)",
      "\u001b[1;32m~\\AppData\\Local\\Temp\\ipykernel_23388\\3088622680.py\u001b[0m in \u001b[0;36m<module>\u001b[1;34m\u001b[0m\n\u001b[0;32m      1\u001b[0m \u001b[1;31m# check for matching id to start\u001b[0m\u001b[1;33m\u001b[0m\u001b[1;33m\u001b[0m\u001b[0m\n\u001b[1;32m----> 2\u001b[1;33m \u001b[0mprint\u001b[0m\u001b[1;33m(\u001b[0m\u001b[0msorted\u001b[0m\u001b[1;33m(\u001b[0m\u001b[0mQ1_19\u001b[0m\u001b[1;33m.\u001b[0m\u001b[0mid\u001b[0m\u001b[1;33m)\u001b[0m\u001b[1;33m[\u001b[0m\u001b[1;36m0\u001b[0m\u001b[1;33m:\u001b[0m\u001b[1;36m5\u001b[0m\u001b[1;33m]\u001b[0m\u001b[1;33m,\u001b[0m\u001b[0msorted\u001b[0m\u001b[1;33m(\u001b[0m\u001b[0mQ1_18\u001b[0m\u001b[1;33m.\u001b[0m\u001b[0mid\u001b[0m\u001b[1;33m)\u001b[0m\u001b[1;33m[\u001b[0m\u001b[1;36m0\u001b[0m\u001b[1;33m:\u001b[0m\u001b[1;36m5\u001b[0m\u001b[1;33m]\u001b[0m\u001b[1;33m)\u001b[0m\u001b[1;33m\u001b[0m\u001b[1;33m\u001b[0m\u001b[0m\n\u001b[0m\u001b[0;32m      3\u001b[0m \u001b[0mprint\u001b[0m\u001b[1;33m(\u001b[0m\u001b[0msorted\u001b[0m\u001b[1;33m(\u001b[0m\u001b[0mQ1_19\u001b[0m\u001b[1;33m.\u001b[0m\u001b[0mid\u001b[0m\u001b[1;33m)\u001b[0m\u001b[1;33m==\u001b[0m\u001b[0msorted\u001b[0m\u001b[1;33m(\u001b[0m\u001b[0mQ1_18\u001b[0m\u001b[1;33m.\u001b[0m\u001b[0mid\u001b[0m\u001b[1;33m)\u001b[0m\u001b[1;33m)\u001b[0m\u001b[1;33m\u001b[0m\u001b[1;33m\u001b[0m\u001b[0m\n\u001b[0;32m      4\u001b[0m \u001b[0mprint\u001b[0m\u001b[1;33m(\u001b[0m\u001b[0msorted\u001b[0m\u001b[1;33m(\u001b[0m\u001b[0mQ2_19\u001b[0m\u001b[1;33m.\u001b[0m\u001b[0mid\u001b[0m\u001b[1;33m)\u001b[0m\u001b[1;33m[\u001b[0m\u001b[1;36m0\u001b[0m\u001b[1;33m:\u001b[0m\u001b[1;36m5\u001b[0m\u001b[1;33m]\u001b[0m\u001b[1;33m,\u001b[0m\u001b[0msorted\u001b[0m\u001b[1;33m(\u001b[0m\u001b[0mQ2_18\u001b[0m\u001b[1;33m.\u001b[0m\u001b[0mid\u001b[0m\u001b[1;33m)\u001b[0m\u001b[1;33m[\u001b[0m\u001b[1;36m0\u001b[0m\u001b[1;33m:\u001b[0m\u001b[1;36m5\u001b[0m\u001b[1;33m]\u001b[0m\u001b[1;33m)\u001b[0m\u001b[1;33m\u001b[0m\u001b[1;33m\u001b[0m\u001b[0m\n\u001b[0;32m      5\u001b[0m \u001b[0mprint\u001b[0m\u001b[1;33m(\u001b[0m\u001b[0msorted\u001b[0m\u001b[1;33m(\u001b[0m\u001b[0mQ2_19\u001b[0m\u001b[1;33m.\u001b[0m\u001b[0mid\u001b[0m\u001b[1;33m)\u001b[0m\u001b[1;33m==\u001b[0m\u001b[0msorted\u001b[0m\u001b[1;33m(\u001b[0m\u001b[0mQ2_18\u001b[0m\u001b[1;33m.\u001b[0m\u001b[0mid\u001b[0m\u001b[1;33m)\u001b[0m\u001b[1;33m)\u001b[0m\u001b[1;33m\u001b[0m\u001b[1;33m\u001b[0m\u001b[0m\n",
      "\u001b[1;31mTypeError\u001b[0m: '<' not supported between instances of 'float' and 'str'"
     ]
    }
   ],
   "source": [
    "# check for matching id to start \n",
    "print(sorted(Q1_19.id)[0:5],sorted(Q1_18.id)[0:5])\n",
    "print(sorted(Q1_19.id)==sorted(Q1_18.id))\n",
    "print(sorted(Q2_19.id)[0:5],sorted(Q2_18.id)[0:5])\n",
    "print(sorted(Q2_19.id)==sorted(Q2_18.id))\n",
    "print(sorted(Q3_19.id)[0:5],sorted(Q3_18.id)[0:5])\n",
    "print(sorted(Q3_19.id)==sorted(Q3_18.id))\n",
    "print(sorted(Q4_19.id)[0:5],sorted(Q4_18.id)[0:5])\n",
    "print(sorted(Q4_19.id)==sorted(Q4_18.id))"
   ]
  },
  {
   "cell_type": "code",
   "execution_count": null,
   "id": "31d51163",
   "metadata": {},
   "outputs": [],
   "source": [
    "# seeing matching id meeans we can check now for changed data with time\n",
    "list(all_year_18.sort_values(\"id\").id) == list(all_year_19.sort_values(\"id\").id) "
   ]
  },
  {
   "cell_type": "code",
   "execution_count": null,
   "id": "5b079b28",
   "metadata": {},
   "outputs": [],
   "source": [
    "# sorting all years 18 and 19 on \"ID\" \n",
    "all_year_18_sorted = all_year_18.sort_values(by=\"id\").reset_index(drop=True)\n",
    "all_year_19_sorted = all_year_19.sort_values(by=\"id\").reset_index(drop=True)\n"
   ]
  },
  {
   "cell_type": "code",
   "execution_count": null,
   "id": "d44d3e6a",
   "metadata": {},
   "outputs": [],
   "source": [
    "# ok so now we begin to compare the 18 and 19 features reltivly in to check if they change with time\n",
    "# a N/A in one of the tables (18 & 19) will resualt as a changed value so we want to cancel that\n",
    "# sum all diffrances\n",
    "changes_sum = np.sum(all_year_18_sorted != all_year_19_sorted,axis= 0)\n",
    "# sum all N/A with or condition (because it take only one to resualt as a change)\n",
    "na_sum = np.sum((all_year_18.isna()) | (all_year_19.isna()),axis=0)\n",
    "# now we want to inclood only \n",
    "unchanged_coloms = all_year_18.columns[changes_sum - na_sum <= 0.05*len(all_year_19)]\n",
    "len(unchanged_coloms)"
   ]
  },
  {
   "cell_type": "code",
   "execution_count": null,
   "id": "bf1c1dac",
   "metadata": {},
   "outputs": [],
   "source": [
    "all_year_19.columns[all_year_19.columns.isin(unchanged_coloms) == False]\n",
    "# all make sence exept -\"issue_d\". "
   ]
  },
  {
   "cell_type": "code",
   "execution_count": null,
   "id": "fbc8bd0e",
   "metadata": {},
   "outputs": [],
   "source": [
    "# lets take a look on the intersects of the time-changing and  the \"to drop\" feature group\n",
    "print(to_drop_feat.isin(unchanged_coloms))\n",
    "\n",
    "# ok we drop them from unchangaed because they are more then 90% na's \n",
    "unchanged_coloms = unchanged_coloms[unchanged_coloms.isin(to_drop_feat) == False]\n",
    "print(len(unchanged_coloms),\"now we have\",len(to_drop_feat),\"less features\")"
   ]
  },
  {
   "cell_type": "code",
   "execution_count": null,
   "id": "f1e6bab6",
   "metadata": {
    "scrolled": true
   },
   "outputs": [],
   "source": [
    "# lets take a look on the intersects of the time-changing and  \"to-test\" feature group\n",
    "print(to_test_feat.isin(unchanged_coloms))\n",
    "# looks like only one feature is changet with time - more concideration need to be done\n",
    "to_test_feat[to_test_feat.isin(unchanged_coloms)==False]"
   ]
  },
  {
   "cell_type": "code",
   "execution_count": null,
   "id": "4c6866b0",
   "metadata": {},
   "outputs": [],
   "source": [
    "# lets take a look on the intersects of the time-changing and  \"to-take\" feature group\n",
    "to_take_feat.isin(unchanged_coloms)"
   ]
  },
  {
   "cell_type": "code",
   "execution_count": null,
   "id": "82214d14",
   "metadata": {},
   "outputs": [],
   "source": [
    "# easy way unchanged colums defined as columns that thier values cahnge less then 5% \n",
    "unchanged_coloms2 = all_year_18.columns[ changes_sum  <= len(all_year_18)*0.05 ]"
   ]
  },
  {
   "cell_type": "code",
   "execution_count": null,
   "id": "bb3264d0",
   "metadata": {},
   "outputs": [],
   "source": [
    "len(unchanged_coloms2)"
   ]
  },
  {
   "cell_type": "code",
   "execution_count": null,
   "id": "64bf45b9",
   "metadata": {},
   "outputs": [],
   "source": [
    "# dropping all colums that has more then 90% missing values.\n",
    "#all_year_19 = all_year_19.drop(columns=all_year_19.columns[np.sum(all_year_19.isna(),axis= 0) >= len(all_year_19)*0.9])"
   ]
  },
  {
   "cell_type": "code",
   "execution_count": null,
   "id": "bb5751fc",
   "metadata": {},
   "outputs": [],
   "source": [
    "all_year_18 = all_year_18[all_year_18.term == \" 36 months\"]\n",
    "all_year_19 = all_year_19[all_year_19.term == \" 36 months\"]"
   ]
  },
  {
   "cell_type": "code",
   "execution_count": null,
   "id": "27298998",
   "metadata": {},
   "outputs": [],
   "source": [
    "# lets start with months vector \n",
    "all_year_19.payment_lifetime.describe()\n",
    "# for low values appiring by missing date (start or finish) \n",
    "# i assing max time (36 months ) for all negative values:\n",
    "## it will only hurt (lower) relised return as \n",
    "## we asuming those payments are recived as late as possible\n",
    "### values with 0 get 1 (its best to check in 18 tabbles)\n",
    "months_vector = list(round(all_year_19.payment_lifetime/30.4))\n",
    "for i in range(len(months_vector)) : \n",
    "    if months_vector[i] < 0 :\n",
    "        months_vector[i] = 36\n",
    "    # ! problem with 0 values ! change this ! \n",
    "    elif months_vector[i] == 0 : \n",
    "        months_vector[i] = 1\n",
    "    # ! problem with 0 values ! change this ! \n",
    "all_year_19[\"month\"] = months_vector"
   ]
  },
  {
   "cell_type": "code",
   "execution_count": null,
   "id": "84eec99f",
   "metadata": {},
   "outputs": [],
   "source": [
    "m = np.array(months_vector) # month from start to finish\n",
    "t = 36 # only 36 months terms\n",
    "p = np.array(all_year_19.total_pymnt) # total return\n",
    "f = np.array(all_year_19.funded_amnt) # total invesment\n",
    "i = (0.02+1)**(1/12)-1 # i = alternative reinvesment yearly rate \n",
    "i "
   ]
  },
  {
   "cell_type": "code",
   "execution_count": null,
   "id": "27169ed9",
   "metadata": {},
   "outputs": [],
   "source": [
    "realised = (((1/f) * ( ( (p/m)*( (1-(1+i)**m) / (1-(1+i)) ) ) * (1+i)**(t-m) - f ))+1)**(12/t)-1"
   ]
  },
  {
   "cell_type": "code",
   "execution_count": null,
   "id": "7e9c20be",
   "metadata": {},
   "outputs": [],
   "source": [
    "# that was monthly - now ajusting for yearly\n",
    "#all_year_19[\"rlsd_rtrn\"] = (realised+1)**12 -1\n",
    "all_year_19[\"rlsd_rtrn\"] = realised"
   ]
  },
  {
   "cell_type": "code",
   "execution_count": null,
   "id": "a80fd72c",
   "metadata": {
    "scrolled": true
   },
   "outputs": [],
   "source": [
    "all_year_19.rlsd_rtrn.describe()"
   ]
  },
  {
   "cell_type": "code",
   "execution_count": null,
   "id": "8f3161eb",
   "metadata": {},
   "outputs": [],
   "source": [
    "\n",
    "all_year_19[\"worst_rlsd\"] = (((p-f)/f)*(12/t)+1)**12 -1 "
   ]
  },
  {
   "cell_type": "code",
   "execution_count": null,
   "id": "91fadacf",
   "metadata": {},
   "outputs": [],
   "source": [
    "all_year_19[\"worst_rlsd\"].describe()"
   ]
  },
  {
   "cell_type": "code",
   "execution_count": null,
   "id": "fbb6f5c1",
   "metadata": {},
   "outputs": [],
   "source": [
    "# we want to check for \n",
    "all_year_19[all_year_19.rlsd_rtrn >= 0.2][[\"grade\",\"funded_amnt\",\"total_pymnt\",\"month\",\"loan_status\",\"rlsd_rtrn\",\"worst_rlsd\"]]"
   ]
  },
  {
   "cell_type": "code",
   "execution_count": null,
   "id": "eb442bfe",
   "metadata": {},
   "outputs": [],
   "source": [
    "all_year_19[all_year_19.worst_rlsd <= -0.99][[\"grade\",\"funded_amnt\",\"total_pymnt\",\"month\",\"loan_status\",\"rlsd_rtrn\",\"worst_rlsd\"]]"
   ]
  },
  {
   "cell_type": "code",
   "execution_count": null,
   "id": "6794e23d",
   "metadata": {},
   "outputs": [],
   "source": [
    "# to inspect lets look on all features taken into account in the calculation\n",
    "colcol = [\"grade\",\"funded_amnt\",\"total_pymnt\",\"month\",\"loan_status\",\"rlsd_rtrn\",\"worst_rlsd\",\"issue_d\",\"last_pymnt_d\"]"
   ]
  },
  {
   "cell_type": "code",
   "execution_count": null,
   "id": "3d92f41b",
   "metadata": {},
   "outputs": [],
   "source": [
    "# lets check this loan - as a loan that needed to have a large negative return \n",
    "all_year_19[np.isclose(all_year_19.rlsd_rtrn,-0.32107)][colcol]"
   ]
  },
  {
   "cell_type": "code",
   "execution_count": null,
   "id": "7bc7b8c4",
   "metadata": {},
   "outputs": [],
   "source": [
    "# with ERAN 3rd calc : -0.32107     !#! too high !#!\n",
    "# with ERAN 1st calc : -0.990523\n",
    "print(\"regular irr:\",npf.irr([-25525]+[887.11/2]*2))\n",
    "print(\"mirr 1:\",npf.mirr([-25525]+[887.11/2]*2,finance_rate=(0.02+1)**12-1,reinvest_rate=(0.02+1)**12-1))\n",
    "print(\"mirr 2:\",npf.mirr([-25525]+[887.11/2]*2,finance_rate=0,reinvest_rate=(0.02+1)**12-1))\n",
    "\n",
    "print(\"if we put all investment in stoks & bonds:\",(25525*(((0.02+1)**12)-1)**2+1)/25525)"
   ]
  },
  {
   "cell_type": "code",
   "execution_count": null,
   "id": "2e59e976",
   "metadata": {},
   "outputs": [],
   "source": [
    "print(npf.irr([-12000]+[15437.028100]*37))\n",
    "print(npf.mirr([-12000]+[15437.028100]*37,finance_rate=0,reinvest_rate= (0.02+1)**12-1))\n",
    "print((12000*(1+0.2)**3-12000)/12000)"
   ]
  },
  {
   "cell_type": "code",
   "execution_count": null,
   "id": "cda0500d",
   "metadata": {},
   "outputs": [],
   "source": [
    "# WTF is going here? its -100%. \n",
    "all_year_19[np.isclose(all_year_19.total_pymnt,0)][colcol]"
   ]
  },
  {
   "cell_type": "code",
   "execution_count": null,
   "id": "b6e86be9",
   "metadata": {},
   "outputs": [],
   "source": [
    "# lets make a corralation matrix\n",
    "all_year_19_corr = all_year_19.corr()\n",
    "all_year_19_corr"
   ]
  },
  {
   "cell_type": "code",
   "execution_count": null,
   "id": "1c0d2218",
   "metadata": {},
   "outputs": [],
   "source": [
    "# we want to check feature with correlation to realised return\n",
    "all_year_19_corr[\"rlsd_rtrn\"][all_year_19_corr[\"rlsd_rtrn\"].abs() < 0.01]"
   ]
  },
  {
   "cell_type": "code",
   "execution_count": null,
   "id": "71001c1e",
   "metadata": {},
   "outputs": [],
   "source": [
    "all_year_19_corr[\"rlsd_rtrn\"][all_year_19_corr[\"rlsd_rtrn\"].abs() > 0.05]"
   ]
  },
  {
   "cell_type": "code",
   "execution_count": null,
   "id": "46a194a7",
   "metadata": {},
   "outputs": [],
   "source": [
    "all_year_19[unchanged_coloms].info()\n",
    "# we can see there is 31 features that are not numeric - needs to either split them to dummy's or assing numeric values\n"
   ]
  },
  {
   "cell_type": "code",
   "execution_count": null,
   "id": "2127dbd7",
   "metadata": {},
   "outputs": [],
   "source": [
    "# these are all the categoraial featurs that are not 90% na and not changed with time\n",
    "all_year_19.select_dtypes(include=\"object\").columns[all_year_19.select_dtypes(include=\"object\").columns.isin(unchanged_coloms)]"
   ]
  },
  {
   "cell_type": "code",
   "execution_count": null,
   "id": "e33d513a",
   "metadata": {},
   "outputs": [],
   "source": [
    "# ajust all na to a copy \n",
    "test18 = all_year_18_sorted.copy()\n",
    "test19 = all_year_19_sorted.copy()"
   ]
  },
  {
   "cell_type": "code",
   "execution_count": null,
   "id": "76e18eb2",
   "metadata": {},
   "outputs": [],
   "source": [
    "# fill with a fixed uniqe value \n",
    "test18 = test18.fillna(value=\"flopopo\")\n",
    "test19 = test19.fillna(value=\"flopopo\")"
   ]
  },
  {
   "cell_type": "code",
   "execution_count": null,
   "id": "a3416817",
   "metadata": {},
   "outputs": [],
   "source": [
    "# get all columns that have less then 5% change\n",
    "unchanged_5_percent = all_year_19_sorted.columns[(test18 != test19).sum()<= len(all_year_19)*0.05]"
   ]
  },
  {
   "cell_type": "code",
   "execution_count": null,
   "id": "003c0f81",
   "metadata": {},
   "outputs": [],
   "source": [
    "final_cols = list(to_take_feat[to_take_feat.isin(unchanged_5_percent)])\n",
    "final_cols.append(to_test_feat[to_test_feat.isin(unchanged_5_percent)])"
   ]
  },
  {
   "cell_type": "code",
   "execution_count": null,
   "id": "c1ff7225",
   "metadata": {},
   "outputs": [],
   "source": [
    "entropies = []\n",
    "for col in all_year_19.columns:\n",
    "    freq = all_year_19[col].value_counts()\n",
    "    prob = freq / len(all_year_19[col])\n",
    "    entropy = -sum(prob * np.log2(prob))\n",
    "    entropies.append(entropy)\n",
    "\n",
    "# Create a DataFrame of variable names and entropies\n",
    "entropy_19 = pd.DataFrame({'Variable': all_year_19.columns, 'Entropy': entropies})\n",
    "entropy_19 = entropy_19.sort_values(by='Entropy', ascending=False).reset_index(drop=True)\n",
    "\n",
    "print(entropy_19)"
   ]
  },
  {
   "cell_type": "code",
   "execution_count": null,
   "id": "fdc3c89c",
   "metadata": {},
   "outputs": [],
   "source": [
    "np.quantile(entropy_19.Entropy,0.1)"
   ]
  },
  {
   "cell_type": "code",
   "execution_count": null,
   "id": "d727a00b",
   "metadata": {},
   "outputs": [],
   "source": [
    "entropy_19.Variable[(entropy_19.Entropy <= np.quantile(entropy_19.Entropy,0.8)) & (entropy_19.Entropy >= np.quantile(entropy_19.Entropy,0.1)) ]"
   ]
  },
  {
   "cell_type": "code",
   "execution_count": null,
   "id": "86e9c62d",
   "metadata": {},
   "outputs": [],
   "source": [
    "all_year_19[all_year_19.loan_status == \"Fully Paid\"][[\"int_rate\",\"funded_amnt\",\"total_pymnt\",\"recoveries\"]]"
   ]
  },
  {
   "cell_type": "code",
   "execution_count": null,
   "id": "9dec44b7",
   "metadata": {
    "scrolled": true
   },
   "outputs": [],
   "source": [
    "all_year_19_sorted[all_year_19_sorted.recoveries > 0][[\"total_rec_int\",\"funded_amnt\",\"total_pymnt\",\"recoveries\",\"loan_status\",\"installment\"]]"
   ]
  },
  {
   "cell_type": "code",
   "execution_count": null,
   "id": "e986d9d5",
   "metadata": {},
   "outputs": [],
   "source": [
    "to_take_feat[to_take_feat.isin(final_cols)][0:25]"
   ]
  },
  {
   "cell_type": "code",
   "execution_count": null,
   "id": "ac573619",
   "metadata": {
    "scrolled": true
   },
   "outputs": [],
   "source": [
    "mean_rlsd_rtrn = all_year_19[\"rlsd_rtrn\"].mean()"
   ]
  },
  {
   "cell_type": "code",
   "execution_count": null,
   "id": "c5ed3716",
   "metadata": {},
   "outputs": [],
   "source": [
    "all_year_19[all_year_19.addr_state.isna()][\"rlsd_rtrn\"].mean(),all_year_19.addr_state.isna().sum()"
   ]
  },
  {
   "cell_type": "code",
   "execution_count": null,
   "id": "fa74d63e",
   "metadata": {},
   "outputs": [],
   "source": [
    "# before replacing na's we need to see they are not affect mean realised return \n",
    "for i in all_year_19.columns : \n",
    "    n = all_year_19[i].isna().sum() \n",
    "    if n > 0 :\n",
    "        realised_return = all_year_19[all_year_19[i].isna()][\"rlsd_rtrn\"].mean()\n",
    "        if ((realised_return <= mean_rlsd_rtrn -0.005) or (realised_return>= mean_rlsd_rtrn +0.005)) :\n",
    "             print(i,realised_return,n)"
   ]
  },
  {
   "cell_type": "code",
   "execution_count": null,
   "id": "abb65e26",
   "metadata": {},
   "outputs": [],
   "source": [
    "all_year_19.application_type.value_counts()\n",
    "print(all_year_19.rlsd_rtrn[all_year_19.application_type != \"Joint App\"].mean()-all_year_19.rlsd_rtrn.mean())\n",
    "print(all_year_19.rlsd_rtrn[all_year_19.application_type == \"Joint App\"].mean()-all_year_19.rlsd_rtrn.mean())\n",
    "# low entropy and low "
   ]
  },
  {
   "cell_type": "code",
   "execution_count": null,
   "id": "a9717b4c",
   "metadata": {},
   "outputs": [],
   "source": [
    "(all_year_19.acc_now_delinq.value_counts())\n",
    "print(all_year_19.rlsd_rtrn[all_year_19.acc_now_delinq != 0].mean()-all_year_19.rlsd_rtrn.mean())\n",
    "print(all_year_19.rlsd_rtrn[all_year_19.acc_now_delinq == 0].mean()-all_year_19.rlsd_rtrn.mean())"
   ]
  },
  {
   "cell_type": "code",
   "execution_count": null,
   "id": "4edc373d",
   "metadata": {},
   "outputs": [],
   "source": [
    "print(all_year_19.rlsd_rtrn[all_year_19.chargeoff_within_12_mths != 0].mean()-all_year_19.rlsd_rtrn.mean())\n",
    "print(all_year_19.rlsd_rtrn[all_year_19.chargeoff_within_12_mths == 0].mean()-all_year_19.rlsd_rtrn.mean())\n"
   ]
  },
  {
   "cell_type": "code",
   "execution_count": 20,
   "id": "3e15d002",
   "metadata": {},
   "outputs": [
    {
     "data": {
      "text/plain": [
       "['A1',\n",
       " 'A2',\n",
       " 'A3',\n",
       " 'A4',\n",
       " 'A5',\n",
       " 'B1',\n",
       " 'B2',\n",
       " 'B3',\n",
       " 'B4',\n",
       " 'B5',\n",
       " 'C1',\n",
       " 'C2',\n",
       " 'C3',\n",
       " 'C4',\n",
       " 'C5',\n",
       " 'D1',\n",
       " 'D2',\n",
       " 'D3',\n",
       " 'D4',\n",
       " 'D5',\n",
       " 'E1',\n",
       " 'E2',\n",
       " 'E3',\n",
       " 'E4',\n",
       " 'E5',\n",
       " 'F1',\n",
       " 'F2',\n",
       " 'F3',\n",
       " 'F4',\n",
       " 'F5',\n",
       " 'G1',\n",
       " 'G2',\n",
       " 'G3',\n",
       " 'G4',\n",
       " 'G5']"
      ]
     },
     "execution_count": 20,
     "metadata": {},
     "output_type": "execute_result"
    }
   ],
   "source": [
    "sorted(all_year_18.sub_grade.unique()[0:-1])"
   ]
  },
  {
   "cell_type": "code",
   "execution_count": null,
   "id": "702a9612",
   "metadata": {},
   "outputs": [],
   "source": []
  },
  {
   "cell_type": "code",
   "execution_count": null,
   "id": "263967ad",
   "metadata": {},
   "outputs": [],
   "source": []
  },
  {
   "cell_type": "code",
   "execution_count": null,
   "id": "525ede7e",
   "metadata": {},
   "outputs": [],
   "source": []
  },
  {
   "cell_type": "code",
   "execution_count": null,
   "id": "099e8daf",
   "metadata": {},
   "outputs": [],
   "source": []
  },
  {
   "cell_type": "code",
   "execution_count": 276,
   "id": "ff014183",
   "metadata": {},
   "outputs": [
    {
     "data": {
      "text/plain": [
       "0.0     147137\n",
       "1.0     130751\n",
       "2.0      79134\n",
       "3.0      40360\n",
       "4.0      19034\n",
       "5.0       8832\n",
       "6.0       4322\n",
       "7.0       2196\n",
       "8.0       1106\n",
       "9.0        590\n",
       "10.0       343\n",
       "11.0       200\n",
       "12.0       120\n",
       "13.0        69\n",
       "14.0        49\n",
       "15.0        38\n",
       "16.0        19\n",
       "17.0        16\n",
       "18.0        12\n",
       "20.0         7\n",
       "19.0         4\n",
       "26.0         2\n",
       "21.0         2\n",
       "27.0         1\n",
       "28.0         1\n",
       "24.0         1\n",
       "Name: open_rv_12m, dtype: int64"
      ]
     },
     "execution_count": 276,
     "metadata": {},
     "output_type": "execute_result"
    }
   ],
   "source": [
    "# column check \"open_rv_12m\"\n",
    "all_year_19_sorted[\"open_rv_12m\"].value_counts()"
   ]
  },
  {
   "cell_type": "code",
   "execution_count": 278,
   "id": "40189d3a",
   "metadata": {},
   "outputs": [
    {
     "name": "stdout",
     "output_type": "stream",
     "text": [
      "total na's : 61\n",
      "delta of na : -0.005193806478884682\n",
      "0.046126327445576765\n"
     ]
    }
   ],
   "source": [
    "# # column check \"open_rv_12m\" !! DL !! \n",
    "# # Number of revolving trades opened in past 12 months\n",
    "# n = sum(all_year_19_sorted[\"open_rv_12m\"].isna())\n",
    "# print(\"total na's :\",n)\n",
    "# print(\"delta of na rlsd rtrn :\",all_year_19.rlsd_rtrn[all_year_19[\"open_rv_12m\"].isna() ].mean()-mean_rlsd_rtrn )\n",
    "# print(all_year_19[\"rlsd_rtrn\"][np.isclose(all_year_19.open_rv_12m,0)].median())\n",
    "# # with a low count and a low and simmiler mean there will be no affect on disterbution\n",
    "# fixed_value = 0"
   ]
  },
  {
   "cell_type": "code",
   "execution_count": 274,
   "id": "cddc311b",
   "metadata": {},
   "outputs": [
    {
     "name": "stdout",
     "output_type": "stream",
     "text": [
      "total na's : 44\n",
      "delta of na : -0.005193806478884682\n"
     ]
    }
   ],
   "source": [
    "# # column check \"open_rv_24m\" \n",
    "# print(\"total na's :\",sum(all_year_19[\"open_rv_24m\"].isna()))\n",
    "# print(\"delta of na rlsd rtrn :\",all_year_19.rlsd_rtrn[all_year_19[\"open_rv_24m\"].isna() ].mean()-mean_rlsd_rtrn )\n",
    "# # with a low count and a low and simmiler mean there will be no affect on disterbution\n",
    "# fixed_value = 0 "
   ]
  },
  {
   "cell_type": "code",
   "execution_count": 361,
   "id": "0b25ef31",
   "metadata": {},
   "outputs": [
    {
     "name": "stdout",
     "output_type": "stream",
     "text": [
      "total na's : 44\n",
      "delta of na rlsd rtrn : -0.005193806478884682\n"
     ]
    },
    {
     "data": {
      "text/plain": [
       "0         3789.0\n",
       "2          854.0\n",
       "3         3381.0\n",
       "4         3624.0\n",
       "5         6995.0\n",
       "           ...  \n",
       "103486    7659.0\n",
       "103489    1311.0\n",
       "103496    3716.0\n",
       "103503     782.0\n",
       "103531    5544.0\n",
       "Name: max_bal_bc, Length: 323495, dtype: float64"
      ]
     },
     "execution_count": 361,
     "metadata": {},
     "output_type": "execute_result"
    }
   ],
   "source": [
    "# # column check : \"max_bal_bc\"  !! DL !!\n",
    "\n",
    "# # description : Maximum current balance owed on all revolving accounts\n",
    "\n",
    "# ax = sns.displot(all_year_19[\"max_bal_bc\"])\n",
    "# ax.set(xlim=(all_year_19[\"max_bal_bc\"].min(), 15000))\n",
    "\n",
    "# print(\"total na's :\",sum(all_year_19[\"max_bal_bc\"].isna()))\n",
    "# print(\"delta of na rlsd rtrn :\",all_year_19.rlsd_rtrn[all_year_19[\"max_bal_bc\"].isna() ].mean()-mean_rlsd_rtrn )\n",
    "\n",
    "# # with a low count and a low and simmiler mean there will be no affect on disterbution \n",
    "# fixed_value = 0 # most freqent value\n",
    "# all_year_19[\"max_bal_bc\"] = all_year_19[\"max_bal_bc\"].fillna(fixed_value)"
   ]
  },
  {
   "cell_type": "code",
   "execution_count": 299,
   "id": "a352836f",
   "metadata": {},
   "outputs": [
    {
     "name": "stderr",
     "output_type": "stream",
     "text": [
      "C:\\Users\\GiladTK\\anaconda3\\lib\\site-packages\\seaborn\\distributions.py:2619: FutureWarning: `distplot` is a deprecated function and will be removed in a future version. Please adapt your code to use either `displot` (a figure-level function with similar flexibility) or `histplot` (an axes-level function for histograms).\n",
      "  warnings.warn(msg, FutureWarning)\n"
     ]
    },
    {
     "data": {
      "image/png": "[encoded data removed]",
      "text/plain": [
       "<Figure size 640x480 with 1 Axes>"
      ]
     },
     "metadata": {},
     "output_type": "display_data"
    }
   ],
   "source": [
    "# column check \"all_util\"\n",
    "ax = sns.distplot(all_year_19[\"all_util\"])\n",
    "# looks normal :) "
   ]
  },
  {
   "cell_type": "code",
   "execution_count": null,
   "id": "d3971dc2",
   "metadata": {},
   "outputs": [],
   "source": []
  },
  {
   "cell_type": "code",
   "execution_count": null,
   "id": "7c6cd80f",
   "metadata": {},
   "outputs": [],
   "source": []
  },
  {
   "cell_type": "code",
   "execution_count": 362,
   "id": "3e9baee1",
   "metadata": {},
   "outputs": [
    {
     "name": "stdout",
     "output_type": "stream",
     "text": [
      "total na's : 62\n",
      "delta of na rlsd rtrn : 0.0011885033364149866\n"
     ]
    }
   ],
   "source": [
    "# column check \"all_util\"\n",
    "# Description: Balance to credit limit on all trades\n",
    "\n",
    "ax = sns.distplot(all_year_19[\"all_util\"])\n",
    "\n",
    "\n",
    "print(\"total na's :\",sum(all_year_19[\"all_util\"].isna()))\n",
    "print(\"delta of na rlsd rtrn :\",all_year_19.rlsd_rtrn[all_year_19[\"all_util\"].isna() ].mean()-mean_rlsd_rtrn )\n",
    "\n",
    "# with a low count and a low and simmiler mean there will be no affect on disterbution\n",
    "fixed_value = all_year_19[\"all_util\"].mean() #mean of normal disterbution\n",
    "\n",
    "# filling na\n",
    "all_year_19[\"all_util\"] =  all_year_19[\"all_util\"].fillna(fixed_value)"
   ]
  },
  {
   "cell_type": "code",
   "execution_count": null,
   "id": "9d375602",
   "metadata": {},
   "outputs": [],
   "source": []
  },
  {
   "cell_type": "code",
   "execution_count": null,
   "id": "00931e16",
   "metadata": {},
   "outputs": [],
   "source": []
  },
  {
   "cell_type": "code",
   "execution_count": 365,
   "id": "a774e549",
   "metadata": {
    "scrolled": true
   },
   "outputs": [
    {
     "name": "stderr",
     "output_type": "stream",
     "text": [
      "C:\\Users\\GiladTK\\anaconda3\\lib\\site-packages\\seaborn\\_decorators.py:36: FutureWarning: Pass the following variable as a keyword arg: x. From version 0.12, the only valid positional argument will be `data`, and passing other arguments without an explicit keyword will result in an error or misinterpretation.\n",
      "  warnings.warn(\n"
     ]
    },
    {
     "name": "stdout",
     "output_type": "stream",
     "text": [
      "0.0    174940\n",
      "1.0     74592\n",
      "2.0     36598\n",
      "3.0     17953\n",
      "4.0      8783\n",
      "Name: inq_fi, dtype: int64\n",
      "total na's : 44\n",
      "delta of na rlsd rtrn : -0.005193806478884682\n"
     ]
    },
    {
     "data": {
      "image/png": "[encoded data removed]",
      "text/plain": [
       "<Figure size 640x480 with 1 Axes>"
      ]
     },
     "metadata": {},
     "output_type": "display_data"
    }
   ],
   "source": [
    "# # column check \"inq_fi\" \n",
    "# # Maximum current balance owed on all revolving accounts\n",
    "\n",
    "# sns.boxplot(all_year_19[\"inq_fi\"])\n",
    "\n",
    "# print(all_year_19[\"inq_fi\"].value_counts().head())\n",
    "\n",
    "\n",
    "\n",
    "# print(\"total na's :\",sum(all_year_19[\"inq_fi\"].isna()))\n",
    "# print(\"delta of na rlsd rtrn :\",all_year_19.rlsd_rtrn[all_year_19[\"inq_fi\"].isna() ].mean()-mean_rlsd_rtrn )\n",
    "\n",
    "# # with a low count and a low and simmiler mean there will be no affect on disterbution\n",
    "# fixed_value = 0 # most frequent value\n",
    "\n",
    "# all_year_19[\"inq_fi\"] =  all_year_19[\"inq_fi\"].fillna(fixed_value)"
   ]
  },
  {
   "cell_type": "code",
   "execution_count": 366,
   "id": "39d0e100",
   "metadata": {},
   "outputs": [
    {
     "name": "stderr",
     "output_type": "stream",
     "text": [
      "C:\\Users\\GiladTK\\anaconda3\\lib\\site-packages\\seaborn\\distributions.py:2619: FutureWarning: `distplot` is a deprecated function and will be removed in a future version. Please adapt your code to use either `displot` (a figure-level function with similar flexibility) or `histplot` (an axes-level function for histograms).\n",
      "  warnings.warn(msg, FutureWarning)\n"
     ]
    },
    {
     "data": {
      "text/plain": [
       "<AxesSubplot:xlabel='total_cu_tl', ylabel='Density'>"
      ]
     },
     "execution_count": 366,
     "metadata": {},
     "output_type": "execute_result"
    },
    {
     "data": {
      "image/png": "[encoded data removed]",
      "text/plain": [
       "<Figure size 640x480 with 1 Axes>"
      ]
     },
     "metadata": {},
     "output_type": "display_data"
    }
   ],
   "source": [
    "# column check \"total_cu_tl\"\n",
    "all_year_19[\"total_cu_tl\"].value_counts().head()\n",
    "sns.boxplot(all_year_19[\"total_cu_tl\"])\n",
    "# long right tail"
   ]
  },
  {
   "cell_type": "code",
   "execution_count": null,
   "id": "998b3a6e",
   "metadata": {},
   "outputs": [],
   "source": []
  },
  {
   "cell_type": "code",
   "execution_count": null,
   "id": "2b3a9f3a",
   "metadata": {},
   "outputs": [],
   "source": []
  },
  {
   "cell_type": "code",
   "execution_count": 325,
   "id": "928e6256",
   "metadata": {},
   "outputs": [
    {
     "name": "stdout",
     "output_type": "stream",
     "text": [
      "total na's : 44\n",
      "delta of na : -0.005193806478884682\n"
     ]
    }
   ],
   "source": [
    "# column check \"total_cu_tl\"\n",
    "# Number of finance trades\n",
    "\n",
    "print(all_year_19[\"total_cu_tl\"].value_counts().head())\n",
    "sns.boxplot(all_year_19[\"total_cu_tl\"])\n",
    "\n",
    "print(\"total na's :\",sum(all_year_19[\"total_cu_tl\"].isna()))\n",
    "print(\"delta of na rlsd rtrn :\",all_year_19.rlsd_rtrn[all_year_19[\"total_cu_tl\"].isna() ].mean()-mean_rlsd_rtrn )\n",
    "\n",
    "# with a low count and a low and simmiler mean there will be no affect on disterbution\n",
    "\n",
    "fixed_value = 0 # most frequent value\n",
    "all_year_19[\"total_cu_tl\"] =  all_year_19[\"total_cu_tl\"].fillna(fixed_value)"
   ]
  },
  {
   "cell_type": "code",
   "execution_count": null,
   "id": "f53b6541",
   "metadata": {},
   "outputs": [],
   "source": []
  },
  {
   "cell_type": "code",
   "execution_count": null,
   "id": "8bd742b8",
   "metadata": {},
   "outputs": [],
   "source": []
  },
  {
   "cell_type": "code",
   "execution_count": 336,
   "id": "f60c8d08",
   "metadata": {},
   "outputs": [
    {
     "name": "stderr",
     "output_type": "stream",
     "text": [
      "C:\\Users\\GiladTK\\anaconda3\\lib\\site-packages\\seaborn\\_decorators.py:36: FutureWarning: Pass the following variable as a keyword arg: x. From version 0.12, the only valid positional argument will be `data`, and passing other arguments without an explicit keyword will result in an error or misinterpretation.\n",
      "  warnings.warn(\n"
     ]
    },
    {
     "data": {
      "text/plain": [
       "<AxesSubplot:xlabel='inq_last_12m'>"
      ]
     },
     "execution_count": 336,
     "metadata": {},
     "output_type": "execute_result"
    },
    {
     "data": {
      "image/png": "[encoded data removed]",
      "text/plain": [
       "<Figure size 640x480 with 1 Axes>"
      ]
     },
     "metadata": {},
     "output_type": "display_data"
    }
   ],
   "source": [
    "# # column check \"inq_last_12m\" !! DL !!\n",
    "# # Number of credit inquiries in past 12 months\n",
    "# all_year_19[\"inq_last_12m\"].value_counts()\n",
    "\n",
    "# sns.boxplot(all_year_19[\"inq_last_12m\"])\n",
    "# # long right tail"
   ]
  },
  {
   "cell_type": "code",
   "execution_count": 342,
   "id": "99301f32",
   "metadata": {},
   "outputs": [
    {
     "name": "stdout",
     "output_type": "stream",
     "text": [
      "total na's : 44\n",
      "delta of na : -0.005193806478884682\n"
     ]
    }
   ],
   "source": [
    "# # column check \"inq_last_12m\" !! DL !! \n",
    "# # Number of credit inquiries in past 12 months\n",
    "# print(\"total na's :\",sum(all_year_19[\"inq_last_12m\"].isna()))\n",
    "# print(\"delta of na rlsd rtrn :\",all_year_19.rlsd_rtrn[all_year_19[\"inq_last_12m\"].isna() ].mean()-mean_rlsd_rtrn )\n",
    "# # with a low count and a low and simmiler mean there will be no affect on disterbution\n",
    "# fixed_value = 0 # most frequent value"
   ]
  },
  {
   "cell_type": "code",
   "execution_count": 346,
   "id": "a58cade4",
   "metadata": {},
   "outputs": [
    {
     "name": "stderr",
     "output_type": "stream",
     "text": [
      "C:\\Users\\GiladTK\\anaconda3\\lib\\site-packages\\seaborn\\distributions.py:2619: FutureWarning: `distplot` is a deprecated function and will be removed in a future version. Please adapt your code to use either `displot` (a figure-level function with similar flexibility) or `histplot` (an axes-level function for histograms).\n",
      "  warnings.warn(msg, FutureWarning)\n"
     ]
    },
    {
     "data": {
      "text/plain": [
       "<AxesSubplot:xlabel='bc_open_to_buy', ylabel='Density'>"
      ]
     },
     "execution_count": 346,
     "metadata": {},
     "output_type": "execute_result"
    },
    {
     "data": {
      "image/png": "[encoded data removed]",
      "text/plain": [
       "<Figure size 640x480 with 1 Axes>"
      ]
     },
     "metadata": {},
     "output_type": "display_data"
    }
   ],
   "source": [
    "# column check \"bc_open_to_buy\" \n",
    "# Total open to buy on revolving bankcards\n",
    "all_year_19[\"bc_open_to_buy\"].value_counts()\n",
    "sns.distplot(all_year_19[\"bc_open_to_buy\"])\n",
    "# long right tail"
   ]
  },
  {
   "cell_type": "code",
   "execution_count": null,
   "id": "1729e15b",
   "metadata": {},
   "outputs": [],
   "source": []
  },
  {
   "cell_type": "code",
   "execution_count": null,
   "id": "7dae298b",
   "metadata": {},
   "outputs": [],
   "source": []
  },
  {
   "cell_type": "code",
   "execution_count": 367,
   "id": "9a94dd59",
   "metadata": {},
   "outputs": [
    {
     "name": "stderr",
     "output_type": "stream",
     "text": [
      "C:\\Users\\GiladTK\\anaconda3\\lib\\site-packages\\seaborn\\distributions.py:2619: FutureWarning: `distplot` is a deprecated function and will be removed in a future version. Please adapt your code to use either `displot` (a figure-level function with similar flexibility) or `histplot` (an axes-level function for histograms).\n",
      "  warnings.warn(msg, FutureWarning)\n"
     ]
    },
    {
     "name": "stdout",
     "output_type": "stream",
     "text": [
      "total na's : 3756\n",
      "delta of na rlsd rtrn : 0.001456027097261222\n"
     ]
    },
    {
     "data": {
      "image/png": "[encoded data removed]",
      "text/plain": [
       "<Figure size 640x480 with 1 Axes>"
      ]
     },
     "metadata": {},
     "output_type": "display_data"
    }
   ],
   "source": [
    "# column check \"bc_open_to_buy\"\n",
    "# Total open to buy on revolving bankcards\n",
    "\n",
    "sns.distplot(all_year_19[\"bc_open_to_buy\"])\n",
    "\n",
    "print(\"total na's :\",sum(all_year_19[\"bc_open_to_buy\"].isna()))\n",
    "print(\"delta of na rlsd rtrn :\",all_year_19.rlsd_rtrn[all_year_19[\"bc_open_to_buy\"].isna() ].mean()-mean_rlsd_rtrn )\n",
    "\n",
    "# with a low diffrande in mean and an understanding an NA represent the abesence of information we can fill with 0\n",
    "\n",
    "fixed_value = 0 # most frequent value\n",
    "all_year_19[\"bc_open_to_buy\"] =  all_year_19[\"bc_open_to_buy\"].fillna(fixed_value)"
   ]
  },
  {
   "cell_type": "code",
   "execution_count": null,
   "id": "acc8733d",
   "metadata": {},
   "outputs": [],
   "source": []
  },
  {
   "cell_type": "code",
   "execution_count": null,
   "id": "3b6b97fc",
   "metadata": {},
   "outputs": [],
   "source": []
  },
  {
   "cell_type": "code",
   "execution_count": 350,
   "id": "a8bc0d8b",
   "metadata": {},
   "outputs": [
    {
     "name": "stderr",
     "output_type": "stream",
     "text": [
      "C:\\Users\\GiladTK\\anaconda3\\lib\\site-packages\\seaborn\\distributions.py:2619: FutureWarning: `distplot` is a deprecated function and will be removed in a future version. Please adapt your code to use either `displot` (a figure-level function with similar flexibility) or `histplot` (an axes-level function for histograms).\n",
      "  warnings.warn(msg, FutureWarning)\n"
     ]
    },
    {
     "data": {
      "text/plain": [
       "<AxesSubplot:xlabel='bc_util', ylabel='Density'>"
      ]
     },
     "execution_count": 350,
     "metadata": {},
     "output_type": "execute_result"
    },
    {
     "data": {
      "image/png": "[encoded data removed]",
      "text/plain": [
       "<Figure size 640x480 with 1 Axes>"
      ]
     },
     "metadata": {},
     "output_type": "display_data"
    }
   ],
   "source": [
    "# column check \"bc_util\" \n",
    "# Ratio of total current balance to high credit/credit limit for all bankcard accounts.all_year_19[\"bc_open_to_buy\"].value_counts()\n",
    "sns.distplot(all_year_19[\"bc_util\"])\n",
    "# odd distebution"
   ]
  },
  {
   "cell_type": "code",
   "execution_count": 368,
   "id": "6bc74840",
   "metadata": {},
   "outputs": [
    {
     "name": "stderr",
     "output_type": "stream",
     "text": [
      "C:\\Users\\GiladTK\\anaconda3\\lib\\site-packages\\seaborn\\distributions.py:2619: FutureWarning: `distplot` is a deprecated function and will be removed in a future version. Please adapt your code to use either `displot` (a figure-level function with similar flexibility) or `histplot` (an axes-level function for histograms).\n",
      "  warnings.warn(msg, FutureWarning)\n"
     ]
    },
    {
     "name": "stdout",
     "output_type": "stream",
     "text": [
      "total na's : 3913\n",
      "delta of na rlsd rtrn : 0.0010277113954722424\n"
     ]
    },
    {
     "data": {
      "image/png": "[encoded data removed]",
      "text/plain": [
       "<Figure size 640x480 with 1 Axes>"
      ]
     },
     "metadata": {},
     "output_type": "display_data"
    }
   ],
   "source": [
    "# column check \"bc_util\" \n",
    "\n",
    "# Ratio of total current balance to high credit/credit limit for all bankcard accounts\n",
    "\n",
    "all_year_19[\"bc_open_to_buy\"].value_counts()\n",
    "\n",
    "sns.distplot(all_year_19[\"bc_util\"])\n",
    "\n",
    "print(\"total na's :\",sum(all_year_19[\"bc_util\"].isna()))\n",
    "print(\"delta of na rlsd rtrn :\",all_year_19.rlsd_rtrn[all_year_19[\"bc_util\"].isna() ].mean()-mean_rlsd_rtrn )\n",
    "\n",
    "# an na here might oocur from a 0 in the denomintor since its ratio\n",
    "\n",
    "fixed_value = 0 # most frequent value\n",
    "all_year_19[\"bc_util\"] =  all_year_19[\"bc_util\"].fillna(fixed_value)"
   ]
  },
  {
   "cell_type": "code",
   "execution_count": 353,
   "id": "c0a6f783",
   "metadata": {},
   "outputs": [
    {
     "name": "stderr",
     "output_type": "stream",
     "text": [
      "C:\\Users\\GiladTK\\anaconda3\\lib\\site-packages\\seaborn\\distributions.py:2619: FutureWarning: `distplot` is a deprecated function and will be removed in a future version. Please adapt your code to use either `displot` (a figure-level function with similar flexibility) or `histplot` (an axes-level function for histograms).\n",
      "  warnings.warn(msg, FutureWarning)\n"
     ]
    },
    {
     "data": {
      "text/plain": [
       "<AxesSubplot:xlabel='mo_sin_old_il_acct', ylabel='Density'>"
      ]
     },
     "execution_count": 353,
     "metadata": {},
     "output_type": "execute_result"
    },
    {
     "data": {
      "image/png": "[encoded data removed]",
      "text/plain": [
       "<Figure size 640x480 with 1 Axes>"
      ]
     },
     "metadata": {},
     "output_type": "display_data"
    }
   ],
   "source": [
    "# column check \"mo_sin_old_il_acct\" !! DL !! \n",
    "\n",
    "# Months since oldest bank installment account opened\n",
    "sns.distplot(all_year_19[\"mo_sin_old_il_acct\"])\n"
   ]
  },
  {
   "cell_type": "code",
   "execution_count": 357,
   "id": "40cadbb2",
   "metadata": {},
   "outputs": [
    {
     "name": "stdout",
     "output_type": "stream",
     "text": [
      "total na's : 10081\n",
      "delta of na rlsd rtrn : 0.0020878304786099734\n"
     ]
    }
   ],
   "source": [
    "# column check \"mo_sin_old_il_acct\" !! DL !! \n",
    "# Months since oldest bank installment account opened\n",
    "\n",
    "print(\"total na's :\",sum(all_year_19[\"mo_sin_old_il_acct\"].isna()))\n",
    "print(\"delta of na rlsd rtrn :\",all_year_19.rlsd_rtrn[all_year_19[\"mo_sin_old_il_acct\"].isna() ].mean()-mean_rlsd_rtrn )\n",
    "# with a low diffrande in mean and an understanding an NA represent the abesence of information we can fill with 0\n",
    "fixed_value = 0 # most frequent value"
   ]
  },
  {
   "cell_type": "code",
   "execution_count": null,
   "id": "c89d1362",
   "metadata": {},
   "outputs": [],
   "source": []
  },
  {
   "cell_type": "code",
   "execution_count": null,
   "id": "787705a9",
   "metadata": {},
   "outputs": [],
   "source": []
  },
  {
   "cell_type": "code",
   "execution_count": 360,
   "id": "73f63f36",
   "metadata": {},
   "outputs": [
    {
     "name": "stdout",
     "output_type": "stream",
     "text": [
      "total na's : 3781\n",
      "delta of na rlsd rtrn : 0.0015694029041542733\n"
     ]
    },
    {
     "data": {
      "image/png": "[encoded data removed]",
      "text/plain": [
       "<Figure size 500x500 with 1 Axes>"
      ]
     },
     "metadata": {},
     "output_type": "display_data"
    }
   ],
   "source": [
    "# column check \"percent_bc_gt_75\"\n",
    "\n",
    "# Percentage of all bankcard accounts > 75% of limit.sns.distplot(all_year_19[\"mo_sin_old_il_acct\"])\n",
    "\n",
    "sns.displot(all_year_19[\"percent_bc_gt_75\"])\n",
    "\n",
    "print(\"total na's :\",sum(all_year_19[\"percent_bc_gt_75\"].isna()))\n",
    "print(\"delta of na rlsd rtrn :\",all_year_19.rlsd_rtrn[all_year_19[\"percent_bc_gt_75\"].isna() ].mean()-mean_rlsd_rtrn )\n",
    "\n",
    "# with a low diffrande in mean and an understanding an NA represent the abesence of information we can fill with 0\n",
    "\n",
    "fixed_value = 0 # most frequent value\n",
    "\n",
    "all_year_19[\"percent_bc_gt_75\"] =  all_year_19[\"percent_bc_gt_75\"].fillna(fixed_value)"
   ]
  },
  {
   "cell_type": "code",
   "execution_count": null,
   "id": "68b27a6d",
   "metadata": {},
   "outputs": [],
   "source": []
  },
  {
   "cell_type": "code",
   "execution_count": null,
   "id": "00264a8d",
   "metadata": {},
   "outputs": [],
   "source": []
  },
  {
   "cell_type": "code",
   "execution_count": null,
   "id": "38424431",
   "metadata": {},
   "outputs": [],
   "source": []
  },
  {
   "cell_type": "code",
   "execution_count": null,
   "id": "91499bbb",
   "metadata": {},
   "outputs": [],
   "source": []
  },
  {
   "cell_type": "code",
   "execution_count": null,
   "id": "1b2cf10b",
   "metadata": {},
   "outputs": [],
   "source": []
  },
  {
   "cell_type": "markdown",
   "id": "491505bc",
   "metadata": {},
   "source": [
    "# column check \"total_cu_tl\"\n",
    "# Maximum current balance owed on all revolving accounts\n",
    "print(\"total na's :\",sum(all_year_19[\"total_cu_tl\"].isna()))\n",
    "print(all_year_19.rlsd_rtrn[all_year_19[\"total_cu_tl\"].isna() ].mean())\n",
    "print(all_year_19[\"rlsd_rtrn\"][np.isclose(all_year_19[\"total_cu_tl\"],0)].mean())\n",
    "# with a low count and a low and simmiler mean there will be no affect on disterbution\n",
    "fixed_value = 0"
   ]
  },
  {
   "cell_type": "code",
   "execution_count": 375,
   "id": "45ba6d2e",
   "metadata": {},
   "outputs": [
    {
     "data": {
      "text/plain": [
       "55716       1\n",
       "352554      1\n",
       "363009      1\n",
       "364353      1\n",
       "364688      1\n",
       "           ..\n",
       "96359116    1\n",
       "96259218    1\n",
       "96259182    1\n",
       "96197965    1\n",
       "96453160    1\n",
       "Name: id, Length: 434407, dtype: int64"
      ]
     },
     "execution_count": 375,
     "metadata": {},
     "output_type": "execute_result"
    }
   ],
   "source": [
    "all_year_19_sorted.id.value_counts().sort_values()"
   ]
  },
  {
   "cell_type": "code",
   "execution_count": 384,
   "id": "82fe44a8",
   "metadata": {},
   "outputs": [
    {
     "data": {
      "text/html": [
       "<div>\n",
       "<style scoped>\n",
       "    .dataframe tbody tr th:only-of-type {\n",
       "        vertical-align: middle;\n",
       "    }\n",
       "\n",
       "    .dataframe tbody tr th {\n",
       "        vertical-align: top;\n",
       "    }\n",
       "\n",
       "    .dataframe thead th {\n",
       "        text-align: right;\n",
       "    }\n",
       "</style>\n",
       "<table border=\"1\" class=\"dataframe\">\n",
       "  <thead>\n",
       "    <tr style=\"text-align: right;\">\n",
       "      <th></th>\n",
       "      <th>id</th>\n",
       "      <th>member_id</th>\n",
       "      <th>loan_amnt</th>\n",
       "      <th>funded_amnt</th>\n",
       "      <th>funded_amnt_inv</th>\n",
       "      <th>term</th>\n",
       "      <th>int_rate</th>\n",
       "      <th>installment</th>\n",
       "      <th>grade</th>\n",
       "      <th>sub_grade</th>\n",
       "      <th>...</th>\n",
       "      <th>hardship_last_payment_amount</th>\n",
       "      <th>debt_settlement_flag</th>\n",
       "      <th>debt_settlement_flag_date</th>\n",
       "      <th>settlement_status</th>\n",
       "      <th>settlement_date</th>\n",
       "      <th>settlement_amount</th>\n",
       "      <th>settlement_percentage</th>\n",
       "      <th>settlement_term</th>\n",
       "      <th>payment_lifetime</th>\n",
       "      <th>Qrtr</th>\n",
       "    </tr>\n",
       "  </thead>\n",
       "  <tbody>\n",
       "    <tr>\n",
       "      <th>103532</th>\n",
       "      <td>89846605</td>\n",
       "      <td>NaN</td>\n",
       "      <td>15000</td>\n",
       "      <td>15000</td>\n",
       "      <td>15000.0</td>\n",
       "      <td>36 months</td>\n",
       "      <td>10.49%</td>\n",
       "      <td>487.47</td>\n",
       "      <td>B</td>\n",
       "      <td>B3</td>\n",
       "      <td>...</td>\n",
       "      <td>NaN</td>\n",
       "      <td>N</td>\n",
       "      <td>NaN</td>\n",
       "      <td>NaN</td>\n",
       "      <td>NaN</td>\n",
       "      <td>NaN</td>\n",
       "      <td>NaN</td>\n",
       "      <td>NaN</td>\n",
       "      <td>212</td>\n",
       "      <td>4</td>\n",
       "    </tr>\n",
       "    <tr>\n",
       "      <th>103500</th>\n",
       "      <td>90006838</td>\n",
       "      <td>NaN</td>\n",
       "      <td>5000</td>\n",
       "      <td>5000</td>\n",
       "      <td>5000.0</td>\n",
       "      <td>36 months</td>\n",
       "      <td>21.49%</td>\n",
       "      <td>189.64</td>\n",
       "      <td>D</td>\n",
       "      <td>D5</td>\n",
       "      <td>...</td>\n",
       "      <td>NaN</td>\n",
       "      <td>N</td>\n",
       "      <td>NaN</td>\n",
       "      <td>NaN</td>\n",
       "      <td>NaN</td>\n",
       "      <td>NaN</td>\n",
       "      <td>NaN</td>\n",
       "      <td>NaN</td>\n",
       "      <td>123</td>\n",
       "      <td>4</td>\n",
       "    </tr>\n",
       "    <tr>\n",
       "      <th>103498</th>\n",
       "      <td>89078718</td>\n",
       "      <td>NaN</td>\n",
       "      <td>2000</td>\n",
       "      <td>2000</td>\n",
       "      <td>2000.0</td>\n",
       "      <td>36 months</td>\n",
       "      <td>8.99%</td>\n",
       "      <td>63.60</td>\n",
       "      <td>B</td>\n",
       "      <td>B1</td>\n",
       "      <td>...</td>\n",
       "      <td>63.25</td>\n",
       "      <td>N</td>\n",
       "      <td>NaN</td>\n",
       "      <td>NaN</td>\n",
       "      <td>NaN</td>\n",
       "      <td>NaN</td>\n",
       "      <td>NaN</td>\n",
       "      <td>NaN</td>\n",
       "      <td>457</td>\n",
       "      <td>4</td>\n",
       "    </tr>\n",
       "    <tr>\n",
       "      <th>103488</th>\n",
       "      <td>89936581</td>\n",
       "      <td>NaN</td>\n",
       "      <td>4500</td>\n",
       "      <td>4500</td>\n",
       "      <td>4500.0</td>\n",
       "      <td>36 months</td>\n",
       "      <td>8.59%</td>\n",
       "      <td>142.25</td>\n",
       "      <td>A</td>\n",
       "      <td>A5</td>\n",
       "      <td>...</td>\n",
       "      <td>NaN</td>\n",
       "      <td>N</td>\n",
       "      <td>NaN</td>\n",
       "      <td>NaN</td>\n",
       "      <td>NaN</td>\n",
       "      <td>NaN</td>\n",
       "      <td>NaN</td>\n",
       "      <td>NaN</td>\n",
       "      <td>151</td>\n",
       "      <td>4</td>\n",
       "    </tr>\n",
       "    <tr>\n",
       "      <th>103486</th>\n",
       "      <td>90094364</td>\n",
       "      <td>NaN</td>\n",
       "      <td>4500</td>\n",
       "      <td>4500</td>\n",
       "      <td>4500.0</td>\n",
       "      <td>36 months</td>\n",
       "      <td>14.49%</td>\n",
       "      <td>154.88</td>\n",
       "      <td>C</td>\n",
       "      <td>C4</td>\n",
       "      <td>...</td>\n",
       "      <td>NaN</td>\n",
       "      <td>N</td>\n",
       "      <td>NaN</td>\n",
       "      <td>NaN</td>\n",
       "      <td>NaN</td>\n",
       "      <td>NaN</td>\n",
       "      <td>NaN</td>\n",
       "      <td>NaN</td>\n",
       "      <td>365</td>\n",
       "      <td>4</td>\n",
       "    </tr>\n",
       "    <tr>\n",
       "      <th>...</th>\n",
       "      <td>...</td>\n",
       "      <td>...</td>\n",
       "      <td>...</td>\n",
       "      <td>...</td>\n",
       "      <td>...</td>\n",
       "      <td>...</td>\n",
       "      <td>...</td>\n",
       "      <td>...</td>\n",
       "      <td>...</td>\n",
       "      <td>...</td>\n",
       "      <td>...</td>\n",
       "      <td>...</td>\n",
       "      <td>...</td>\n",
       "      <td>...</td>\n",
       "      <td>...</td>\n",
       "      <td>...</td>\n",
       "      <td>...</td>\n",
       "      <td>...</td>\n",
       "      <td>...</td>\n",
       "      <td>...</td>\n",
       "      <td>...</td>\n",
       "    </tr>\n",
       "    <tr>\n",
       "      <th>4</th>\n",
       "      <td>76042851</td>\n",
       "      <td>NaN</td>\n",
       "      <td>28000</td>\n",
       "      <td>28000</td>\n",
       "      <td>28000.0</td>\n",
       "      <td>36 months</td>\n",
       "      <td>13.67%</td>\n",
       "      <td>952.50</td>\n",
       "      <td>C</td>\n",
       "      <td>C3</td>\n",
       "      <td>...</td>\n",
       "      <td>NaN</td>\n",
       "      <td>N</td>\n",
       "      <td>NaN</td>\n",
       "      <td>NaN</td>\n",
       "      <td>NaN</td>\n",
       "      <td>NaN</td>\n",
       "      <td>NaN</td>\n",
       "      <td>NaN</td>\n",
       "      <td>761</td>\n",
       "      <td>1</td>\n",
       "    </tr>\n",
       "    <tr>\n",
       "      <th>3</th>\n",
       "      <td>75124079</td>\n",
       "      <td>NaN</td>\n",
       "      <td>35000</td>\n",
       "      <td>35000</td>\n",
       "      <td>34975.0</td>\n",
       "      <td>36 months</td>\n",
       "      <td>19.53%</td>\n",
       "      <td>1292.36</td>\n",
       "      <td>D</td>\n",
       "      <td>D5</td>\n",
       "      <td>...</td>\n",
       "      <td>NaN</td>\n",
       "      <td>N</td>\n",
       "      <td>NaN</td>\n",
       "      <td>NaN</td>\n",
       "      <td>NaN</td>\n",
       "      <td>NaN</td>\n",
       "      <td>NaN</td>\n",
       "      <td>NaN</td>\n",
       "      <td>184</td>\n",
       "      <td>1</td>\n",
       "    </tr>\n",
       "    <tr>\n",
       "      <th>2</th>\n",
       "      <td>75728761</td>\n",
       "      <td>NaN</td>\n",
       "      <td>7500</td>\n",
       "      <td>7500</td>\n",
       "      <td>7500.0</td>\n",
       "      <td>36 months</td>\n",
       "      <td>12.99%</td>\n",
       "      <td>252.67</td>\n",
       "      <td>C</td>\n",
       "      <td>C2</td>\n",
       "      <td>...</td>\n",
       "      <td>NaN</td>\n",
       "      <td>N</td>\n",
       "      <td>NaN</td>\n",
       "      <td>NaN</td>\n",
       "      <td>NaN</td>\n",
       "      <td>NaN</td>\n",
       "      <td>NaN</td>\n",
       "      <td>NaN</td>\n",
       "      <td>214</td>\n",
       "      <td>1</td>\n",
       "    </tr>\n",
       "    <tr>\n",
       "      <th>1</th>\n",
       "      <td>75973849</td>\n",
       "      <td>NaN</td>\n",
       "      <td>5900</td>\n",
       "      <td>5900</td>\n",
       "      <td>5900.0</td>\n",
       "      <td>36 months</td>\n",
       "      <td>11.99%</td>\n",
       "      <td>195.94</td>\n",
       "      <td>C</td>\n",
       "      <td>C1</td>\n",
       "      <td>...</td>\n",
       "      <td>NaN</td>\n",
       "      <td>N</td>\n",
       "      <td>NaN</td>\n",
       "      <td>NaN</td>\n",
       "      <td>NaN</td>\n",
       "      <td>NaN</td>\n",
       "      <td>NaN</td>\n",
       "      <td>NaN</td>\n",
       "      <td>122</td>\n",
       "      <td>1</td>\n",
       "    </tr>\n",
       "    <tr>\n",
       "      <th>0</th>\n",
       "      <td>75598350</td>\n",
       "      <td>NaN</td>\n",
       "      <td>34000</td>\n",
       "      <td>34000</td>\n",
       "      <td>34000.0</td>\n",
       "      <td>36 months</td>\n",
       "      <td>9.75%</td>\n",
       "      <td>1093.10</td>\n",
       "      <td>B</td>\n",
       "      <td>B3</td>\n",
       "      <td>...</td>\n",
       "      <td>NaN</td>\n",
       "      <td>N</td>\n",
       "      <td>NaN</td>\n",
       "      <td>NaN</td>\n",
       "      <td>NaN</td>\n",
       "      <td>NaN</td>\n",
       "      <td>NaN</td>\n",
       "      <td>NaN</td>\n",
       "      <td>275</td>\n",
       "      <td>1</td>\n",
       "    </tr>\n",
       "  </tbody>\n",
       "</table>\n",
       "<p>323495 rows × 152 columns</p>\n",
       "</div>"
      ],
      "text/plain": [
       "              id  member_id  loan_amnt  funded_amnt  funded_amnt_inv  \\\n",
       "103532  89846605        NaN      15000        15000          15000.0   \n",
       "103500  90006838        NaN       5000         5000           5000.0   \n",
       "103498  89078718        NaN       2000         2000           2000.0   \n",
       "103488  89936581        NaN       4500         4500           4500.0   \n",
       "103486  90094364        NaN       4500         4500           4500.0   \n",
       "...          ...        ...        ...          ...              ...   \n",
       "4       76042851        NaN      28000        28000          28000.0   \n",
       "3       75124079        NaN      35000        35000          34975.0   \n",
       "2       75728761        NaN       7500         7500           7500.0   \n",
       "1       75973849        NaN       5900         5900           5900.0   \n",
       "0       75598350        NaN      34000        34000          34000.0   \n",
       "\n",
       "              term int_rate  installment grade sub_grade  ...  \\\n",
       "103532   36 months   10.49%       487.47     B        B3  ...   \n",
       "103500   36 months   21.49%       189.64     D        D5  ...   \n",
       "103498   36 months    8.99%        63.60     B        B1  ...   \n",
       "103488   36 months    8.59%       142.25     A        A5  ...   \n",
       "103486   36 months   14.49%       154.88     C        C4  ...   \n",
       "...            ...      ...          ...   ...       ...  ...   \n",
       "4        36 months   13.67%       952.50     C        C3  ...   \n",
       "3        36 months   19.53%      1292.36     D        D5  ...   \n",
       "2        36 months   12.99%       252.67     C        C2  ...   \n",
       "1        36 months   11.99%       195.94     C        C1  ...   \n",
       "0        36 months    9.75%      1093.10     B        B3  ...   \n",
       "\n",
       "       hardship_last_payment_amount debt_settlement_flag  \\\n",
       "103532                          NaN                    N   \n",
       "103500                          NaN                    N   \n",
       "103498                        63.25                    N   \n",
       "103488                          NaN                    N   \n",
       "103486                          NaN                    N   \n",
       "...                             ...                  ...   \n",
       "4                               NaN                    N   \n",
       "3                               NaN                    N   \n",
       "2                               NaN                    N   \n",
       "1                               NaN                    N   \n",
       "0                               NaN                    N   \n",
       "\n",
       "       debt_settlement_flag_date  settlement_status settlement_date  \\\n",
       "103532                       NaN                NaN             NaN   \n",
       "103500                       NaN                NaN             NaN   \n",
       "103498                       NaN                NaN             NaN   \n",
       "103488                       NaN                NaN             NaN   \n",
       "103486                       NaN                NaN             NaN   \n",
       "...                          ...                ...             ...   \n",
       "4                            NaN                NaN             NaN   \n",
       "3                            NaN                NaN             NaN   \n",
       "2                            NaN                NaN             NaN   \n",
       "1                            NaN                NaN             NaN   \n",
       "0                            NaN                NaN             NaN   \n",
       "\n",
       "       settlement_amount settlement_percentage settlement_term  \\\n",
       "103532               NaN                   NaN             NaN   \n",
       "103500               NaN                   NaN             NaN   \n",
       "103498               NaN                   NaN             NaN   \n",
       "103488               NaN                   NaN             NaN   \n",
       "103486               NaN                   NaN             NaN   \n",
       "...                  ...                   ...             ...   \n",
       "4                    NaN                   NaN             NaN   \n",
       "3                    NaN                   NaN             NaN   \n",
       "2                    NaN                   NaN             NaN   \n",
       "1                    NaN                   NaN             NaN   \n",
       "0                    NaN                   NaN             NaN   \n",
       "\n",
       "       payment_lifetime Qrtr  \n",
       "103532              212    4  \n",
       "103500              123    4  \n",
       "103498              457    4  \n",
       "103488              151    4  \n",
       "103486              365    4  \n",
       "...                 ...  ...  \n",
       "4                   761    1  \n",
       "3                   184    1  \n",
       "2                   214    1  \n",
       "1                   122    1  \n",
       "0                   275    1  \n",
       "\n",
       "[323495 rows x 152 columns]"
      ]
     },
     "execution_count": 384,
     "metadata": {},
     "output_type": "execute_result"
    }
   ],
   "source": [
    "all_year_18[::-1]"
   ]
  }
 ],
 "metadata": {
  "kernelspec": {
   "display_name": "Python 3 (ipykernel)",
   "language": "python",
   "name": "python3"
  },
  "language_info": {
   "codemirror_mode": {
    "name": "ipython",
    "version": 3
   },
   "file_extension": ".py",
   "mimetype": "text/x-python",
   "name": "python",
   "nbconvert_exporter": "python",
   "pygments_lexer": "ipython3",
   "version": "3.9.13"
  }
 },
 "nbformat": 4,
 "nbformat_minor": 5
}
